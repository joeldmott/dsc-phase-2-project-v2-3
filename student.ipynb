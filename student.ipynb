{
 "cells": [
  {
   "cell_type": "markdown",
   "metadata": {},
   "source": [
    "## Final Project Submission\n",
    "\n",
    "Please fill out:\n",
    "* Student name: **Joel Mott**\n",
    "* Student pace: **self paced**\n",
    "* Scheduled project review date/time: **Feb 6, 11am CST/12pm EST**\n",
    "* Instructor name: **Abhineet Kulkarni**\n",
    "* Blog post URL:https://medium.com/@joel.mott8/enhancing-and-narrowing-linear-regression-results-with-outside-data-5f0d22c67132\n"
   ]
  },
  {
   "cell_type": "markdown",
   "metadata": {},
   "source": [
    "# I. Introduction and Business Understanding\n",
    "\n",
    "The purpose of this project is to enable a residential real estate stakeholder to make specific recommendations to families with school-age children who are considering a new home in King County, Washington. I will use public data on home sales throughout the county to offer actionable advice they may offer their clients on boith the selling and purchasing side of real estate. I go beyond home sale records to incorporate school district rankings as well.\n",
    "\n",
    "Families with children make up a large part of the market: 55% of King County residents are either below 19 years of age or are between 25-44, which means they're at either at school age or at a time when they may be parents who are looking to buy a home in a good school district https://localscape.property/#kingcountyassessor/Overview. In terms of sellers, residing in a good school district may be a reason to raise their sale price.\n",
    "\n",
    "I use linear regression modeling in order to account for various common factors that such families usually consider. Beginning with a baseline model as a benchmark, I add and refine multiple considerations until I have a model that outperforms said baseline while satisfying linear regression requirements. I conclude with a list of factors that families consider when buying a home along side each one's impact on sale price.\n",
    "\n",
    "After understanding, preparing, and modelling the data along with analyzing the results, I sum up my findings and recommendations in the README and presentation files in this repository."
   ]
  },
  {
   "cell_type": "markdown",
   "metadata": {},
   "source": [
    "# II. Data Understanding\n",
    "\n",
    "Below, I'll begin by importing the necessary libraries and original real eastate dataset. After performing some exploratory data analysis (understanding what each column means), I'll also explain how I obtained the school district rankings, or \"scores\", and what they mean. I'll then explain how exactly I incoporated those scores into the original dataset."
   ]
  },
  {
   "cell_type": "code",
   "execution_count": 1,
   "metadata": {},
   "outputs": [],
   "source": [
    "#avoiding a distracting Pandas warning that will pollute the notebook\n",
    "# with unneeded setting-with-copy alerts:\n",
    "import warnings\n",
    "from pandas.core.common import SettingWithCopyWarning\n",
    "warnings.simplefilter(action=\"ignore\", category=SettingWithCopyWarning)"
   ]
  },
  {
   "cell_type": "code",
   "execution_count": 2,
   "metadata": {},
   "outputs": [
    {
     "data": {
      "text/html": [
       "<div>\n",
       "<style scoped>\n",
       "    .dataframe tbody tr th:only-of-type {\n",
       "        vertical-align: middle;\n",
       "    }\n",
       "\n",
       "    .dataframe tbody tr th {\n",
       "        vertical-align: top;\n",
       "    }\n",
       "\n",
       "    .dataframe thead th {\n",
       "        text-align: right;\n",
       "    }\n",
       "</style>\n",
       "<table border=\"1\" class=\"dataframe\">\n",
       "  <thead>\n",
       "    <tr style=\"text-align: right;\">\n",
       "      <th></th>\n",
       "      <th>id</th>\n",
       "      <th>date</th>\n",
       "      <th>price</th>\n",
       "      <th>bedrooms</th>\n",
       "      <th>bathrooms</th>\n",
       "      <th>sqft_living</th>\n",
       "      <th>sqft_lot</th>\n",
       "      <th>floors</th>\n",
       "      <th>waterfront</th>\n",
       "      <th>view</th>\n",
       "      <th>...</th>\n",
       "      <th>grade</th>\n",
       "      <th>sqft_above</th>\n",
       "      <th>sqft_basement</th>\n",
       "      <th>yr_built</th>\n",
       "      <th>yr_renovated</th>\n",
       "      <th>zipcode</th>\n",
       "      <th>lat</th>\n",
       "      <th>long</th>\n",
       "      <th>sqft_living15</th>\n",
       "      <th>sqft_lot15</th>\n",
       "    </tr>\n",
       "  </thead>\n",
       "  <tbody>\n",
       "    <tr>\n",
       "      <th>0</th>\n",
       "      <td>7129300520</td>\n",
       "      <td>10/13/2014</td>\n",
       "      <td>221900.0</td>\n",
       "      <td>3</td>\n",
       "      <td>1.00</td>\n",
       "      <td>1180</td>\n",
       "      <td>5650</td>\n",
       "      <td>1.0</td>\n",
       "      <td>NaN</td>\n",
       "      <td>NONE</td>\n",
       "      <td>...</td>\n",
       "      <td>7 Average</td>\n",
       "      <td>1180</td>\n",
       "      <td>0.0</td>\n",
       "      <td>1955</td>\n",
       "      <td>0.0</td>\n",
       "      <td>98178</td>\n",
       "      <td>47.5112</td>\n",
       "      <td>-122.257</td>\n",
       "      <td>1340</td>\n",
       "      <td>5650</td>\n",
       "    </tr>\n",
       "    <tr>\n",
       "      <th>1</th>\n",
       "      <td>6414100192</td>\n",
       "      <td>12/9/2014</td>\n",
       "      <td>538000.0</td>\n",
       "      <td>3</td>\n",
       "      <td>2.25</td>\n",
       "      <td>2570</td>\n",
       "      <td>7242</td>\n",
       "      <td>2.0</td>\n",
       "      <td>NO</td>\n",
       "      <td>NONE</td>\n",
       "      <td>...</td>\n",
       "      <td>7 Average</td>\n",
       "      <td>2170</td>\n",
       "      <td>400.0</td>\n",
       "      <td>1951</td>\n",
       "      <td>1991.0</td>\n",
       "      <td>98125</td>\n",
       "      <td>47.7210</td>\n",
       "      <td>-122.319</td>\n",
       "      <td>1690</td>\n",
       "      <td>7639</td>\n",
       "    </tr>\n",
       "    <tr>\n",
       "      <th>2</th>\n",
       "      <td>5631500400</td>\n",
       "      <td>2/25/2015</td>\n",
       "      <td>180000.0</td>\n",
       "      <td>2</td>\n",
       "      <td>1.00</td>\n",
       "      <td>770</td>\n",
       "      <td>10000</td>\n",
       "      <td>1.0</td>\n",
       "      <td>NO</td>\n",
       "      <td>NONE</td>\n",
       "      <td>...</td>\n",
       "      <td>6 Low Average</td>\n",
       "      <td>770</td>\n",
       "      <td>0.0</td>\n",
       "      <td>1933</td>\n",
       "      <td>NaN</td>\n",
       "      <td>98028</td>\n",
       "      <td>47.7379</td>\n",
       "      <td>-122.233</td>\n",
       "      <td>2720</td>\n",
       "      <td>8062</td>\n",
       "    </tr>\n",
       "    <tr>\n",
       "      <th>3</th>\n",
       "      <td>2487200875</td>\n",
       "      <td>12/9/2014</td>\n",
       "      <td>604000.0</td>\n",
       "      <td>4</td>\n",
       "      <td>3.00</td>\n",
       "      <td>1960</td>\n",
       "      <td>5000</td>\n",
       "      <td>1.0</td>\n",
       "      <td>NO</td>\n",
       "      <td>NONE</td>\n",
       "      <td>...</td>\n",
       "      <td>7 Average</td>\n",
       "      <td>1050</td>\n",
       "      <td>910.0</td>\n",
       "      <td>1965</td>\n",
       "      <td>0.0</td>\n",
       "      <td>98136</td>\n",
       "      <td>47.5208</td>\n",
       "      <td>-122.393</td>\n",
       "      <td>1360</td>\n",
       "      <td>5000</td>\n",
       "    </tr>\n",
       "    <tr>\n",
       "      <th>4</th>\n",
       "      <td>1954400510</td>\n",
       "      <td>2/18/2015</td>\n",
       "      <td>510000.0</td>\n",
       "      <td>3</td>\n",
       "      <td>2.00</td>\n",
       "      <td>1680</td>\n",
       "      <td>8080</td>\n",
       "      <td>1.0</td>\n",
       "      <td>NO</td>\n",
       "      <td>NONE</td>\n",
       "      <td>...</td>\n",
       "      <td>8 Good</td>\n",
       "      <td>1680</td>\n",
       "      <td>0.0</td>\n",
       "      <td>1987</td>\n",
       "      <td>0.0</td>\n",
       "      <td>98074</td>\n",
       "      <td>47.6168</td>\n",
       "      <td>-122.045</td>\n",
       "      <td>1800</td>\n",
       "      <td>7503</td>\n",
       "    </tr>\n",
       "  </tbody>\n",
       "</table>\n",
       "<p>5 rows × 21 columns</p>\n",
       "</div>"
      ],
      "text/plain": [
       "           id        date     price  bedrooms  bathrooms  sqft_living  \\\n",
       "0  7129300520  10/13/2014  221900.0         3       1.00         1180   \n",
       "1  6414100192   12/9/2014  538000.0         3       2.25         2570   \n",
       "2  5631500400   2/25/2015  180000.0         2       1.00          770   \n",
       "3  2487200875   12/9/2014  604000.0         4       3.00         1960   \n",
       "4  1954400510   2/18/2015  510000.0         3       2.00         1680   \n",
       "\n",
       "   sqft_lot  floors waterfront  view  ...          grade sqft_above  \\\n",
       "0      5650     1.0        NaN  NONE  ...      7 Average       1180   \n",
       "1      7242     2.0         NO  NONE  ...      7 Average       2170   \n",
       "2     10000     1.0         NO  NONE  ...  6 Low Average        770   \n",
       "3      5000     1.0         NO  NONE  ...      7 Average       1050   \n",
       "4      8080     1.0         NO  NONE  ...         8 Good       1680   \n",
       "\n",
       "   sqft_basement yr_built  yr_renovated  zipcode      lat     long  \\\n",
       "0            0.0     1955           0.0    98178  47.5112 -122.257   \n",
       "1          400.0     1951        1991.0    98125  47.7210 -122.319   \n",
       "2            0.0     1933           NaN    98028  47.7379 -122.233   \n",
       "3          910.0     1965           0.0    98136  47.5208 -122.393   \n",
       "4            0.0     1987           0.0    98074  47.6168 -122.045   \n",
       "\n",
       "   sqft_living15  sqft_lot15  \n",
       "0           1340        5650  \n",
       "1           1690        7639  \n",
       "2           2720        8062  \n",
       "3           1360        5000  \n",
       "4           1800        7503  \n",
       "\n",
       "[5 rows x 21 columns]"
      ]
     },
     "execution_count": 2,
     "metadata": {},
     "output_type": "execute_result"
    }
   ],
   "source": [
    "#Importing the needed libraries and taking a preliminary look at the dataset: \n",
    "import pandas as pd\n",
    "import numpy as np\n",
    "import matplotlib.pyplot as plt\n",
    "%matplotlib inline\n",
    "\n",
    "df = pd.read_csv(\"C:\\\\Users\\\\joelm\\\\Desktop\\\\Flatiron School\\\\Phase 2\\\\Phase 2 Labs on GitHub\\\\dsc-phase-2-project-v2-3\\\\dsc-phase-2-project-v2-3\\\\data\\\\kc_house_data.csv\")\n",
    "df.head()"
   ]
  },
  {
   "cell_type": "code",
   "execution_count": 3,
   "metadata": {},
   "outputs": [
    {
     "name": "stdout",
     "output_type": "stream",
     "text": [
      "<class 'pandas.core.frame.DataFrame'>\n",
      "RangeIndex: 21597 entries, 0 to 21596\n",
      "Data columns (total 21 columns):\n",
      " #   Column         Non-Null Count  Dtype  \n",
      "---  ------         --------------  -----  \n",
      " 0   id             21597 non-null  int64  \n",
      " 1   date           21597 non-null  object \n",
      " 2   price          21597 non-null  float64\n",
      " 3   bedrooms       21597 non-null  int64  \n",
      " 4   bathrooms      21597 non-null  float64\n",
      " 5   sqft_living    21597 non-null  int64  \n",
      " 6   sqft_lot       21597 non-null  int64  \n",
      " 7   floors         21597 non-null  float64\n",
      " 8   waterfront     19221 non-null  object \n",
      " 9   view           21534 non-null  object \n",
      " 10  condition      21597 non-null  object \n",
      " 11  grade          21597 non-null  object \n",
      " 12  sqft_above     21597 non-null  int64  \n",
      " 13  sqft_basement  21597 non-null  object \n",
      " 14  yr_built       21597 non-null  int64  \n",
      " 15  yr_renovated   17755 non-null  float64\n",
      " 16  zipcode        21597 non-null  int64  \n",
      " 17  lat            21597 non-null  float64\n",
      " 18  long           21597 non-null  float64\n",
      " 19  sqft_living15  21597 non-null  int64  \n",
      " 20  sqft_lot15     21597 non-null  int64  \n",
      "dtypes: float64(6), int64(9), object(6)\n",
      "memory usage: 3.5+ MB\n"
     ]
    }
   ],
   "source": [
    "df.info()\n",
    "#It looks like there are a few columns with missing information; we'll see whether\n",
    "# they prove relevant to our bottom line here, though."
   ]
  },
  {
   "cell_type": "markdown",
   "metadata": {},
   "source": [
    "I'm not sure what the 'grade' column means and I'm curious how the 'view' column is measured. Let's investigate those further:"
   ]
  },
  {
   "cell_type": "code",
   "execution_count": 4,
   "metadata": {},
   "outputs": [
    {
     "data": {
      "text/plain": [
       "7 Average        8974\n",
       "8 Good           6065\n",
       "9 Better         2615\n",
       "6 Low Average    2038\n",
       "10 Very Good     1134\n",
       "11 Excellent      399\n",
       "5 Fair            242\n",
       "12 Luxury          89\n",
       "4 Low              27\n",
       "13 Mansion         13\n",
       "3 Poor              1\n",
       "Name: grade, dtype: int64"
      ]
     },
     "execution_count": 4,
     "metadata": {},
     "output_type": "execute_result"
    }
   ],
   "source": [
    "df['grade'].value_counts()"
   ]
  },
  {
   "cell_type": "code",
   "execution_count": 5,
   "metadata": {},
   "outputs": [
    {
     "data": {
      "text/plain": [
       "NONE         19422\n",
       "AVERAGE        957\n",
       "GOOD           508\n",
       "FAIR           330\n",
       "EXCELLENT      317\n",
       "Name: view, dtype: int64"
      ]
     },
     "execution_count": 5,
     "metadata": {},
     "output_type": "execute_result"
    }
   ],
   "source": [
    "df['view'].value_counts()"
   ]
  },
  {
   "cell_type": "markdown",
   "metadata": {},
   "source": [
    "Ok, it looks like 'grade' isn't the slope of the lot, but the quality of building materials - it includes poor, low, fair, low average, average, good, better, very good, excellent, luxury, and mansion. Also, 'view' has five values - none, average, good, fair, excellent. Again, we'll see whether these pertain to our stakeholder's needs when it comes to informing families with school-age children on purchasing a home. "
   ]
  },
  {
   "cell_type": "markdown",
   "metadata": {},
   "source": [
    "# III. Data Preparation (along with some early modeling considerations):\n",
    "\n",
    "## Incoporating additional data on school districts: rationales and method\n",
    "\n",
    "Normally, outside datasets would not be incorporated before splitting the original dataset into \"training\" and \"testing\" subsets. However, in this case, the school district factors would need to be merged with the original dataset beforehand or I won't be able to split the data correctly in the first place. This shouldn't present a problem as the outside dataset on school district scores will apply to every record in the original data.\n",
    "\n",
    "Numerous online searches suggest various factors that families prioritize with their home. Besides school districts, it looks like parents often consider the number of bedrooms and having \"room to grow\" (square footage). \n",
    "\n",
    "Below, \"sds\" represents a new file I created called \"school_district_scores\", which I made in Excel and will merge with the main dataset below. I started this Excel spreadsheet with information from the King County Tax Assessor's office, where each school district in the county is listed: https://localscape.property/#kingcountyassessor/Education\n",
    "\n",
    "From there, I went to each district's page on www.zipdatamaps.com and started making the Excel spreadsheet with the district name and the zip codes it encompasses. Next, I went to www.niche.com to gather school district \"scores.\" Specifically, Niche gives districts \"grade\" scores from 1-12, which align with the following twelve possible scores: D-/D/D+/C-/C/C+/B-/B/B+/A-/A/A+.\n",
    "\n",
    "While some zip codes only align with one school district, some are zoned for multiple districts. Rather than spend countless hours going through each of those multi-district zip code home records to ensure I specified it's exact district, I took the average district score for each district in that zip code. \n",
    "\n",
    "Now that I have a spreadsheet with zip codes and district scores, I combine it with the original dataset below:"
   ]
  },
  {
   "cell_type": "code",
   "execution_count": 6,
   "metadata": {},
   "outputs": [
    {
     "data": {
      "text/html": [
       "<div>\n",
       "<style scoped>\n",
       "    .dataframe tbody tr th:only-of-type {\n",
       "        vertical-align: middle;\n",
       "    }\n",
       "\n",
       "    .dataframe tbody tr th {\n",
       "        vertical-align: top;\n",
       "    }\n",
       "\n",
       "    .dataframe thead th {\n",
       "        text-align: right;\n",
       "    }\n",
       "</style>\n",
       "<table border=\"1\" class=\"dataframe\">\n",
       "  <thead>\n",
       "    <tr style=\"text-align: right;\">\n",
       "      <th></th>\n",
       "      <th>zipcode</th>\n",
       "      <th>school_district_score</th>\n",
       "    </tr>\n",
       "  </thead>\n",
       "  <tbody>\n",
       "    <tr>\n",
       "      <th>0</th>\n",
       "      <td>98001</td>\n",
       "      <td>8</td>\n",
       "    </tr>\n",
       "    <tr>\n",
       "      <th>1</th>\n",
       "      <td>98002</td>\n",
       "      <td>9</td>\n",
       "    </tr>\n",
       "    <tr>\n",
       "      <th>2</th>\n",
       "      <td>98003</td>\n",
       "      <td>7</td>\n",
       "    </tr>\n",
       "    <tr>\n",
       "      <th>3</th>\n",
       "      <td>98004</td>\n",
       "      <td>12</td>\n",
       "    </tr>\n",
       "    <tr>\n",
       "      <th>4</th>\n",
       "      <td>98005</td>\n",
       "      <td>12</td>\n",
       "    </tr>\n",
       "    <tr>\n",
       "      <th>...</th>\n",
       "      <td>...</td>\n",
       "      <td>...</td>\n",
       "    </tr>\n",
       "    <tr>\n",
       "      <th>88</th>\n",
       "      <td>98290</td>\n",
       "      <td>7</td>\n",
       "    </tr>\n",
       "    <tr>\n",
       "      <th>89</th>\n",
       "      <td>98296</td>\n",
       "      <td>10</td>\n",
       "    </tr>\n",
       "    <tr>\n",
       "      <th>90</th>\n",
       "      <td>98323</td>\n",
       "      <td>7</td>\n",
       "    </tr>\n",
       "    <tr>\n",
       "      <th>91</th>\n",
       "      <td>98354</td>\n",
       "      <td>7</td>\n",
       "    </tr>\n",
       "    <tr>\n",
       "      <th>92</th>\n",
       "      <td>98391</td>\n",
       "      <td>8</td>\n",
       "    </tr>\n",
       "  </tbody>\n",
       "</table>\n",
       "<p>93 rows × 2 columns</p>\n",
       "</div>"
      ],
      "text/plain": [
       "    zipcode  school_district_score\n",
       "0     98001                      8\n",
       "1     98002                      9\n",
       "2     98003                      7\n",
       "3     98004                     12\n",
       "4     98005                     12\n",
       "..      ...                    ...\n",
       "88    98290                      7\n",
       "89    98296                     10\n",
       "90    98323                      7\n",
       "91    98354                      7\n",
       "92    98391                      8\n",
       "\n",
       "[93 rows x 2 columns]"
      ]
     },
     "execution_count": 6,
     "metadata": {},
     "output_type": "execute_result"
    }
   ],
   "source": [
    "#I converted the Excel spreadsheet to a CSV file and merged it with the existing DataFrame on the 'zipcode' column:\n",
    "sds = pd.read_csv(\"C:\\\\Users\\\\joelm\\\\Desktop\\\\Flatiron School\\\\Phase 2\\\\Phase 2 Labs on GitHub\\\\dsc-phase-2-project-v2-3\\\\dsc-phase-2-project-v2-3\\\\data\\\\kc_school_district_scores.csv\")\n",
    "sds"
   ]
  },
  {
   "cell_type": "code",
   "execution_count": 7,
   "metadata": {},
   "outputs": [
    {
     "data": {
      "text/plain": [
       "False"
      ]
     },
     "execution_count": 7,
     "metadata": {},
     "output_type": "execute_result"
    }
   ],
   "source": [
    "#Making sure zip codes aren't missing:\n",
    "df['zipcode'].isnull().values.any()"
   ]
  },
  {
   "cell_type": "code",
   "execution_count": 8,
   "metadata": {},
   "outputs": [
    {
     "data": {
      "text/plain": [
       "98047    1\n",
       "98101    1\n",
       "98168    1\n",
       "98158    1\n",
       "98092    1\n",
       "        ..\n",
       "98011    1\n",
       "98012    1\n",
       "98272    1\n",
       "98014    1\n",
       "98177    1\n",
       "Name: zipcode, Length: 93, dtype: int64"
      ]
     },
     "execution_count": 8,
     "metadata": {},
     "output_type": "execute_result"
    }
   ],
   "source": [
    "#Making sure I didn't duplicate any zip codes in my Excel/CSV school district scores file:\n",
    "sds['zipcode'].value_counts()"
   ]
  },
  {
   "cell_type": "code",
   "execution_count": 9,
   "metadata": {},
   "outputs": [
    {
     "data": {
      "text/html": [
       "<div>\n",
       "<style scoped>\n",
       "    .dataframe tbody tr th:only-of-type {\n",
       "        vertical-align: middle;\n",
       "    }\n",
       "\n",
       "    .dataframe tbody tr th {\n",
       "        vertical-align: top;\n",
       "    }\n",
       "\n",
       "    .dataframe thead th {\n",
       "        text-align: right;\n",
       "    }\n",
       "</style>\n",
       "<table border=\"1\" class=\"dataframe\">\n",
       "  <thead>\n",
       "    <tr style=\"text-align: right;\">\n",
       "      <th></th>\n",
       "      <th>id</th>\n",
       "      <th>date</th>\n",
       "      <th>price</th>\n",
       "      <th>bedrooms</th>\n",
       "      <th>bathrooms</th>\n",
       "      <th>sqft_living</th>\n",
       "      <th>sqft_lot</th>\n",
       "      <th>floors</th>\n",
       "      <th>waterfront</th>\n",
       "      <th>view</th>\n",
       "      <th>...</th>\n",
       "      <th>sqft_above</th>\n",
       "      <th>sqft_basement</th>\n",
       "      <th>yr_built</th>\n",
       "      <th>yr_renovated</th>\n",
       "      <th>zipcode</th>\n",
       "      <th>lat</th>\n",
       "      <th>long</th>\n",
       "      <th>sqft_living15</th>\n",
       "      <th>sqft_lot15</th>\n",
       "      <th>school_district_score</th>\n",
       "    </tr>\n",
       "  </thead>\n",
       "  <tbody>\n",
       "    <tr>\n",
       "      <th>0</th>\n",
       "      <td>7129300520</td>\n",
       "      <td>10/13/2014</td>\n",
       "      <td>221900.0</td>\n",
       "      <td>3</td>\n",
       "      <td>1.00</td>\n",
       "      <td>1180</td>\n",
       "      <td>5650</td>\n",
       "      <td>1.0</td>\n",
       "      <td>NaN</td>\n",
       "      <td>NONE</td>\n",
       "      <td>...</td>\n",
       "      <td>1180</td>\n",
       "      <td>0.0</td>\n",
       "      <td>1955</td>\n",
       "      <td>0.0</td>\n",
       "      <td>98178</td>\n",
       "      <td>47.5112</td>\n",
       "      <td>-122.257</td>\n",
       "      <td>1340</td>\n",
       "      <td>5650</td>\n",
       "      <td>8</td>\n",
       "    </tr>\n",
       "    <tr>\n",
       "      <th>1</th>\n",
       "      <td>4060000240</td>\n",
       "      <td>6/23/2014</td>\n",
       "      <td>205425.0</td>\n",
       "      <td>2</td>\n",
       "      <td>1.00</td>\n",
       "      <td>880</td>\n",
       "      <td>6780</td>\n",
       "      <td>1.0</td>\n",
       "      <td>NO</td>\n",
       "      <td>NONE</td>\n",
       "      <td>...</td>\n",
       "      <td>880</td>\n",
       "      <td>0.0</td>\n",
       "      <td>1945</td>\n",
       "      <td>0.0</td>\n",
       "      <td>98178</td>\n",
       "      <td>47.5009</td>\n",
       "      <td>-122.248</td>\n",
       "      <td>1190</td>\n",
       "      <td>6780</td>\n",
       "      <td>8</td>\n",
       "    </tr>\n",
       "    <tr>\n",
       "      <th>2</th>\n",
       "      <td>4058801670</td>\n",
       "      <td>7/17/2014</td>\n",
       "      <td>445000.0</td>\n",
       "      <td>3</td>\n",
       "      <td>2.25</td>\n",
       "      <td>2100</td>\n",
       "      <td>8201</td>\n",
       "      <td>1.0</td>\n",
       "      <td>NaN</td>\n",
       "      <td>AVERAGE</td>\n",
       "      <td>...</td>\n",
       "      <td>1620</td>\n",
       "      <td>480.0</td>\n",
       "      <td>1967</td>\n",
       "      <td>0.0</td>\n",
       "      <td>98178</td>\n",
       "      <td>47.5091</td>\n",
       "      <td>-122.244</td>\n",
       "      <td>2660</td>\n",
       "      <td>8712</td>\n",
       "      <td>8</td>\n",
       "    </tr>\n",
       "    <tr>\n",
       "      <th>3</th>\n",
       "      <td>2976800796</td>\n",
       "      <td>9/25/2014</td>\n",
       "      <td>236000.0</td>\n",
       "      <td>3</td>\n",
       "      <td>1.00</td>\n",
       "      <td>1300</td>\n",
       "      <td>5898</td>\n",
       "      <td>1.0</td>\n",
       "      <td>NaN</td>\n",
       "      <td>NONE</td>\n",
       "      <td>...</td>\n",
       "      <td>1300</td>\n",
       "      <td>0.0</td>\n",
       "      <td>1961</td>\n",
       "      <td>NaN</td>\n",
       "      <td>98178</td>\n",
       "      <td>47.5053</td>\n",
       "      <td>-122.255</td>\n",
       "      <td>1320</td>\n",
       "      <td>7619</td>\n",
       "      <td>8</td>\n",
       "    </tr>\n",
       "    <tr>\n",
       "      <th>4</th>\n",
       "      <td>6874200960</td>\n",
       "      <td>2/27/2015</td>\n",
       "      <td>170000.0</td>\n",
       "      <td>2</td>\n",
       "      <td>1.00</td>\n",
       "      <td>860</td>\n",
       "      <td>5265</td>\n",
       "      <td>1.0</td>\n",
       "      <td>NO</td>\n",
       "      <td>NONE</td>\n",
       "      <td>...</td>\n",
       "      <td>860</td>\n",
       "      <td>0.0</td>\n",
       "      <td>1931</td>\n",
       "      <td>0.0</td>\n",
       "      <td>98178</td>\n",
       "      <td>47.5048</td>\n",
       "      <td>-122.272</td>\n",
       "      <td>1650</td>\n",
       "      <td>8775</td>\n",
       "      <td>8</td>\n",
       "    </tr>\n",
       "  </tbody>\n",
       "</table>\n",
       "<p>5 rows × 22 columns</p>\n",
       "</div>"
      ],
      "text/plain": [
       "           id        date     price  bedrooms  bathrooms  sqft_living  \\\n",
       "0  7129300520  10/13/2014  221900.0         3       1.00         1180   \n",
       "1  4060000240   6/23/2014  205425.0         2       1.00          880   \n",
       "2  4058801670   7/17/2014  445000.0         3       2.25         2100   \n",
       "3  2976800796   9/25/2014  236000.0         3       1.00         1300   \n",
       "4  6874200960   2/27/2015  170000.0         2       1.00          860   \n",
       "\n",
       "   sqft_lot  floors waterfront     view  ... sqft_above sqft_basement  \\\n",
       "0      5650     1.0        NaN     NONE  ...       1180           0.0   \n",
       "1      6780     1.0         NO     NONE  ...        880           0.0   \n",
       "2      8201     1.0        NaN  AVERAGE  ...       1620         480.0   \n",
       "3      5898     1.0        NaN     NONE  ...       1300           0.0   \n",
       "4      5265     1.0         NO     NONE  ...        860           0.0   \n",
       "\n",
       "   yr_built yr_renovated  zipcode      lat     long  sqft_living15  \\\n",
       "0      1955          0.0    98178  47.5112 -122.257           1340   \n",
       "1      1945          0.0    98178  47.5009 -122.248           1190   \n",
       "2      1967          0.0    98178  47.5091 -122.244           2660   \n",
       "3      1961          NaN    98178  47.5053 -122.255           1320   \n",
       "4      1931          0.0    98178  47.5048 -122.272           1650   \n",
       "\n",
       "   sqft_lot15  school_district_score  \n",
       "0        5650                      8  \n",
       "1        6780                      8  \n",
       "2        8712                      8  \n",
       "3        7619                      8  \n",
       "4        8775                      8  \n",
       "\n",
       "[5 rows x 22 columns]"
      ]
     },
     "execution_count": 9,
     "metadata": {},
     "output_type": "execute_result"
    }
   ],
   "source": [
    "#Joining the new CSV with X_train:\n",
    "df = df.merge(sds, how='inner', on='zipcode')\n",
    "df.head()"
   ]
  },
  {
   "cell_type": "code",
   "execution_count": 10,
   "metadata": {},
   "outputs": [
    {
     "name": "stdout",
     "output_type": "stream",
     "text": [
      "<class 'pandas.core.frame.DataFrame'>\n",
      "Int64Index: 21597 entries, 0 to 21596\n",
      "Data columns (total 22 columns):\n",
      " #   Column                 Non-Null Count  Dtype  \n",
      "---  ------                 --------------  -----  \n",
      " 0   id                     21597 non-null  int64  \n",
      " 1   date                   21597 non-null  object \n",
      " 2   price                  21597 non-null  float64\n",
      " 3   bedrooms               21597 non-null  int64  \n",
      " 4   bathrooms              21597 non-null  float64\n",
      " 5   sqft_living            21597 non-null  int64  \n",
      " 6   sqft_lot               21597 non-null  int64  \n",
      " 7   floors                 21597 non-null  float64\n",
      " 8   waterfront             19221 non-null  object \n",
      " 9   view                   21534 non-null  object \n",
      " 10  condition              21597 non-null  object \n",
      " 11  grade                  21597 non-null  object \n",
      " 12  sqft_above             21597 non-null  int64  \n",
      " 13  sqft_basement          21597 non-null  object \n",
      " 14  yr_built               21597 non-null  int64  \n",
      " 15  yr_renovated           17755 non-null  float64\n",
      " 16  zipcode                21597 non-null  int64  \n",
      " 17  lat                    21597 non-null  float64\n",
      " 18  long                   21597 non-null  float64\n",
      " 19  sqft_living15          21597 non-null  int64  \n",
      " 20  sqft_lot15             21597 non-null  int64  \n",
      " 21  school_district_score  21597 non-null  int64  \n",
      "dtypes: float64(6), int64(10), object(6)\n",
      "memory usage: 3.8+ MB\n"
     ]
    }
   ],
   "source": [
    "#Checking whether my school_district_scores somehow include any null values:\n",
    "df.info()"
   ]
  },
  {
   "cell_type": "markdown",
   "metadata": {},
   "source": [
    "## Spltting the data to preserve training and testing integrity\n",
    "\n",
    "Now that the district scores have been added into the original data, I perform a train-test-split before any variable transformations occur. This sets 75% of the data apart from the other 25%. The 75% will be used to \"train\" a model with data cleaning, modeling, and testing while I leave the other 25% completely alone. Only once the model is ready (having been trained on the first 75%), will I test it on the remaining 25%. This helps preserve the integrty of the final testing stage."
   ]
  },
  {
   "cell_type": "code",
   "execution_count": 11,
   "metadata": {},
   "outputs": [],
   "source": [
    "from sklearn.model_selection import train_test_split\n",
    "train, test = train_test_split(df)"
   ]
  },
  {
   "cell_type": "code",
   "execution_count": 12,
   "metadata": {},
   "outputs": [],
   "source": [
    "y = df[['price']]\n",
    "X = df.drop(['price'], axis=1)\n",
    "X_train, X_test, y_train, y_test = train_test_split(X, y, random_state=42)"
   ]
  },
  {
   "cell_type": "code",
   "execution_count": 13,
   "metadata": {},
   "outputs": [
    {
     "data": {
      "text/plain": [
       "(16197, 21)"
      ]
     },
     "execution_count": 13,
     "metadata": {},
     "output_type": "execute_result"
    }
   ],
   "source": [
    "X_train.shape"
   ]
  },
  {
   "cell_type": "code",
   "execution_count": 14,
   "metadata": {},
   "outputs": [
    {
     "data": {
      "text/plain": [
       "(16197, 1)"
      ]
     },
     "execution_count": 14,
     "metadata": {},
     "output_type": "execute_result"
    }
   ],
   "source": [
    "y_train.shape"
   ]
  },
  {
   "cell_type": "code",
   "execution_count": 15,
   "metadata": {},
   "outputs": [
    {
     "data": {
      "text/plain": [
       "(5400, 21)"
      ]
     },
     "execution_count": 15,
     "metadata": {},
     "output_type": "execute_result"
    }
   ],
   "source": [
    "X_test.shape"
   ]
  },
  {
   "cell_type": "code",
   "execution_count": 16,
   "metadata": {},
   "outputs": [
    {
     "data": {
      "text/plain": [
       "(5400, 1)"
      ]
     },
     "execution_count": 16,
     "metadata": {},
     "output_type": "execute_result"
    }
   ],
   "source": [
    "y_test.shape"
   ]
  },
  {
   "cell_type": "code",
   "execution_count": 17,
   "metadata": {},
   "outputs": [
    {
     "name": "stdout",
     "output_type": "stream",
     "text": [
      "<class 'pandas.core.frame.DataFrame'>\n",
      "Int64Index: 16197 entries, 6405 to 15795\n",
      "Data columns (total 21 columns):\n",
      " #   Column                 Non-Null Count  Dtype  \n",
      "---  ------                 --------------  -----  \n",
      " 0   id                     16197 non-null  int64  \n",
      " 1   date                   16197 non-null  object \n",
      " 2   bedrooms               16197 non-null  int64  \n",
      " 3   bathrooms              16197 non-null  float64\n",
      " 4   sqft_living            16197 non-null  int64  \n",
      " 5   sqft_lot               16197 non-null  int64  \n",
      " 6   floors                 16197 non-null  float64\n",
      " 7   waterfront             14410 non-null  object \n",
      " 8   view                   16151 non-null  object \n",
      " 9   condition              16197 non-null  object \n",
      " 10  grade                  16197 non-null  object \n",
      " 11  sqft_above             16197 non-null  int64  \n",
      " 12  sqft_basement          16197 non-null  object \n",
      " 13  yr_built               16197 non-null  int64  \n",
      " 14  yr_renovated           13307 non-null  float64\n",
      " 15  zipcode                16197 non-null  int64  \n",
      " 16  lat                    16197 non-null  float64\n",
      " 17  long                   16197 non-null  float64\n",
      " 18  sqft_living15          16197 non-null  int64  \n",
      " 19  sqft_lot15             16197 non-null  int64  \n",
      " 20  school_district_score  16197 non-null  int64  \n",
      "dtypes: float64(5), int64(10), object(6)\n",
      "memory usage: 2.7+ MB\n"
     ]
    }
   ],
   "source": [
    "X_train.info()"
   ]
  },
  {
   "cell_type": "markdown",
   "metadata": {},
   "source": [
    "## Exploring what correlates the most with sale price\n",
    "\n",
    "Below, I use a 'heatmap' which shows the extent to which each column in our data correlates with the one we're most interested in: sale price. "
   ]
  },
  {
   "cell_type": "code",
   "execution_count": 18,
   "metadata": {},
   "outputs": [
    {
     "data": {
      "image/png": "[encoded data removed]",
      "text/plain": [
       "<Figure size 1080x1080 with 2 Axes>"
      ]
     },
     "metadata": {
      "needs_background": "light"
     },
     "output_type": "display_data"
    }
   ],
   "source": [
    "#Re-combining X_train with y_train so we can see the correlation heatmap\n",
    "# for all of our training data:\n",
    "training_data = pd.concat([y_train, X_train], axis=1)\n",
    "training_data\n",
    "\n",
    "#Building the correlation heatmap:\n",
    "import seaborn as sns\n",
    "heatmap_data = training_data\n",
    "corr = heatmap_data.corr()\n",
    "fig, ax = plt.subplots(figsize=(15,15))\n",
    "sns.heatmap(data=corr, mask=np.triu(corr), ax=ax, annot=True, \n",
    "            cbar_kws={'label':'correlation', 'orientation':'horizontal', 'pad':.2, 'extend':'both'});"
   ]
  },
  {
   "cell_type": "markdown",
   "metadata": {},
   "source": [
    "It looks like 'sqft_living', aka the square footage of the living space in the home, is by far the most highly-correlated predictor for sale price. Let's take a closer look with a scatter plot graph for further insight into how these two relate:"
   ]
  },
  {
   "cell_type": "code",
   "execution_count": 19,
   "metadata": {},
   "outputs": [
    {
     "data": {
      "image/png": "[encoded data removed]",
      "text/plain": [
       "<Figure size 432x288 with 1 Axes>"
      ]
     },
     "metadata": {
      "needs_background": "light"
     },
     "output_type": "display_data"
    }
   ],
   "source": [
    "fig, ax = plt.subplots()\n",
    "ax.scatter(X_train['sqft_living'], y_train, alpha=0.2)\n",
    "ax.set_xlabel('square footage of living space')\n",
    "ax.set_ylabel('listing price')\n",
    "ax.set_title('Correlation of square footage and listing price');"
   ]
  },
  {
   "cell_type": "markdown",
   "metadata": {},
   "source": [
    "There's definitely a strong positive correlation there, although it looks like the distribution of one or both isn't entirely normal - in other words, as we refine our approach to this data, we'll likely take a closer look at how square footage and price look just on their own. However, for purposes of our baseline model, this will serve as a good benchmark against which to compare future refinements.\n",
    "\n",
    "Below, I create that baseline model using StatsModels. The measure of insight here is the top right number (\"R-squared\"). Essentially, it tells us what percent of the data can be explained by correlation between these two factors on a scale between zero and 1. Subseqeuntly, it looks like almost half the data can be explained by square footage; not a great score, but not terrible, either."
   ]
  },
  {
   "cell_type": "code",
   "execution_count": 20,
   "metadata": {},
   "outputs": [
    {
     "data": {
      "text/html": [
       "<table class=\"simpletable\">\n",
       "<caption>OLS Regression Results</caption>\n",
       "<tr>\n",
       "  <th>Dep. Variable:</th>          <td>price</td>      <th>  R-squared:         </th>  <td>   0.492</td>  \n",
       "</tr>\n",
       "<tr>\n",
       "  <th>Model:</th>                   <td>OLS</td>       <th>  Adj. R-squared:    </th>  <td>   0.492</td>  \n",
       "</tr>\n",
       "<tr>\n",
       "  <th>Method:</th>             <td>Least Squares</td>  <th>  F-statistic:       </th>  <td>1.571e+04</td> \n",
       "</tr>\n",
       "<tr>\n",
       "  <th>Date:</th>             <td>Thu, 23 Feb 2023</td> <th>  Prob (F-statistic):</th>   <td>  0.00</td>   \n",
       "</tr>\n",
       "<tr>\n",
       "  <th>Time:</th>                 <td>21:56:08</td>     <th>  Log-Likelihood:    </th> <td>-2.2463e+05</td>\n",
       "</tr>\n",
       "<tr>\n",
       "  <th>No. Observations:</th>      <td> 16197</td>      <th>  AIC:               </th>  <td>4.493e+05</td> \n",
       "</tr>\n",
       "<tr>\n",
       "  <th>Df Residuals:</th>          <td> 16195</td>      <th>  BIC:               </th>  <td>4.493e+05</td> \n",
       "</tr>\n",
       "<tr>\n",
       "  <th>Df Model:</th>              <td>     1</td>      <th>                     </th>      <td> </td>     \n",
       "</tr>\n",
       "<tr>\n",
       "  <th>Covariance Type:</th>      <td>nonrobust</td>    <th>                     </th>      <td> </td>     \n",
       "</tr>\n",
       "</table>\n",
       "<table class=\"simpletable\">\n",
       "<tr>\n",
       "       <td></td>          <th>coef</th>     <th>std err</th>      <th>t</th>      <th>P>|t|</th>  <th>[0.025</th>    <th>0.975]</th>  \n",
       "</tr>\n",
       "<tr>\n",
       "  <th>Intercept</th>   <td>-3.311e+04</td> <td> 4980.254</td> <td>   -6.649</td> <td> 0.000</td> <td>-4.29e+04</td> <td>-2.34e+04</td>\n",
       "</tr>\n",
       "<tr>\n",
       "  <th>sqft_living</th> <td>  274.6815</td> <td>    2.192</td> <td>  125.331</td> <td> 0.000</td> <td>  270.386</td> <td>  278.977</td>\n",
       "</tr>\n",
       "</table>\n",
       "<table class=\"simpletable\">\n",
       "<tr>\n",
       "  <th>Omnibus:</th>       <td>10707.172</td> <th>  Durbin-Watson:     </th>  <td>   2.004</td> \n",
       "</tr>\n",
       "<tr>\n",
       "  <th>Prob(Omnibus):</th>  <td> 0.000</td>   <th>  Jarque-Bera (JB):  </th> <td>374442.228</td>\n",
       "</tr>\n",
       "<tr>\n",
       "  <th>Skew:</th>           <td> 2.681</td>   <th>  Prob(JB):          </th>  <td>    0.00</td> \n",
       "</tr>\n",
       "<tr>\n",
       "  <th>Kurtosis:</th>       <td>25.936</td>   <th>  Cond. No.          </th>  <td>5.64e+03</td> \n",
       "</tr>\n",
       "</table><br/><br/>Notes:<br/>[1] Standard Errors assume that the covariance matrix of the errors is correctly specified.<br/>[2] The condition number is large, 5.64e+03. This might indicate that there are<br/>strong multicollinearity or other numerical problems."
      ],
      "text/plain": [
       "<class 'statsmodels.iolib.summary.Summary'>\n",
       "\"\"\"\n",
       "                            OLS Regression Results                            \n",
       "==============================================================================\n",
       "Dep. Variable:                  price   R-squared:                       0.492\n",
       "Model:                            OLS   Adj. R-squared:                  0.492\n",
       "Method:                 Least Squares   F-statistic:                 1.571e+04\n",
       "Date:                Thu, 23 Feb 2023   Prob (F-statistic):               0.00\n",
       "Time:                        21:56:08   Log-Likelihood:            -2.2463e+05\n",
       "No. Observations:               16197   AIC:                         4.493e+05\n",
       "Df Residuals:                   16195   BIC:                         4.493e+05\n",
       "Df Model:                           1                                         \n",
       "Covariance Type:            nonrobust                                         \n",
       "===============================================================================\n",
       "                  coef    std err          t      P>|t|      [0.025      0.975]\n",
       "-------------------------------------------------------------------------------\n",
       "Intercept   -3.311e+04   4980.254     -6.649      0.000   -4.29e+04   -2.34e+04\n",
       "sqft_living   274.6815      2.192    125.331      0.000     270.386     278.977\n",
       "==============================================================================\n",
       "Omnibus:                    10707.172   Durbin-Watson:                   2.004\n",
       "Prob(Omnibus):                  0.000   Jarque-Bera (JB):           374442.228\n",
       "Skew:                           2.681   Prob(JB):                         0.00\n",
       "Kurtosis:                      25.936   Cond. No.                     5.64e+03\n",
       "==============================================================================\n",
       "\n",
       "Notes:\n",
       "[1] Standard Errors assume that the covariance matrix of the errors is correctly specified.\n",
       "[2] The condition number is large, 5.64e+03. This might indicate that there are\n",
       "strong multicollinearity or other numerical problems.\n",
       "\"\"\""
      ]
     },
     "execution_count": 20,
     "metadata": {},
     "output_type": "execute_result"
    }
   ],
   "source": [
    "import statsmodels.api as sm\n",
    "from statsmodels.formula.api import ols\n",
    "formula = 'price ~ sqft_living'\n",
    "model = ols(formula=formula, data=training_data).fit()\n",
    "model.summary()"
   ]
  },
  {
   "cell_type": "markdown",
   "metadata": {},
   "source": [
    "Below, I use another method to perform another cross-validation. This is a way of testing the model, but just within the training data. This helps verify whether we're on to a meaningful correlation while leaving the true testing data alone for now."
   ]
  },
  {
   "cell_type": "code",
   "execution_count": 21,
   "metadata": {},
   "outputs": [],
   "source": [
    "from sklearn.linear_model import LinearRegression\n",
    "baseline_model = LinearRegression()"
   ]
  },
  {
   "cell_type": "code",
   "execution_count": 22,
   "metadata": {},
   "outputs": [
    {
     "name": "stdout",
     "output_type": "stream",
     "text": [
      "train score: 0.49237215871023315\n",
      "test score: 0.4911998522614051\n"
     ]
    }
   ],
   "source": [
    "from sklearn.model_selection import cross_validate, ShuffleSplit\n",
    "\n",
    "most_correlated_feature = np.array(X_train['sqft_living']).reshape(-1,1)\n",
    "y_train_cv = np.array(y_train).reshape(-1,1)\n",
    "\n",
    "splitter = ShuffleSplit(n_splits=3, test_size=0.25, random_state=42)\n",
    "baseline_scores = cross_validate(\n",
    "                estimator=baseline_model,\n",
    "                X=most_correlated_feature,\n",
    "                y=y_train_cv,\n",
    "                return_train_score=True,\n",
    "                cv=splitter)\n",
    "print('train score:', baseline_scores['train_score'].mean())\n",
    "print('test score:', baseline_scores['test_score'].mean())"
   ]
  },
  {
   "cell_type": "markdown",
   "metadata": {},
   "source": [
    "Overall, we see a decent R-squared score. Looking back at our OLS Regression results, the condition number is quite high, although that isn't *too* big a concern when we're just working with one consideration (square footage). Nonetheless, as we iterate through more refined models, we'll want to lower that condition number because it can point to problematic distributions of factors. In this case, that may mean most of the prices are in a certain range, but a few really high prices are throwing the average off.\n",
    "\n",
    "Looking at our intra-training-data cross-validation scores, the \"test score\" is comprable to the \"train score\" (even a little higher), so we're off to a good start with this baseline. "
   ]
  },
  {
   "cell_type": "markdown",
   "metadata": {},
   "source": [
    "# Improving our model:\n",
    "\n",
    "Moving towards building a more sophisticated model, our previous heatmap showed a 0.36 correlation between price and school district scores, the fourth-highest among all fifteen predictors. Let's look at the extent to which this pattern visually emerges:"
   ]
  },
  {
   "cell_type": "code",
   "execution_count": 23,
   "metadata": {},
   "outputs": [
    {
     "data": {
      "image/png": "[encoded data removed]",
      "text/plain": [
       "<Figure size 432x288 with 1 Axes>"
      ]
     },
     "metadata": {
      "needs_background": "light"
     },
     "output_type": "display_data"
    }
   ],
   "source": [
    "fig, ax = plt.subplots()\n",
    "ax.scatter(X_train['school_district_score'], y_train, alpha=0.2)\n",
    "ax.set_xlabel('school district score')\n",
    "ax.set_ylabel('listing price')\n",
    "ax.set_title('Correlation between school district score and price')\n",
    "plt.tight_layout();"
   ]
  },
  {
   "cell_type": "markdown",
   "metadata": {},
   "source": [
    "It looks like there's a general rise in the range of prices (both in terms of range-width and price) as the score of the school district increases. Let's construct our first model iteration here:"
   ]
  },
  {
   "cell_type": "code",
   "execution_count": 24,
   "metadata": {},
   "outputs": [
    {
     "data": {
      "text/html": [
       "<table class=\"simpletable\">\n",
       "<caption>OLS Regression Results</caption>\n",
       "<tr>\n",
       "  <th>Dep. Variable:</th>          <td>price</td>      <th>  R-squared:         </th>  <td>   0.133</td>  \n",
       "</tr>\n",
       "<tr>\n",
       "  <th>Model:</th>                   <td>OLS</td>       <th>  Adj. R-squared:    </th>  <td>   0.133</td>  \n",
       "</tr>\n",
       "<tr>\n",
       "  <th>Method:</th>             <td>Least Squares</td>  <th>  F-statistic:       </th>  <td>   2480.</td>  \n",
       "</tr>\n",
       "<tr>\n",
       "  <th>Date:</th>             <td>Thu, 23 Feb 2023</td> <th>  Prob (F-statistic):</th>   <td>  0.00</td>   \n",
       "</tr>\n",
       "<tr>\n",
       "  <th>Time:</th>                 <td>21:56:09</td>     <th>  Log-Likelihood:    </th> <td>-2.2897e+05</td>\n",
       "</tr>\n",
       "<tr>\n",
       "  <th>No. Observations:</th>      <td> 16197</td>      <th>  AIC:               </th>  <td>4.579e+05</td> \n",
       "</tr>\n",
       "<tr>\n",
       "  <th>Df Residuals:</th>          <td> 16195</td>      <th>  BIC:               </th>  <td>4.580e+05</td> \n",
       "</tr>\n",
       "<tr>\n",
       "  <th>Df Model:</th>              <td>     1</td>      <th>                     </th>      <td> </td>     \n",
       "</tr>\n",
       "<tr>\n",
       "  <th>Covariance Type:</th>      <td>nonrobust</td>    <th>                     </th>      <td> </td>     \n",
       "</tr>\n",
       "</table>\n",
       "<table class=\"simpletable\">\n",
       "<tr>\n",
       "            <td></td>               <th>coef</th>     <th>std err</th>      <th>t</th>      <th>P>|t|</th>  <th>[0.025</th>    <th>0.975]</th>  \n",
       "</tr>\n",
       "<tr>\n",
       "  <th>Intercept</th>             <td>  -3.5e+05</td> <td>  1.8e+04</td> <td>  -19.418</td> <td> 0.000</td> <td>-3.85e+05</td> <td>-3.15e+05</td>\n",
       "</tr>\n",
       "<tr>\n",
       "  <th>school_district_score</th> <td> 8.899e+04</td> <td> 1786.756</td> <td>   49.804</td> <td> 0.000</td> <td> 8.55e+04</td> <td> 9.25e+04</td>\n",
       "</tr>\n",
       "</table>\n",
       "<table class=\"simpletable\">\n",
       "<tr>\n",
       "  <th>Omnibus:</th>       <td>14802.934</td> <th>  Durbin-Watson:     </th>  <td>   2.020</td>  \n",
       "</tr>\n",
       "<tr>\n",
       "  <th>Prob(Omnibus):</th>  <td> 0.000</td>   <th>  Jarque-Bera (JB):  </th> <td>1107845.335</td>\n",
       "</tr>\n",
       "<tr>\n",
       "  <th>Skew:</th>           <td> 4.150</td>   <th>  Prob(JB):          </th>  <td>    0.00</td>  \n",
       "</tr>\n",
       "<tr>\n",
       "  <th>Kurtosis:</th>       <td>42.657</td>   <th>  Cond. No.          </th>  <td>    70.1</td>  \n",
       "</tr>\n",
       "</table><br/><br/>Notes:<br/>[1] Standard Errors assume that the covariance matrix of the errors is correctly specified."
      ],
      "text/plain": [
       "<class 'statsmodels.iolib.summary.Summary'>\n",
       "\"\"\"\n",
       "                            OLS Regression Results                            \n",
       "==============================================================================\n",
       "Dep. Variable:                  price   R-squared:                       0.133\n",
       "Model:                            OLS   Adj. R-squared:                  0.133\n",
       "Method:                 Least Squares   F-statistic:                     2480.\n",
       "Date:                Thu, 23 Feb 2023   Prob (F-statistic):               0.00\n",
       "Time:                        21:56:09   Log-Likelihood:            -2.2897e+05\n",
       "No. Observations:               16197   AIC:                         4.579e+05\n",
       "Df Residuals:                   16195   BIC:                         4.580e+05\n",
       "Df Model:                           1                                         \n",
       "Covariance Type:            nonrobust                                         \n",
       "=========================================================================================\n",
       "                            coef    std err          t      P>|t|      [0.025      0.975]\n",
       "-----------------------------------------------------------------------------------------\n",
       "Intercept               -3.5e+05    1.8e+04    -19.418      0.000   -3.85e+05   -3.15e+05\n",
       "school_district_score  8.899e+04   1786.756     49.804      0.000    8.55e+04    9.25e+04\n",
       "==============================================================================\n",
       "Omnibus:                    14802.934   Durbin-Watson:                   2.020\n",
       "Prob(Omnibus):                  0.000   Jarque-Bera (JB):          1107845.335\n",
       "Skew:                           4.150   Prob(JB):                         0.00\n",
       "Kurtosis:                      42.657   Cond. No.                         70.1\n",
       "==============================================================================\n",
       "\n",
       "Notes:\n",
       "[1] Standard Errors assume that the covariance matrix of the errors is correctly specified.\n",
       "\"\"\""
      ]
     },
     "execution_count": 24,
     "metadata": {},
     "output_type": "execute_result"
    }
   ],
   "source": [
    "#Refit the model:\n",
    "formula = 'price ~ school_district_score'\n",
    "model = ols(formula=formula, data=training_data).fit()\n",
    "model.summary()"
   ]
  },
  {
   "cell_type": "code",
   "execution_count": 25,
   "metadata": {},
   "outputs": [
    {
     "name": "stdout",
     "output_type": "stream",
     "text": [
      "train score: 0.13371856557960468\n",
      "test score: 0.1307075888080913\n"
     ]
    }
   ],
   "source": [
    "new_predictor = np.array(X_train['school_district_score']).reshape(-1,1)\n",
    "y_train_cv = np.array(y_train).reshape(-1,1)\n",
    "\n",
    "splitter = ShuffleSplit(n_splits=3, test_size=0.25, random_state=42)\n",
    "baseline_scores = cross_validate(\n",
    "                estimator=baseline_model,\n",
    "                X=new_predictor,\n",
    "                y=y_train_cv,\n",
    "                return_train_score=True,\n",
    "                cv=splitter)\n",
    "print('train score:', baseline_scores['train_score'].mean())\n",
    "print('test score:', baseline_scores['test_score'].mean())"
   ]
  },
  {
   "cell_type": "markdown",
   "metadata": {},
   "source": [
    "The bad news is the R-squared value is quite lower than that of the baseline model, but the good news is the condition number is now reasonable and our cross-validation train & test scores are pretty close. \n",
    "\n",
    "This lower R-squared score is also not *too* surprising: we know square footage is a much stronger predictor. However, our stakeholder is likely already well aware of that. **Perhaps I can bring insight to some less well-known phenomena when it comes to buyer preference and factors that go into a seller's ability to raise their price.** \n",
    "\n",
    "To that end, let's see what more we can do to get a clearer picture of what school district scores bring to the table. Let's examine how each incremental increase in school district scores improves price. We can do so by splitting school_district_score into each score I found (7-12) via a method called \"dummy variables\". This takes categoires (7-12 scores) and turns them each into their own factor column. Ultiamtely, this will help us measure how sales price varies among different school districts."
   ]
  },
  {
   "cell_type": "code",
   "execution_count": 26,
   "metadata": {},
   "outputs": [
    {
     "data": {
      "text/html": [
       "<div>\n",
       "<style scoped>\n",
       "    .dataframe tbody tr th:only-of-type {\n",
       "        vertical-align: middle;\n",
       "    }\n",
       "\n",
       "    .dataframe tbody tr th {\n",
       "        vertical-align: top;\n",
       "    }\n",
       "\n",
       "    .dataframe thead th {\n",
       "        text-align: right;\n",
       "    }\n",
       "</style>\n",
       "<table border=\"1\" class=\"dataframe\">\n",
       "  <thead>\n",
       "    <tr style=\"text-align: right;\">\n",
       "      <th></th>\n",
       "      <th>id</th>\n",
       "      <th>date</th>\n",
       "      <th>bedrooms</th>\n",
       "      <th>bathrooms</th>\n",
       "      <th>sqft_living</th>\n",
       "      <th>sqft_lot</th>\n",
       "      <th>floors</th>\n",
       "      <th>waterfront</th>\n",
       "      <th>view</th>\n",
       "      <th>condition</th>\n",
       "      <th>...</th>\n",
       "      <th>zipcode</th>\n",
       "      <th>lat</th>\n",
       "      <th>long</th>\n",
       "      <th>sqft_living15</th>\n",
       "      <th>sqft_lot15</th>\n",
       "      <th>sds_8</th>\n",
       "      <th>sds_9</th>\n",
       "      <th>sds_10</th>\n",
       "      <th>sds_11</th>\n",
       "      <th>sds_12</th>\n",
       "    </tr>\n",
       "  </thead>\n",
       "  <tbody>\n",
       "    <tr>\n",
       "      <th>6405</th>\n",
       "      <td>5454000010</td>\n",
       "      <td>12/10/2014</td>\n",
       "      <td>3</td>\n",
       "      <td>1.75</td>\n",
       "      <td>2020</td>\n",
       "      <td>9478</td>\n",
       "      <td>1.0</td>\n",
       "      <td>NO</td>\n",
       "      <td>NONE</td>\n",
       "      <td>Good</td>\n",
       "      <td>...</td>\n",
       "      <td>98040</td>\n",
       "      <td>47.5383</td>\n",
       "      <td>-122.238</td>\n",
       "      <td>3050</td>\n",
       "      <td>15594</td>\n",
       "      <td>0</td>\n",
       "      <td>0</td>\n",
       "      <td>0</td>\n",
       "      <td>0</td>\n",
       "      <td>1</td>\n",
       "    </tr>\n",
       "    <tr>\n",
       "      <th>937</th>\n",
       "      <td>9265880170</td>\n",
       "      <td>8/26/2014</td>\n",
       "      <td>4</td>\n",
       "      <td>2.50</td>\n",
       "      <td>2470</td>\n",
       "      <td>5954</td>\n",
       "      <td>2.0</td>\n",
       "      <td>NaN</td>\n",
       "      <td>NONE</td>\n",
       "      <td>Average</td>\n",
       "      <td>...</td>\n",
       "      <td>98028</td>\n",
       "      <td>47.7685</td>\n",
       "      <td>-122.236</td>\n",
       "      <td>2470</td>\n",
       "      <td>4800</td>\n",
       "      <td>0</td>\n",
       "      <td>0</td>\n",
       "      <td>0</td>\n",
       "      <td>0</td>\n",
       "      <td>1</td>\n",
       "    </tr>\n",
       "    <tr>\n",
       "      <th>19076</th>\n",
       "      <td>4151800470</td>\n",
       "      <td>8/20/2014</td>\n",
       "      <td>3</td>\n",
       "      <td>2.00</td>\n",
       "      <td>1010</td>\n",
       "      <td>5973</td>\n",
       "      <td>1.0</td>\n",
       "      <td>NO</td>\n",
       "      <td>NONE</td>\n",
       "      <td>Very Good</td>\n",
       "      <td>...</td>\n",
       "      <td>98033</td>\n",
       "      <td>47.6652</td>\n",
       "      <td>-122.202</td>\n",
       "      <td>1920</td>\n",
       "      <td>6015</td>\n",
       "      <td>0</td>\n",
       "      <td>0</td>\n",
       "      <td>0</td>\n",
       "      <td>0</td>\n",
       "      <td>1</td>\n",
       "    </tr>\n",
       "    <tr>\n",
       "      <th>15201</th>\n",
       "      <td>9272201704</td>\n",
       "      <td>5/12/2014</td>\n",
       "      <td>2</td>\n",
       "      <td>2.50</td>\n",
       "      <td>980</td>\n",
       "      <td>895</td>\n",
       "      <td>2.0</td>\n",
       "      <td>NO</td>\n",
       "      <td>NONE</td>\n",
       "      <td>Average</td>\n",
       "      <td>...</td>\n",
       "      <td>98116</td>\n",
       "      <td>47.5874</td>\n",
       "      <td>-122.386</td>\n",
       "      <td>980</td>\n",
       "      <td>899</td>\n",
       "      <td>0</td>\n",
       "      <td>0</td>\n",
       "      <td>1</td>\n",
       "      <td>0</td>\n",
       "      <td>0</td>\n",
       "    </tr>\n",
       "    <tr>\n",
       "      <th>13083</th>\n",
       "      <td>7151700190</td>\n",
       "      <td>3/31/2015</td>\n",
       "      <td>2</td>\n",
       "      <td>1.50</td>\n",
       "      <td>2210</td>\n",
       "      <td>5000</td>\n",
       "      <td>1.0</td>\n",
       "      <td>NO</td>\n",
       "      <td>AVERAGE</td>\n",
       "      <td>Average</td>\n",
       "      <td>...</td>\n",
       "      <td>98122</td>\n",
       "      <td>47.6122</td>\n",
       "      <td>-122.288</td>\n",
       "      <td>2700</td>\n",
       "      <td>5000</td>\n",
       "      <td>0</td>\n",
       "      <td>0</td>\n",
       "      <td>1</td>\n",
       "      <td>0</td>\n",
       "      <td>0</td>\n",
       "    </tr>\n",
       "    <tr>\n",
       "      <th>...</th>\n",
       "      <td>...</td>\n",
       "      <td>...</td>\n",
       "      <td>...</td>\n",
       "      <td>...</td>\n",
       "      <td>...</td>\n",
       "      <td>...</td>\n",
       "      <td>...</td>\n",
       "      <td>...</td>\n",
       "      <td>...</td>\n",
       "      <td>...</td>\n",
       "      <td>...</td>\n",
       "      <td>...</td>\n",
       "      <td>...</td>\n",
       "      <td>...</td>\n",
       "      <td>...</td>\n",
       "      <td>...</td>\n",
       "      <td>...</td>\n",
       "      <td>...</td>\n",
       "      <td>...</td>\n",
       "      <td>...</td>\n",
       "      <td>...</td>\n",
       "    </tr>\n",
       "    <tr>\n",
       "      <th>11964</th>\n",
       "      <td>7459810210</td>\n",
       "      <td>10/2/2014</td>\n",
       "      <td>4</td>\n",
       "      <td>2.25</td>\n",
       "      <td>2050</td>\n",
       "      <td>26000</td>\n",
       "      <td>2.0</td>\n",
       "      <td>NO</td>\n",
       "      <td>NONE</td>\n",
       "      <td>Good</td>\n",
       "      <td>...</td>\n",
       "      <td>98042</td>\n",
       "      <td>47.3423</td>\n",
       "      <td>-122.063</td>\n",
       "      <td>2330</td>\n",
       "      <td>31100</td>\n",
       "      <td>0</td>\n",
       "      <td>1</td>\n",
       "      <td>0</td>\n",
       "      <td>0</td>\n",
       "      <td>0</td>\n",
       "    </tr>\n",
       "    <tr>\n",
       "      <th>21575</th>\n",
       "      <td>3835502815</td>\n",
       "      <td>9/25/2014</td>\n",
       "      <td>3</td>\n",
       "      <td>2.50</td>\n",
       "      <td>3110</td>\n",
       "      <td>9930</td>\n",
       "      <td>1.0</td>\n",
       "      <td>NO</td>\n",
       "      <td>FAIR</td>\n",
       "      <td>Average</td>\n",
       "      <td>...</td>\n",
       "      <td>98039</td>\n",
       "      <td>47.6112</td>\n",
       "      <td>-122.226</td>\n",
       "      <td>3650</td>\n",
       "      <td>14399</td>\n",
       "      <td>0</td>\n",
       "      <td>0</td>\n",
       "      <td>0</td>\n",
       "      <td>0</td>\n",
       "      <td>1</td>\n",
       "    </tr>\n",
       "    <tr>\n",
       "      <th>5390</th>\n",
       "      <td>5693500760</td>\n",
       "      <td>7/7/2014</td>\n",
       "      <td>3</td>\n",
       "      <td>1.00</td>\n",
       "      <td>1890</td>\n",
       "      <td>3330</td>\n",
       "      <td>1.5</td>\n",
       "      <td>NO</td>\n",
       "      <td>NONE</td>\n",
       "      <td>Good</td>\n",
       "      <td>...</td>\n",
       "      <td>98103</td>\n",
       "      <td>47.6597</td>\n",
       "      <td>-122.352</td>\n",
       "      <td>1530</td>\n",
       "      <td>3330</td>\n",
       "      <td>0</td>\n",
       "      <td>0</td>\n",
       "      <td>1</td>\n",
       "      <td>0</td>\n",
       "      <td>0</td>\n",
       "    </tr>\n",
       "    <tr>\n",
       "      <th>860</th>\n",
       "      <td>3579000410</td>\n",
       "      <td>9/5/2014</td>\n",
       "      <td>3</td>\n",
       "      <td>2.25</td>\n",
       "      <td>2010</td>\n",
       "      <td>7447</td>\n",
       "      <td>2.0</td>\n",
       "      <td>NO</td>\n",
       "      <td>NONE</td>\n",
       "      <td>Average</td>\n",
       "      <td>...</td>\n",
       "      <td>98028</td>\n",
       "      <td>47.7470</td>\n",
       "      <td>-122.248</td>\n",
       "      <td>2230</td>\n",
       "      <td>7846</td>\n",
       "      <td>0</td>\n",
       "      <td>0</td>\n",
       "      <td>0</td>\n",
       "      <td>0</td>\n",
       "      <td>1</td>\n",
       "    </tr>\n",
       "    <tr>\n",
       "      <th>15795</th>\n",
       "      <td>1231000645</td>\n",
       "      <td>8/1/2014</td>\n",
       "      <td>4</td>\n",
       "      <td>3.25</td>\n",
       "      <td>2720</td>\n",
       "      <td>4000</td>\n",
       "      <td>2.0</td>\n",
       "      <td>NO</td>\n",
       "      <td>FAIR</td>\n",
       "      <td>Average</td>\n",
       "      <td>...</td>\n",
       "      <td>98118</td>\n",
       "      <td>47.5554</td>\n",
       "      <td>-122.267</td>\n",
       "      <td>1450</td>\n",
       "      <td>4000</td>\n",
       "      <td>0</td>\n",
       "      <td>0</td>\n",
       "      <td>1</td>\n",
       "      <td>0</td>\n",
       "      <td>0</td>\n",
       "    </tr>\n",
       "  </tbody>\n",
       "</table>\n",
       "<p>16197 rows × 25 columns</p>\n",
       "</div>"
      ],
      "text/plain": [
       "               id        date  bedrooms  bathrooms  sqft_living  sqft_lot  \\\n",
       "6405   5454000010  12/10/2014         3       1.75         2020      9478   \n",
       "937    9265880170   8/26/2014         4       2.50         2470      5954   \n",
       "19076  4151800470   8/20/2014         3       2.00         1010      5973   \n",
       "15201  9272201704   5/12/2014         2       2.50          980       895   \n",
       "13083  7151700190   3/31/2015         2       1.50         2210      5000   \n",
       "...           ...         ...       ...        ...          ...       ...   \n",
       "11964  7459810210   10/2/2014         4       2.25         2050     26000   \n",
       "21575  3835502815   9/25/2014         3       2.50         3110      9930   \n",
       "5390   5693500760    7/7/2014         3       1.00         1890      3330   \n",
       "860    3579000410    9/5/2014         3       2.25         2010      7447   \n",
       "15795  1231000645    8/1/2014         4       3.25         2720      4000   \n",
       "\n",
       "       floors waterfront     view  condition  ... zipcode      lat     long  \\\n",
       "6405      1.0         NO     NONE       Good  ...   98040  47.5383 -122.238   \n",
       "937       2.0        NaN     NONE    Average  ...   98028  47.7685 -122.236   \n",
       "19076     1.0         NO     NONE  Very Good  ...   98033  47.6652 -122.202   \n",
       "15201     2.0         NO     NONE    Average  ...   98116  47.5874 -122.386   \n",
       "13083     1.0         NO  AVERAGE    Average  ...   98122  47.6122 -122.288   \n",
       "...       ...        ...      ...        ...  ...     ...      ...      ...   \n",
       "11964     2.0         NO     NONE       Good  ...   98042  47.3423 -122.063   \n",
       "21575     1.0         NO     FAIR    Average  ...   98039  47.6112 -122.226   \n",
       "5390      1.5         NO     NONE       Good  ...   98103  47.6597 -122.352   \n",
       "860       2.0         NO     NONE    Average  ...   98028  47.7470 -122.248   \n",
       "15795     2.0         NO     FAIR    Average  ...   98118  47.5554 -122.267   \n",
       "\n",
       "       sqft_living15  sqft_lot15  sds_8  sds_9  sds_10  sds_11  sds_12  \n",
       "6405            3050       15594      0      0       0       0       1  \n",
       "937             2470        4800      0      0       0       0       1  \n",
       "19076           1920        6015      0      0       0       0       1  \n",
       "15201            980         899      0      0       1       0       0  \n",
       "13083           2700        5000      0      0       1       0       0  \n",
       "...              ...         ...    ...    ...     ...     ...     ...  \n",
       "11964           2330       31100      0      1       0       0       0  \n",
       "21575           3650       14399      0      0       0       0       1  \n",
       "5390            1530        3330      0      0       1       0       0  \n",
       "860             2230        7846      0      0       0       0       1  \n",
       "15795           1450        4000      0      0       1       0       0  \n",
       "\n",
       "[16197 rows x 25 columns]"
      ]
     },
     "execution_count": 26,
     "metadata": {},
     "output_type": "execute_result"
    }
   ],
   "source": [
    "school_dist_score_dummies = pd.get_dummies(X_train['school_district_score'], prefix='sds', drop_first=True)\n",
    "X_train = X_train.drop('school_district_score', axis=1)\n",
    "X_train = pd.concat([X_train, school_dist_score_dummies], axis=1)\n",
    "X_train"
   ]
  },
  {
   "cell_type": "markdown",
   "metadata": {},
   "source": [
    "Now that we've seperated each school district score, let's look at how they measure up in a refined correlation heatmap:"
   ]
  },
  {
   "cell_type": "code",
   "execution_count": 27,
   "metadata": {},
   "outputs": [
    {
     "data": {
      "image/png": "[encoded data removed]",
      "text/plain": [
       "<Figure size 1080x1080 with 2 Axes>"
      ]
     },
     "metadata": {
      "needs_background": "light"
     },
     "output_type": "display_data"
    }
   ],
   "source": [
    "#Re-combine the revised X_train with y_train so we can see the heatmap with 'price':\n",
    "training_data = pd.concat([y_train, X_train], axis=1)\n",
    "training_data\n",
    "\n",
    "heatmap_data = training_data\n",
    "corr = heatmap_data.corr()\n",
    "fig, ax = plt.subplots(figsize=(15,15))\n",
    "sns.heatmap(data=corr, mask=np.triu(corr), ax=ax, annot=True, \n",
    "            cbar_kws={'label':'correlation', 'orientation':'horizontal', 'pad':.2, 'extend':'both'});"
   ]
  },
  {
   "cell_type": "code",
   "execution_count": 28,
   "metadata": {},
   "outputs": [
    {
     "data": {
      "text/html": [
       "<div>\n",
       "<style scoped>\n",
       "    .dataframe tbody tr th:only-of-type {\n",
       "        vertical-align: middle;\n",
       "    }\n",
       "\n",
       "    .dataframe tbody tr th {\n",
       "        vertical-align: top;\n",
       "    }\n",
       "\n",
       "    .dataframe thead th {\n",
       "        text-align: right;\n",
       "    }\n",
       "</style>\n",
       "<table border=\"1\" class=\"dataframe\">\n",
       "  <thead>\n",
       "    <tr style=\"text-align: right;\">\n",
       "      <th></th>\n",
       "      <th>const</th>\n",
       "      <th>sds_8</th>\n",
       "      <th>sds_9</th>\n",
       "      <th>sds_10</th>\n",
       "      <th>sds_11</th>\n",
       "      <th>sds_12</th>\n",
       "    </tr>\n",
       "  </thead>\n",
       "  <tbody>\n",
       "    <tr>\n",
       "      <th>6405</th>\n",
       "      <td>1.0</td>\n",
       "      <td>0</td>\n",
       "      <td>0</td>\n",
       "      <td>0</td>\n",
       "      <td>0</td>\n",
       "      <td>1</td>\n",
       "    </tr>\n",
       "    <tr>\n",
       "      <th>937</th>\n",
       "      <td>1.0</td>\n",
       "      <td>0</td>\n",
       "      <td>0</td>\n",
       "      <td>0</td>\n",
       "      <td>0</td>\n",
       "      <td>1</td>\n",
       "    </tr>\n",
       "    <tr>\n",
       "      <th>19076</th>\n",
       "      <td>1.0</td>\n",
       "      <td>0</td>\n",
       "      <td>0</td>\n",
       "      <td>0</td>\n",
       "      <td>0</td>\n",
       "      <td>1</td>\n",
       "    </tr>\n",
       "    <tr>\n",
       "      <th>15201</th>\n",
       "      <td>1.0</td>\n",
       "      <td>0</td>\n",
       "      <td>0</td>\n",
       "      <td>1</td>\n",
       "      <td>0</td>\n",
       "      <td>0</td>\n",
       "    </tr>\n",
       "    <tr>\n",
       "      <th>13083</th>\n",
       "      <td>1.0</td>\n",
       "      <td>0</td>\n",
       "      <td>0</td>\n",
       "      <td>1</td>\n",
       "      <td>0</td>\n",
       "      <td>0</td>\n",
       "    </tr>\n",
       "  </tbody>\n",
       "</table>\n",
       "</div>"
      ],
      "text/plain": [
       "       const  sds_8  sds_9  sds_10  sds_11  sds_12\n",
       "6405     1.0      0      0       0       0       1\n",
       "937      1.0      0      0       0       0       1\n",
       "19076    1.0      0      0       0       0       1\n",
       "15201    1.0      0      0       1       0       0\n",
       "13083    1.0      0      0       1       0       0"
      ]
     },
     "execution_count": 28,
     "metadata": {},
     "output_type": "execute_result"
    }
   ],
   "source": [
    "#Refitting the model now that we have multiple predictors with our dummy variables:\n",
    "sds_predictors = X_train[['sds_8', 'sds_9','sds_10', 'sds_11', 'sds_12']]\n",
    "import statsmodels.api as sm\n",
    "predictors = sm.add_constant(sds_predictors)\n",
    "predictors.head()"
   ]
  },
  {
   "cell_type": "code",
   "execution_count": 29,
   "metadata": {},
   "outputs": [
    {
     "data": {
      "text/html": [
       "<table class=\"simpletable\">\n",
       "<caption>OLS Regression Results</caption>\n",
       "<tr>\n",
       "  <th>Dep. Variable:</th>          <td>price</td>      <th>  R-squared:         </th>  <td>   0.152</td>  \n",
       "</tr>\n",
       "<tr>\n",
       "  <th>Model:</th>                   <td>OLS</td>       <th>  Adj. R-squared:    </th>  <td>   0.152</td>  \n",
       "</tr>\n",
       "<tr>\n",
       "  <th>Method:</th>             <td>Least Squares</td>  <th>  F-statistic:       </th>  <td>   580.3</td>  \n",
       "</tr>\n",
       "<tr>\n",
       "  <th>Date:</th>             <td>Thu, 23 Feb 2023</td> <th>  Prob (F-statistic):</th>   <td>  0.00</td>   \n",
       "</tr>\n",
       "<tr>\n",
       "  <th>Time:</th>                 <td>21:56:15</td>     <th>  Log-Likelihood:    </th> <td>-2.2879e+05</td>\n",
       "</tr>\n",
       "<tr>\n",
       "  <th>No. Observations:</th>      <td> 16197</td>      <th>  AIC:               </th>  <td>4.576e+05</td> \n",
       "</tr>\n",
       "<tr>\n",
       "  <th>Df Residuals:</th>          <td> 16191</td>      <th>  BIC:               </th>  <td>4.576e+05</td> \n",
       "</tr>\n",
       "<tr>\n",
       "  <th>Df Model:</th>              <td>     5</td>      <th>                     </th>      <td> </td>     \n",
       "</tr>\n",
       "<tr>\n",
       "  <th>Covariance Type:</th>      <td>nonrobust</td>    <th>                     </th>      <td> </td>     \n",
       "</tr>\n",
       "</table>\n",
       "<table class=\"simpletable\">\n",
       "<tr>\n",
       "     <td></td>       <th>coef</th>     <th>std err</th>      <th>t</th>      <th>P>|t|</th>  <th>[0.025</th>    <th>0.975]</th>  \n",
       "</tr>\n",
       "<tr>\n",
       "  <th>const</th>  <td> 3.187e+05</td> <td> 9187.772</td> <td>   34.688</td> <td> 0.000</td> <td> 3.01e+05</td> <td> 3.37e+05</td>\n",
       "</tr>\n",
       "<tr>\n",
       "  <th>sds_8</th>  <td>-2.426e+04</td> <td> 1.23e+04</td> <td>   -1.968</td> <td> 0.049</td> <td>-4.84e+04</td> <td> -100.530</td>\n",
       "</tr>\n",
       "<tr>\n",
       "  <th>sds_9</th>  <td> 6.348e+04</td> <td> 1.18e+04</td> <td>    5.374</td> <td> 0.000</td> <td> 4.03e+04</td> <td> 8.66e+04</td>\n",
       "</tr>\n",
       "<tr>\n",
       "  <th>sds_10</th> <td> 2.771e+05</td> <td> 1.02e+04</td> <td>   27.178</td> <td> 0.000</td> <td> 2.57e+05</td> <td> 2.97e+05</td>\n",
       "</tr>\n",
       "<tr>\n",
       "  <th>sds_11</th> <td> 2.815e+05</td> <td> 1.12e+04</td> <td>   25.235</td> <td> 0.000</td> <td>  2.6e+05</td> <td> 3.03e+05</td>\n",
       "</tr>\n",
       "<tr>\n",
       "  <th>sds_12</th> <td>  3.83e+05</td> <td>  1.1e+04</td> <td>   34.908</td> <td> 0.000</td> <td> 3.61e+05</td> <td> 4.04e+05</td>\n",
       "</tr>\n",
       "</table>\n",
       "<table class=\"simpletable\">\n",
       "<tr>\n",
       "  <th>Omnibus:</th>       <td>14975.031</td> <th>  Durbin-Watson:     </th>  <td>   2.021</td>  \n",
       "</tr>\n",
       "<tr>\n",
       "  <th>Prob(Omnibus):</th>  <td> 0.000</td>   <th>  Jarque-Bera (JB):  </th> <td>1178690.495</td>\n",
       "</tr>\n",
       "<tr>\n",
       "  <th>Skew:</th>           <td> 4.213</td>   <th>  Prob(JB):          </th>  <td>    0.00</td>  \n",
       "</tr>\n",
       "<tr>\n",
       "  <th>Kurtosis:</th>       <td>43.933</td>   <th>  Cond. No.          </th>  <td>    9.93</td>  \n",
       "</tr>\n",
       "</table><br/><br/>Notes:<br/>[1] Standard Errors assume that the covariance matrix of the errors is correctly specified."
      ],
      "text/plain": [
       "<class 'statsmodels.iolib.summary.Summary'>\n",
       "\"\"\"\n",
       "                            OLS Regression Results                            \n",
       "==============================================================================\n",
       "Dep. Variable:                  price   R-squared:                       0.152\n",
       "Model:                            OLS   Adj. R-squared:                  0.152\n",
       "Method:                 Least Squares   F-statistic:                     580.3\n",
       "Date:                Thu, 23 Feb 2023   Prob (F-statistic):               0.00\n",
       "Time:                        21:56:15   Log-Likelihood:            -2.2879e+05\n",
       "No. Observations:               16197   AIC:                         4.576e+05\n",
       "Df Residuals:                   16191   BIC:                         4.576e+05\n",
       "Df Model:                           5                                         \n",
       "Covariance Type:            nonrobust                                         \n",
       "==============================================================================\n",
       "                 coef    std err          t      P>|t|      [0.025      0.975]\n",
       "------------------------------------------------------------------------------\n",
       "const       3.187e+05   9187.772     34.688      0.000    3.01e+05    3.37e+05\n",
       "sds_8      -2.426e+04   1.23e+04     -1.968      0.049   -4.84e+04    -100.530\n",
       "sds_9       6.348e+04   1.18e+04      5.374      0.000    4.03e+04    8.66e+04\n",
       "sds_10      2.771e+05   1.02e+04     27.178      0.000    2.57e+05    2.97e+05\n",
       "sds_11      2.815e+05   1.12e+04     25.235      0.000     2.6e+05    3.03e+05\n",
       "sds_12       3.83e+05    1.1e+04     34.908      0.000    3.61e+05    4.04e+05\n",
       "==============================================================================\n",
       "Omnibus:                    14975.031   Durbin-Watson:                   2.021\n",
       "Prob(Omnibus):                  0.000   Jarque-Bera (JB):          1178690.495\n",
       "Skew:                           4.213   Prob(JB):                         0.00\n",
       "Kurtosis:                      43.933   Cond. No.                         9.93\n",
       "==============================================================================\n",
       "\n",
       "Notes:\n",
       "[1] Standard Errors assume that the covariance matrix of the errors is correctly specified.\n",
       "\"\"\""
      ]
     },
     "execution_count": 29,
     "metadata": {},
     "output_type": "execute_result"
    }
   ],
   "source": [
    "model = sm.OLS(y_train, predictors).fit()\n",
    "model.summary()"
   ]
  },
  {
   "cell_type": "code",
   "execution_count": 30,
   "metadata": {},
   "outputs": [
    {
     "name": "stdout",
     "output_type": "stream",
     "text": [
      "train score: 0.1527755364843322\n",
      "test score: 0.15015524120036328\n"
     ]
    }
   ],
   "source": [
    "predictors = np.array(predictors).reshape(-1,6)\n",
    "y_train_cv = np.array(y_train).reshape(-1,1)\n",
    "\n",
    "splitter = ShuffleSplit(n_splits=3, test_size=0.25, random_state=42)\n",
    "baseline_scores = cross_validate(\n",
    "                estimator=baseline_model,\n",
    "                X=predictors,\n",
    "                y=y_train_cv,\n",
    "                return_train_score=True,\n",
    "                cv=splitter)\n",
    "print('train score:', baseline_scores['train_score'].mean())\n",
    "print('test score:', baseline_scores['test_score'].mean())"
   ]
  },
  {
   "cell_type": "markdown",
   "metadata": {},
   "source": [
    "We only see a meager increase in the R-squared score even though we're getting more refined coefficients when it comes to each step up between school district scores. \n",
    "\n",
    "Also, the standard errors have increased to around ten thousand dollars, but in the big picture of home prices, that isn't too bad. The p-values are all pretty good as well (these tell us the correlations we're seeing aren't happening by chance), with the exception of 'sds_8', which is right on the cusp of the standard alpha threshold of 0.05. \n",
    "\n",
    "Also, the condition number fell quite a bit, so multicollinearity (factors influencing other factors and muddeling the model) probably isn't an issue, but I think that's a bit of a truism based on the nature of the predictors in this model. It's also good to see the train & test cross-validation scores are still close.\n",
    "\n",
    "Looking at my predictors of interest in the school district rankings, while all the correlations are not *particularly* strong, they are almost entirely consistent and they span zero. In other words, the lower-scoring districs negatively correlate with price while the higher-scoring ones incrementally show a rising, positive correlation. \n",
    "\n",
    "What's also noteworthy is that nothing is more negatively correlated with price than the two lowest-scoring school districts. Additionally, after all the square footage/room and latitude predictors, the next-highest correlation would be the highest-ranking school districts.\n",
    "\n",
    "Let's continue carefully adding predictors to our model. Let's see the extent to which the bedroom count and overall square footage influence this model."
   ]
  },
  {
   "cell_type": "markdown",
   "metadata": {},
   "source": [
    "First, let's check whether 'sqft_living' shows a normal distribution. In other words, does square footage among these homes show a bell curve, where the average square footage is near the middle? Or are there a few really big or small houses throwing things off?"
   ]
  },
  {
   "cell_type": "code",
   "execution_count": 31,
   "metadata": {},
   "outputs": [
    {
     "name": "stdout",
     "output_type": "stream",
     "text": [
      "skew of X_train's 'sqft_living': 1.4956470762604674\n"
     ]
    }
   ],
   "source": [
    "from scipy.stats import skew\n",
    "skewness = skew(X_train['sqft_living'])\n",
    "print(\"skew of X_train's 'sqft_living':\", skewness)"
   ]
  },
  {
   "cell_type": "code",
   "execution_count": 32,
   "metadata": {},
   "outputs": [
    {
     "data": {
      "image/png": "[encoded data removed]",
      "text/plain": [
       "<Figure size 432x288 with 1 Axes>"
      ]
     },
     "metadata": {
      "needs_background": "light"
     },
     "output_type": "display_data"
    }
   ],
   "source": [
    "fig, ax = plt.subplots()\n",
    "\n",
    "ax.hist(X_train['sqft_living'], bins=25, color='r', alpha=0.6)\n",
    "ax.set_title('histogram of square footage and house counts')\n",
    "ax.set_xlabel('square footage')\n",
    "ax.set_ylabel('number of homes')\n",
    "plt.tight_layout()\n",
    "plt.savefig('histogram of square footage and house counts.jpg');"
   ]
  },
  {
   "cell_type": "markdown",
   "metadata": {},
   "source": [
    "It looks like this column's distribution is skewed; a few large homes are pulling the average higher. This can degrade our predictions for how square footage impacts price. However, there are steps we can take to reorder how this data is distrbuted without distorting its values. This is referred to as a logarithmic transformation. One does not need to understand the details of how it works, other than it reorders and measures the data differently such that we wind up with a more accurate prediction:"
   ]
  },
  {
   "cell_type": "code",
   "execution_count": 33,
   "metadata": {},
   "outputs": [],
   "source": [
    "X_train['sqft_living_log'] = np.log(X_train['sqft_living'])"
   ]
  },
  {
   "cell_type": "code",
   "execution_count": 34,
   "metadata": {},
   "outputs": [
    {
     "data": {
      "image/png": "[encoded data removed]",
      "text/plain": [
       "<Figure size 432x288 with 1 Axes>"
      ]
     },
     "metadata": {
      "needs_background": "light"
     },
     "output_type": "display_data"
    }
   ],
   "source": [
    "fig, ax = plt.subplots()\n",
    "\n",
    "ax.hist(X_train['sqft_living_log'], bins=25, color='g', alpha=0.6)\n",
    "ax.set_title('histogram of logged square footage and house counts')\n",
    "ax.set_xlabel('square footage logged')\n",
    "ax.set_ylabel('number of homes')\n",
    "plt.tight_layout()\n",
    "plt.savefig('histogram of logged square footage and house counts.jpg');"
   ]
  },
  {
   "cell_type": "code",
   "execution_count": 35,
   "metadata": {},
   "outputs": [
    {
     "name": "stdout",
     "output_type": "stream",
     "text": [
      "skew of X_train's 'sqft_living_log': -0.026733420175554485\n"
     ]
    }
   ],
   "source": [
    "skewness = skew(X_train['sqft_living_log'])\n",
    "print(\"skew of X_train's 'sqft_living_log':\", skewness)"
   ]
  },
  {
   "cell_type": "markdown",
   "metadata": {},
   "source": [
    "Now that our predictors are looking more managable and/or normally distributed, let's recombine them to our predictor list:"
   ]
  },
  {
   "cell_type": "code",
   "execution_count": 36,
   "metadata": {},
   "outputs": [
    {
     "data": {
      "text/html": [
       "<div>\n",
       "<style scoped>\n",
       "    .dataframe tbody tr th:only-of-type {\n",
       "        vertical-align: middle;\n",
       "    }\n",
       "\n",
       "    .dataframe tbody tr th {\n",
       "        vertical-align: top;\n",
       "    }\n",
       "\n",
       "    .dataframe thead th {\n",
       "        text-align: right;\n",
       "    }\n",
       "</style>\n",
       "<table border=\"1\" class=\"dataframe\">\n",
       "  <thead>\n",
       "    <tr style=\"text-align: right;\">\n",
       "      <th></th>\n",
       "      <th>const</th>\n",
       "      <th>sds_8</th>\n",
       "      <th>sds_9</th>\n",
       "      <th>sds_10</th>\n",
       "      <th>sds_11</th>\n",
       "      <th>sds_12</th>\n",
       "      <th>bedrooms</th>\n",
       "      <th>sqft_living_log</th>\n",
       "    </tr>\n",
       "  </thead>\n",
       "  <tbody>\n",
       "    <tr>\n",
       "      <th>6405</th>\n",
       "      <td>1.0</td>\n",
       "      <td>0</td>\n",
       "      <td>0</td>\n",
       "      <td>0</td>\n",
       "      <td>0</td>\n",
       "      <td>1</td>\n",
       "      <td>3</td>\n",
       "      <td>7.610853</td>\n",
       "    </tr>\n",
       "    <tr>\n",
       "      <th>937</th>\n",
       "      <td>1.0</td>\n",
       "      <td>0</td>\n",
       "      <td>0</td>\n",
       "      <td>0</td>\n",
       "      <td>0</td>\n",
       "      <td>1</td>\n",
       "      <td>4</td>\n",
       "      <td>7.811973</td>\n",
       "    </tr>\n",
       "    <tr>\n",
       "      <th>19076</th>\n",
       "      <td>1.0</td>\n",
       "      <td>0</td>\n",
       "      <td>0</td>\n",
       "      <td>0</td>\n",
       "      <td>0</td>\n",
       "      <td>1</td>\n",
       "      <td>3</td>\n",
       "      <td>6.917706</td>\n",
       "    </tr>\n",
       "    <tr>\n",
       "      <th>15201</th>\n",
       "      <td>1.0</td>\n",
       "      <td>0</td>\n",
       "      <td>0</td>\n",
       "      <td>1</td>\n",
       "      <td>0</td>\n",
       "      <td>0</td>\n",
       "      <td>2</td>\n",
       "      <td>6.887553</td>\n",
       "    </tr>\n",
       "    <tr>\n",
       "      <th>13083</th>\n",
       "      <td>1.0</td>\n",
       "      <td>0</td>\n",
       "      <td>0</td>\n",
       "      <td>1</td>\n",
       "      <td>0</td>\n",
       "      <td>0</td>\n",
       "      <td>2</td>\n",
       "      <td>7.700748</td>\n",
       "    </tr>\n",
       "  </tbody>\n",
       "</table>\n",
       "</div>"
      ],
      "text/plain": [
       "       const  sds_8  sds_9  sds_10  sds_11  sds_12  bedrooms  sqft_living_log\n",
       "6405     1.0      0      0       0       0       1         3         7.610853\n",
       "937      1.0      0      0       0       0       1         4         7.811973\n",
       "19076    1.0      0      0       0       0       1         3         6.917706\n",
       "15201    1.0      0      0       1       0       0         2         6.887553\n",
       "13083    1.0      0      0       1       0       0         2         7.700748"
      ]
     },
     "execution_count": 36,
     "metadata": {},
     "output_type": "execute_result"
    }
   ],
   "source": [
    "#predictors = X_train[['sds_8', 'sds_9', 'sds_10', 'sds_11', 'sds_12',\\\n",
    "#                      'bdrm_3', 'bdrm_4', 'bdrm_5', 'bdrm_6', 'bdrm_7',\\\n",
    "#                      'bdrm_8', 'bdrm_9', 'bdrm_10', 'sqft_living_log']]\n",
    "#predictors = X_train[['sds_8', 'sds_9', 'sds_10', 'sds_11', 'sds_12',\\\n",
    "#                      'bdrm_3', 'bdrm_4', 'bdrm_5', 'bdrm_6', 'bdrm_7',\\\n",
    "#                      'bdrm_8', 'bdrm_9', 'bdrm_10', 'sqft_living']]\n",
    "X_train_predictors = X_train[['sds_8', 'sds_9', 'sds_10', 'sds_11', 'sds_12', 'bedrooms', 'sqft_living_log']]\n",
    "X_train_predictors = sm.add_constant(X_train_predictors)\n",
    "X_train_predictors.head()"
   ]
  },
  {
   "cell_type": "markdown",
   "metadata": {},
   "source": [
    "Now let's see how our model performs with a new factor included:"
   ]
  },
  {
   "cell_type": "code",
   "execution_count": 37,
   "metadata": {},
   "outputs": [
    {
     "data": {
      "text/html": [
       "<table class=\"simpletable\">\n",
       "<caption>OLS Regression Results</caption>\n",
       "<tr>\n",
       "  <th>Dep. Variable:</th>          <td>price</td>      <th>  R-squared:         </th>  <td>   0.482</td>  \n",
       "</tr>\n",
       "<tr>\n",
       "  <th>Model:</th>                   <td>OLS</td>       <th>  Adj. R-squared:    </th>  <td>   0.482</td>  \n",
       "</tr>\n",
       "<tr>\n",
       "  <th>Method:</th>             <td>Least Squares</td>  <th>  F-statistic:       </th>  <td>   2155.</td>  \n",
       "</tr>\n",
       "<tr>\n",
       "  <th>Date:</th>             <td>Thu, 23 Feb 2023</td> <th>  Prob (F-statistic):</th>   <td>  0.00</td>   \n",
       "</tr>\n",
       "<tr>\n",
       "  <th>Time:</th>                 <td>21:56:18</td>     <th>  Log-Likelihood:    </th> <td>-2.2479e+05</td>\n",
       "</tr>\n",
       "<tr>\n",
       "  <th>No. Observations:</th>      <td> 16197</td>      <th>  AIC:               </th>  <td>4.496e+05</td> \n",
       "</tr>\n",
       "<tr>\n",
       "  <th>Df Residuals:</th>          <td> 16189</td>      <th>  BIC:               </th>  <td>4.497e+05</td> \n",
       "</tr>\n",
       "<tr>\n",
       "  <th>Df Model:</th>              <td>     7</td>      <th>                     </th>      <td> </td>     \n",
       "</tr>\n",
       "<tr>\n",
       "  <th>Covariance Type:</th>      <td>nonrobust</td>    <th>                     </th>      <td> </td>     \n",
       "</tr>\n",
       "</table>\n",
       "<table class=\"simpletable\">\n",
       "<tr>\n",
       "         <td></td>            <th>coef</th>     <th>std err</th>      <th>t</th>      <th>P>|t|</th>  <th>[0.025</th>    <th>0.975]</th>  \n",
       "</tr>\n",
       "<tr>\n",
       "  <th>const</th>           <td>-3.647e+06</td> <td>  4.2e+04</td> <td>  -86.725</td> <td> 0.000</td> <td>-3.73e+06</td> <td>-3.56e+06</td>\n",
       "</tr>\n",
       "<tr>\n",
       "  <th>sds_8</th>           <td>-1.749e+04</td> <td> 9633.176</td> <td>   -1.815</td> <td> 0.069</td> <td>-3.64e+04</td> <td> 1395.061</td>\n",
       "</tr>\n",
       "<tr>\n",
       "  <th>sds_9</th>           <td> 8.169e+04</td> <td> 9231.684</td> <td>    8.849</td> <td> 0.000</td> <td> 6.36e+04</td> <td> 9.98e+04</td>\n",
       "</tr>\n",
       "<tr>\n",
       "  <th>sds_10</th>          <td> 2.631e+05</td> <td> 7973.889</td> <td>   32.999</td> <td> 0.000</td> <td> 2.47e+05</td> <td> 2.79e+05</td>\n",
       "</tr>\n",
       "<tr>\n",
       "  <th>sds_11</th>          <td> 1.626e+05</td> <td> 8794.470</td> <td>   18.494</td> <td> 0.000</td> <td> 1.45e+05</td> <td>  1.8e+05</td>\n",
       "</tr>\n",
       "<tr>\n",
       "  <th>sds_12</th>          <td> 2.915e+05</td> <td> 8620.634</td> <td>   33.810</td> <td> 0.000</td> <td> 2.75e+05</td> <td> 3.08e+05</td>\n",
       "</tr>\n",
       "<tr>\n",
       "  <th>bedrooms</th>        <td>-3.602e+04</td> <td> 2776.314</td> <td>  -12.976</td> <td> 0.000</td> <td>-4.15e+04</td> <td>-3.06e+04</td>\n",
       "</tr>\n",
       "<tr>\n",
       "  <th>sqft_living_log</th> <td> 5.464e+05</td> <td> 6200.999</td> <td>   88.112</td> <td> 0.000</td> <td> 5.34e+05</td> <td> 5.59e+05</td>\n",
       "</tr>\n",
       "</table>\n",
       "<table class=\"simpletable\">\n",
       "<tr>\n",
       "  <th>Omnibus:</th>       <td>15971.330</td> <th>  Durbin-Watson:     </th>  <td>   2.020</td>  \n",
       "</tr>\n",
       "<tr>\n",
       "  <th>Prob(Omnibus):</th>  <td> 0.000</td>   <th>  Jarque-Bera (JB):  </th> <td>2151606.294</td>\n",
       "</tr>\n",
       "<tr>\n",
       "  <th>Skew:</th>           <td> 4.492</td>   <th>  Prob(JB):          </th>  <td>    0.00</td>  \n",
       "</tr>\n",
       "<tr>\n",
       "  <th>Kurtosis:</th>       <td>58.745</td>   <th>  Cond. No.          </th>  <td>    176.</td>  \n",
       "</tr>\n",
       "</table><br/><br/>Notes:<br/>[1] Standard Errors assume that the covariance matrix of the errors is correctly specified."
      ],
      "text/plain": [
       "<class 'statsmodels.iolib.summary.Summary'>\n",
       "\"\"\"\n",
       "                            OLS Regression Results                            \n",
       "==============================================================================\n",
       "Dep. Variable:                  price   R-squared:                       0.482\n",
       "Model:                            OLS   Adj. R-squared:                  0.482\n",
       "Method:                 Least Squares   F-statistic:                     2155.\n",
       "Date:                Thu, 23 Feb 2023   Prob (F-statistic):               0.00\n",
       "Time:                        21:56:18   Log-Likelihood:            -2.2479e+05\n",
       "No. Observations:               16197   AIC:                         4.496e+05\n",
       "Df Residuals:                   16189   BIC:                         4.497e+05\n",
       "Df Model:                           7                                         \n",
       "Covariance Type:            nonrobust                                         \n",
       "===================================================================================\n",
       "                      coef    std err          t      P>|t|      [0.025      0.975]\n",
       "-----------------------------------------------------------------------------------\n",
       "const           -3.647e+06    4.2e+04    -86.725      0.000   -3.73e+06   -3.56e+06\n",
       "sds_8           -1.749e+04   9633.176     -1.815      0.069   -3.64e+04    1395.061\n",
       "sds_9            8.169e+04   9231.684      8.849      0.000    6.36e+04    9.98e+04\n",
       "sds_10           2.631e+05   7973.889     32.999      0.000    2.47e+05    2.79e+05\n",
       "sds_11           1.626e+05   8794.470     18.494      0.000    1.45e+05     1.8e+05\n",
       "sds_12           2.915e+05   8620.634     33.810      0.000    2.75e+05    3.08e+05\n",
       "bedrooms        -3.602e+04   2776.314    -12.976      0.000   -4.15e+04   -3.06e+04\n",
       "sqft_living_log  5.464e+05   6200.999     88.112      0.000    5.34e+05    5.59e+05\n",
       "==============================================================================\n",
       "Omnibus:                    15971.330   Durbin-Watson:                   2.020\n",
       "Prob(Omnibus):                  0.000   Jarque-Bera (JB):          2151606.294\n",
       "Skew:                           4.492   Prob(JB):                         0.00\n",
       "Kurtosis:                      58.745   Cond. No.                         176.\n",
       "==============================================================================\n",
       "\n",
       "Notes:\n",
       "[1] Standard Errors assume that the covariance matrix of the errors is correctly specified.\n",
       "\"\"\""
      ]
     },
     "execution_count": 37,
     "metadata": {},
     "output_type": "execute_result"
    }
   ],
   "source": [
    "final_model = sm.OLS(y_train, X_train_predictors).fit()\n",
    "final_model.summary()"
   ]
  },
  {
   "cell_type": "code",
   "execution_count": 38,
   "metadata": {},
   "outputs": [
    {
     "name": "stdout",
     "output_type": "stream",
     "text": [
      "train score: 0.48400059971188386\n",
      "test score: 0.4792475653337674\n"
     ]
    }
   ],
   "source": [
    "#predictors = np.array(predictors).reshape(-1,15)\n",
    "#y_train_cv = np.array(y_train).reshape(-1,1)\n",
    "\n",
    "splitter = ShuffleSplit(n_splits=3, test_size=0.25, random_state=42)\n",
    "baseline_scores = cross_validate(\n",
    "                estimator=baseline_model,\n",
    "                X=X_train_predictors,\n",
    "                y=y_train,\n",
    "                return_train_score=True,\n",
    "                cv=splitter)\n",
    "print('train score:', baseline_scores['train_score'].mean())\n",
    "print('test score:', baseline_scores['test_score'].mean())"
   ]
  },
  {
   "cell_type": "markdown",
   "metadata": {},
   "source": [
    "Our R-squared metric is still 0.009 smaller than our baseline. I hesitate to add any further predictors (considerations) because we want to keep it relevant to what families with school-age children are looking for. However, we *did* notice earlier that the distribution between square footage and sale price was off. While we transformed the square footage column in order to work with a better distribution, perhaps we should also look at the sale price column. "
   ]
  },
  {
   "cell_type": "code",
   "execution_count": 39,
   "metadata": {},
   "outputs": [
    {
     "name": "stdout",
     "output_type": "stream",
     "text": [
      "skew of y_train, aka 'price': [3.82104252]\n"
     ]
    }
   ],
   "source": [
    "skewness = skew(y_train)\n",
    "print(\"skew of y_train, aka 'price':\", skewness)"
   ]
  },
  {
   "cell_type": "markdown",
   "metadata": {},
   "source": [
    "Anythong over 1.0 is heavily skewed, so sale_price could also benefit from a logarithmic transformation like we did earlier with square_footage."
   ]
  },
  {
   "cell_type": "code",
   "execution_count": 40,
   "metadata": {},
   "outputs": [
    {
     "data": {
      "image/png": "[encoded data removed]",
      "text/plain": [
       "<Figure size 432x288 with 1 Axes>"
      ]
     },
     "metadata": {
      "needs_background": "light"
     },
     "output_type": "display_data"
    }
   ],
   "source": [
    "y_train['price'].hist(bins=25);"
   ]
  },
  {
   "cell_type": "code",
   "execution_count": 41,
   "metadata": {},
   "outputs": [
    {
     "data": {
      "image/png": "[encoded data removed]",
      "text/plain": [
       "<Figure size 432x288 with 1 Axes>"
      ]
     },
     "metadata": {
      "needs_background": "light"
     },
     "output_type": "display_data"
    }
   ],
   "source": [
    "y_train['price_log'] = np.log(y_train['price'])\n",
    "y_train['price_log'].hist(bins=25);"
   ]
  },
  {
   "cell_type": "code",
   "execution_count": 42,
   "metadata": {},
   "outputs": [
    {
     "data": {
      "text/html": [
       "<table class=\"simpletable\">\n",
       "<caption>OLS Regression Results</caption>\n",
       "<tr>\n",
       "  <th>Dep. Variable:</th>        <td>price_log</td>    <th>  R-squared:         </th> <td>   0.658</td>\n",
       "</tr>\n",
       "<tr>\n",
       "  <th>Model:</th>                   <td>OLS</td>       <th>  Adj. R-squared:    </th> <td>   0.658</td>\n",
       "</tr>\n",
       "<tr>\n",
       "  <th>Method:</th>             <td>Least Squares</td>  <th>  F-statistic:       </th> <td>   4444.</td>\n",
       "</tr>\n",
       "<tr>\n",
       "  <th>Date:</th>             <td>Thu, 23 Feb 2023</td> <th>  Prob (F-statistic):</th>  <td>  0.00</td> \n",
       "</tr>\n",
       "<tr>\n",
       "  <th>Time:</th>                 <td>21:56:19</td>     <th>  Log-Likelihood:    </th> <td> -3866.8</td>\n",
       "</tr>\n",
       "<tr>\n",
       "  <th>No. Observations:</th>      <td> 16197</td>      <th>  AIC:               </th> <td>   7750.</td>\n",
       "</tr>\n",
       "<tr>\n",
       "  <th>Df Residuals:</th>          <td> 16189</td>      <th>  BIC:               </th> <td>   7811.</td>\n",
       "</tr>\n",
       "<tr>\n",
       "  <th>Df Model:</th>              <td>     7</td>      <th>                     </th>     <td> </td>   \n",
       "</tr>\n",
       "<tr>\n",
       "  <th>Covariance Type:</th>      <td>nonrobust</td>    <th>                     </th>     <td> </td>   \n",
       "</tr>\n",
       "</table>\n",
       "<table class=\"simpletable\">\n",
       "<tr>\n",
       "         <td></td>            <th>coef</th>     <th>std err</th>      <th>t</th>      <th>P>|t|</th>  <th>[0.025</th>    <th>0.975]</th>  \n",
       "</tr>\n",
       "<tr>\n",
       "  <th>const</th>           <td>    6.4022</td> <td>    0.050</td> <td>  127.700</td> <td> 0.000</td> <td>    6.304</td> <td>    6.500</td>\n",
       "</tr>\n",
       "<tr>\n",
       "  <th>sds_8</th>           <td>   -0.0376</td> <td>    0.011</td> <td>   -3.277</td> <td> 0.001</td> <td>   -0.060</td> <td>   -0.015</td>\n",
       "</tr>\n",
       "<tr>\n",
       "  <th>sds_9</th>           <td>    0.1984</td> <td>    0.011</td> <td>   18.020</td> <td> 0.000</td> <td>    0.177</td> <td>    0.220</td>\n",
       "</tr>\n",
       "<tr>\n",
       "  <th>sds_10</th>          <td>    0.5746</td> <td>    0.010</td> <td>   60.432</td> <td> 0.000</td> <td>    0.556</td> <td>    0.593</td>\n",
       "</tr>\n",
       "<tr>\n",
       "  <th>sds_11</th>          <td>    0.4277</td> <td>    0.010</td> <td>   40.790</td> <td> 0.000</td> <td>    0.407</td> <td>    0.448</td>\n",
       "</tr>\n",
       "<tr>\n",
       "  <th>sds_12</th>          <td>    0.5943</td> <td>    0.010</td> <td>   57.824</td> <td> 0.000</td> <td>    0.574</td> <td>    0.614</td>\n",
       "</tr>\n",
       "<tr>\n",
       "  <th>bedrooms</th>        <td>   -0.0516</td> <td>    0.003</td> <td>  -15.600</td> <td> 0.000</td> <td>   -0.058</td> <td>   -0.045</td>\n",
       "</tr>\n",
       "<tr>\n",
       "  <th>sqft_living_log</th> <td>    0.8498</td> <td>    0.007</td> <td>  114.944</td> <td> 0.000</td> <td>    0.835</td> <td>    0.864</td>\n",
       "</tr>\n",
       "</table>\n",
       "<table class=\"simpletable\">\n",
       "<tr>\n",
       "  <th>Omnibus:</th>       <td>287.438</td> <th>  Durbin-Watson:     </th> <td>   2.028</td>\n",
       "</tr>\n",
       "<tr>\n",
       "  <th>Prob(Omnibus):</th> <td> 0.000</td>  <th>  Jarque-Bera (JB):  </th> <td> 440.046</td>\n",
       "</tr>\n",
       "<tr>\n",
       "  <th>Skew:</th>          <td> 0.189</td>  <th>  Prob(JB):          </th> <td>2.79e-96</td>\n",
       "</tr>\n",
       "<tr>\n",
       "  <th>Kurtosis:</th>      <td> 3.714</td>  <th>  Cond. No.          </th> <td>    176.</td>\n",
       "</tr>\n",
       "</table><br/><br/>Notes:<br/>[1] Standard Errors assume that the covariance matrix of the errors is correctly specified."
      ],
      "text/plain": [
       "<class 'statsmodels.iolib.summary.Summary'>\n",
       "\"\"\"\n",
       "                            OLS Regression Results                            \n",
       "==============================================================================\n",
       "Dep. Variable:              price_log   R-squared:                       0.658\n",
       "Model:                            OLS   Adj. R-squared:                  0.658\n",
       "Method:                 Least Squares   F-statistic:                     4444.\n",
       "Date:                Thu, 23 Feb 2023   Prob (F-statistic):               0.00\n",
       "Time:                        21:56:19   Log-Likelihood:                -3866.8\n",
       "No. Observations:               16197   AIC:                             7750.\n",
       "Df Residuals:                   16189   BIC:                             7811.\n",
       "Df Model:                           7                                         \n",
       "Covariance Type:            nonrobust                                         \n",
       "===================================================================================\n",
       "                      coef    std err          t      P>|t|      [0.025      0.975]\n",
       "-----------------------------------------------------------------------------------\n",
       "const               6.4022      0.050    127.700      0.000       6.304       6.500\n",
       "sds_8              -0.0376      0.011     -3.277      0.001      -0.060      -0.015\n",
       "sds_9               0.1984      0.011     18.020      0.000       0.177       0.220\n",
       "sds_10              0.5746      0.010     60.432      0.000       0.556       0.593\n",
       "sds_11              0.4277      0.010     40.790      0.000       0.407       0.448\n",
       "sds_12              0.5943      0.010     57.824      0.000       0.574       0.614\n",
       "bedrooms           -0.0516      0.003    -15.600      0.000      -0.058      -0.045\n",
       "sqft_living_log     0.8498      0.007    114.944      0.000       0.835       0.864\n",
       "==============================================================================\n",
       "Omnibus:                      287.438   Durbin-Watson:                   2.028\n",
       "Prob(Omnibus):                  0.000   Jarque-Bera (JB):              440.046\n",
       "Skew:                           0.189   Prob(JB):                     2.79e-96\n",
       "Kurtosis:                       3.714   Cond. No.                         176.\n",
       "==============================================================================\n",
       "\n",
       "Notes:\n",
       "[1] Standard Errors assume that the covariance matrix of the errors is correctly specified.\n",
       "\"\"\""
      ]
     },
     "execution_count": 42,
     "metadata": {},
     "output_type": "execute_result"
    }
   ],
   "source": [
    "model = sm.OLS(y_train['price_log'], X_train_predictors).fit()\n",
    "model.summary()"
   ]
  },
  {
   "cell_type": "code",
   "execution_count": 43,
   "metadata": {},
   "outputs": [
    {
     "name": "stdout",
     "output_type": "stream",
     "text": [
      "train score: 0.6561979643566505\n",
      "test score: 0.6618249012665269\n"
     ]
    }
   ],
   "source": [
    "splitter = ShuffleSplit(n_splits=3, test_size=0.25, random_state=42)\n",
    "baseline_scores = cross_validate(\n",
    "                estimator=baseline_model,\n",
    "                X=X_train_predictors,\n",
    "                y=y_train['price_log'],\n",
    "                return_train_score=True,\n",
    "                cv=splitter)\n",
    "print('train score:', baseline_scores['train_score'].mean())\n",
    "print('test score:', baseline_scores['test_score'].mean())"
   ]
  },
  {
   "cell_type": "markdown",
   "metadata": {},
   "source": [
    "Our R-squared metric has substantially surpassed the baseline and we still have a reasonable condition number. This looks like a good place to finalize our model and then begin testing it on the 25%-sized test data we set aside earlier."
   ]
  },
  {
   "cell_type": "code",
   "execution_count": 44,
   "metadata": {},
   "outputs": [],
   "source": [
    "final_model = LinearRegression().fit(X_train_predictors, y_train['price_log'])"
   ]
  },
  {
   "cell_type": "markdown",
   "metadata": {},
   "source": [
    "# Evaluation\n",
    "\n",
    "In order to accurately test our test data, we'll single out the same predictors (columns) we did in the training data and apply the same logarithmic transformations to square_footage and sale_price:"
   ]
  },
  {
   "cell_type": "code",
   "execution_count": 45,
   "metadata": {
    "scrolled": true
   },
   "outputs": [
    {
     "data": {
      "text/html": [
       "<div>\n",
       "<style scoped>\n",
       "    .dataframe tbody tr th:only-of-type {\n",
       "        vertical-align: middle;\n",
       "    }\n",
       "\n",
       "    .dataframe tbody tr th {\n",
       "        vertical-align: top;\n",
       "    }\n",
       "\n",
       "    .dataframe thead th {\n",
       "        text-align: right;\n",
       "    }\n",
       "</style>\n",
       "<table border=\"1\" class=\"dataframe\">\n",
       "  <thead>\n",
       "    <tr style=\"text-align: right;\">\n",
       "      <th></th>\n",
       "      <th>id</th>\n",
       "      <th>date</th>\n",
       "      <th>bedrooms</th>\n",
       "      <th>bathrooms</th>\n",
       "      <th>sqft_living</th>\n",
       "      <th>sqft_lot</th>\n",
       "      <th>floors</th>\n",
       "      <th>waterfront</th>\n",
       "      <th>view</th>\n",
       "      <th>condition</th>\n",
       "      <th>...</th>\n",
       "      <th>zipcode</th>\n",
       "      <th>lat</th>\n",
       "      <th>long</th>\n",
       "      <th>sqft_living15</th>\n",
       "      <th>sqft_lot15</th>\n",
       "      <th>sds_8</th>\n",
       "      <th>sds_9</th>\n",
       "      <th>sds_10</th>\n",
       "      <th>sds_11</th>\n",
       "      <th>sds_12</th>\n",
       "    </tr>\n",
       "  </thead>\n",
       "  <tbody>\n",
       "    <tr>\n",
       "      <th>3686</th>\n",
       "      <td>8024201370</td>\n",
       "      <td>12/8/2014</td>\n",
       "      <td>2</td>\n",
       "      <td>1.00</td>\n",
       "      <td>880</td>\n",
       "      <td>5111</td>\n",
       "      <td>1.0</td>\n",
       "      <td>NO</td>\n",
       "      <td>NONE</td>\n",
       "      <td>Average</td>\n",
       "      <td>...</td>\n",
       "      <td>98115</td>\n",
       "      <td>47.6997</td>\n",
       "      <td>-122.314</td>\n",
       "      <td>1370</td>\n",
       "      <td>5111</td>\n",
       "      <td>0</td>\n",
       "      <td>0</td>\n",
       "      <td>1</td>\n",
       "      <td>0</td>\n",
       "      <td>0</td>\n",
       "    </tr>\n",
       "    <tr>\n",
       "      <th>10247</th>\n",
       "      <td>6073300040</td>\n",
       "      <td>1/6/2015</td>\n",
       "      <td>4</td>\n",
       "      <td>2.25</td>\n",
       "      <td>2020</td>\n",
       "      <td>12500</td>\n",
       "      <td>2.0</td>\n",
       "      <td>NO</td>\n",
       "      <td>NONE</td>\n",
       "      <td>Fair</td>\n",
       "      <td>...</td>\n",
       "      <td>98056</td>\n",
       "      <td>47.5403</td>\n",
       "      <td>-122.175</td>\n",
       "      <td>1800</td>\n",
       "      <td>13175</td>\n",
       "      <td>0</td>\n",
       "      <td>0</td>\n",
       "      <td>0</td>\n",
       "      <td>1</td>\n",
       "      <td>0</td>\n",
       "    </tr>\n",
       "    <tr>\n",
       "      <th>4037</th>\n",
       "      <td>431500155</td>\n",
       "      <td>10/24/2014</td>\n",
       "      <td>5</td>\n",
       "      <td>1.75</td>\n",
       "      <td>2020</td>\n",
       "      <td>6565</td>\n",
       "      <td>1.0</td>\n",
       "      <td>NO</td>\n",
       "      <td>NONE</td>\n",
       "      <td>Average</td>\n",
       "      <td>...</td>\n",
       "      <td>98115</td>\n",
       "      <td>47.6821</td>\n",
       "      <td>-122.283</td>\n",
       "      <td>2020</td>\n",
       "      <td>6552</td>\n",
       "      <td>0</td>\n",
       "      <td>0</td>\n",
       "      <td>1</td>\n",
       "      <td>0</td>\n",
       "      <td>0</td>\n",
       "    </tr>\n",
       "    <tr>\n",
       "      <th>3437</th>\n",
       "      <td>7237450110</td>\n",
       "      <td>7/1/2014</td>\n",
       "      <td>4</td>\n",
       "      <td>2.50</td>\n",
       "      <td>2530</td>\n",
       "      <td>5048</td>\n",
       "      <td>2.0</td>\n",
       "      <td>NO</td>\n",
       "      <td>NONE</td>\n",
       "      <td>Average</td>\n",
       "      <td>...</td>\n",
       "      <td>98038</td>\n",
       "      <td>47.3559</td>\n",
       "      <td>-122.063</td>\n",
       "      <td>2530</td>\n",
       "      <td>4359</td>\n",
       "      <td>0</td>\n",
       "      <td>0</td>\n",
       "      <td>1</td>\n",
       "      <td>0</td>\n",
       "      <td>0</td>\n",
       "    </tr>\n",
       "    <tr>\n",
       "      <th>19291</th>\n",
       "      <td>3982700250</td>\n",
       "      <td>4/23/2015</td>\n",
       "      <td>4</td>\n",
       "      <td>2.50</td>\n",
       "      <td>3030</td>\n",
       "      <td>7800</td>\n",
       "      <td>2.0</td>\n",
       "      <td>NO</td>\n",
       "      <td>NONE</td>\n",
       "      <td>Average</td>\n",
       "      <td>...</td>\n",
       "      <td>98033</td>\n",
       "      <td>47.6890</td>\n",
       "      <td>-122.196</td>\n",
       "      <td>2840</td>\n",
       "      <td>7435</td>\n",
       "      <td>0</td>\n",
       "      <td>0</td>\n",
       "      <td>0</td>\n",
       "      <td>0</td>\n",
       "      <td>1</td>\n",
       "    </tr>\n",
       "    <tr>\n",
       "      <th>...</th>\n",
       "      <td>...</td>\n",
       "      <td>...</td>\n",
       "      <td>...</td>\n",
       "      <td>...</td>\n",
       "      <td>...</td>\n",
       "      <td>...</td>\n",
       "      <td>...</td>\n",
       "      <td>...</td>\n",
       "      <td>...</td>\n",
       "      <td>...</td>\n",
       "      <td>...</td>\n",
       "      <td>...</td>\n",
       "      <td>...</td>\n",
       "      <td>...</td>\n",
       "      <td>...</td>\n",
       "      <td>...</td>\n",
       "      <td>...</td>\n",
       "      <td>...</td>\n",
       "      <td>...</td>\n",
       "      <td>...</td>\n",
       "      <td>...</td>\n",
       "    </tr>\n",
       "    <tr>\n",
       "      <th>18276</th>\n",
       "      <td>1672000170</td>\n",
       "      <td>9/8/2014</td>\n",
       "      <td>3</td>\n",
       "      <td>1.75</td>\n",
       "      <td>1890</td>\n",
       "      <td>11141</td>\n",
       "      <td>1.0</td>\n",
       "      <td>NO</td>\n",
       "      <td>NONE</td>\n",
       "      <td>Good</td>\n",
       "      <td>...</td>\n",
       "      <td>98006</td>\n",
       "      <td>47.5697</td>\n",
       "      <td>-122.163</td>\n",
       "      <td>2720</td>\n",
       "      <td>11144</td>\n",
       "      <td>0</td>\n",
       "      <td>0</td>\n",
       "      <td>0</td>\n",
       "      <td>1</td>\n",
       "      <td>0</td>\n",
       "    </tr>\n",
       "    <tr>\n",
       "      <th>15003</th>\n",
       "      <td>148000680</td>\n",
       "      <td>10/27/2014</td>\n",
       "      <td>3</td>\n",
       "      <td>1.75</td>\n",
       "      <td>1660</td>\n",
       "      <td>4800</td>\n",
       "      <td>1.0</td>\n",
       "      <td>NO</td>\n",
       "      <td>NONE</td>\n",
       "      <td>Average</td>\n",
       "      <td>...</td>\n",
       "      <td>98116</td>\n",
       "      <td>47.5734</td>\n",
       "      <td>-122.412</td>\n",
       "      <td>1510</td>\n",
       "      <td>4800</td>\n",
       "      <td>0</td>\n",
       "      <td>0</td>\n",
       "      <td>1</td>\n",
       "      <td>0</td>\n",
       "      <td>0</td>\n",
       "    </tr>\n",
       "    <tr>\n",
       "      <th>13478</th>\n",
       "      <td>7133300380</td>\n",
       "      <td>2/9/2015</td>\n",
       "      <td>4</td>\n",
       "      <td>2.50</td>\n",
       "      <td>2500</td>\n",
       "      <td>4000</td>\n",
       "      <td>2.0</td>\n",
       "      <td>NO</td>\n",
       "      <td>NONE</td>\n",
       "      <td>Average</td>\n",
       "      <td>...</td>\n",
       "      <td>98144</td>\n",
       "      <td>47.5902</td>\n",
       "      <td>-122.311</td>\n",
       "      <td>1480</td>\n",
       "      <td>4300</td>\n",
       "      <td>0</td>\n",
       "      <td>0</td>\n",
       "      <td>1</td>\n",
       "      <td>0</td>\n",
       "      <td>0</td>\n",
       "    </tr>\n",
       "    <tr>\n",
       "      <th>18399</th>\n",
       "      <td>9346920260</td>\n",
       "      <td>6/4/2014</td>\n",
       "      <td>4</td>\n",
       "      <td>2.25</td>\n",
       "      <td>2500</td>\n",
       "      <td>8500</td>\n",
       "      <td>1.0</td>\n",
       "      <td>NaN</td>\n",
       "      <td>NONE</td>\n",
       "      <td>Good</td>\n",
       "      <td>...</td>\n",
       "      <td>98006</td>\n",
       "      <td>47.5615</td>\n",
       "      <td>-122.131</td>\n",
       "      <td>2290</td>\n",
       "      <td>8927</td>\n",
       "      <td>0</td>\n",
       "      <td>0</td>\n",
       "      <td>0</td>\n",
       "      <td>1</td>\n",
       "      <td>0</td>\n",
       "    </tr>\n",
       "    <tr>\n",
       "      <th>2358</th>\n",
       "      <td>7893804340</td>\n",
       "      <td>7/24/2014</td>\n",
       "      <td>4</td>\n",
       "      <td>2.50</td>\n",
       "      <td>2680</td>\n",
       "      <td>8062</td>\n",
       "      <td>1.0</td>\n",
       "      <td>NO</td>\n",
       "      <td>GOOD</td>\n",
       "      <td>Good</td>\n",
       "      <td>...</td>\n",
       "      <td>98198</td>\n",
       "      <td>47.4132</td>\n",
       "      <td>-122.328</td>\n",
       "      <td>1920</td>\n",
       "      <td>8600</td>\n",
       "      <td>0</td>\n",
       "      <td>0</td>\n",
       "      <td>0</td>\n",
       "      <td>0</td>\n",
       "      <td>0</td>\n",
       "    </tr>\n",
       "  </tbody>\n",
       "</table>\n",
       "<p>5400 rows × 25 columns</p>\n",
       "</div>"
      ],
      "text/plain": [
       "               id        date  bedrooms  bathrooms  sqft_living  sqft_lot  \\\n",
       "3686   8024201370   12/8/2014         2       1.00          880      5111   \n",
       "10247  6073300040    1/6/2015         4       2.25         2020     12500   \n",
       "4037    431500155  10/24/2014         5       1.75         2020      6565   \n",
       "3437   7237450110    7/1/2014         4       2.50         2530      5048   \n",
       "19291  3982700250   4/23/2015         4       2.50         3030      7800   \n",
       "...           ...         ...       ...        ...          ...       ...   \n",
       "18276  1672000170    9/8/2014         3       1.75         1890     11141   \n",
       "15003   148000680  10/27/2014         3       1.75         1660      4800   \n",
       "13478  7133300380    2/9/2015         4       2.50         2500      4000   \n",
       "18399  9346920260    6/4/2014         4       2.25         2500      8500   \n",
       "2358   7893804340   7/24/2014         4       2.50         2680      8062   \n",
       "\n",
       "       floors waterfront  view condition  ... zipcode      lat     long  \\\n",
       "3686      1.0         NO  NONE   Average  ...   98115  47.6997 -122.314   \n",
       "10247     2.0         NO  NONE      Fair  ...   98056  47.5403 -122.175   \n",
       "4037      1.0         NO  NONE   Average  ...   98115  47.6821 -122.283   \n",
       "3437      2.0         NO  NONE   Average  ...   98038  47.3559 -122.063   \n",
       "19291     2.0         NO  NONE   Average  ...   98033  47.6890 -122.196   \n",
       "...       ...        ...   ...       ...  ...     ...      ...      ...   \n",
       "18276     1.0         NO  NONE      Good  ...   98006  47.5697 -122.163   \n",
       "15003     1.0         NO  NONE   Average  ...   98116  47.5734 -122.412   \n",
       "13478     2.0         NO  NONE   Average  ...   98144  47.5902 -122.311   \n",
       "18399     1.0        NaN  NONE      Good  ...   98006  47.5615 -122.131   \n",
       "2358      1.0         NO  GOOD      Good  ...   98198  47.4132 -122.328   \n",
       "\n",
       "       sqft_living15  sqft_lot15  sds_8  sds_9  sds_10  sds_11  sds_12  \n",
       "3686            1370        5111      0      0       1       0       0  \n",
       "10247           1800       13175      0      0       0       1       0  \n",
       "4037            2020        6552      0      0       1       0       0  \n",
       "3437            2530        4359      0      0       1       0       0  \n",
       "19291           2840        7435      0      0       0       0       1  \n",
       "...              ...         ...    ...    ...     ...     ...     ...  \n",
       "18276           2720       11144      0      0       0       1       0  \n",
       "15003           1510        4800      0      0       1       0       0  \n",
       "13478           1480        4300      0      0       1       0       0  \n",
       "18399           2290        8927      0      0       0       1       0  \n",
       "2358            1920        8600      0      0       0       0       0  \n",
       "\n",
       "[5400 rows x 25 columns]"
      ]
     },
     "execution_count": 45,
     "metadata": {},
     "output_type": "execute_result"
    }
   ],
   "source": [
    "school_dist_score_dummies_X_test = pd.get_dummies(X_test['school_district_score'], prefix='sds', drop_first=True)\n",
    "X_test = X_test.drop('school_district_score', axis=1)\n",
    "X_test = pd.concat([X_test, school_dist_score_dummies_X_test], axis=1)\n",
    "X_test"
   ]
  },
  {
   "cell_type": "code",
   "execution_count": 46,
   "metadata": {},
   "outputs": [
    {
     "data": {
      "image/png": "[encoded data removed]",
      "text/plain": [
       "<Figure size 432x288 with 1 Axes>"
      ]
     },
     "metadata": {
      "needs_background": "light"
     },
     "output_type": "display_data"
    }
   ],
   "source": [
    "X_test['sqft_living_log'] = np.log(X_test['sqft_living'])\n",
    "#X_test.rename(columns = {'sqft_living': 'sqft_living_log'}, inplace = True)\n",
    "X_test['sqft_living_log'].hist(bins='auto');"
   ]
  },
  {
   "cell_type": "code",
   "execution_count": 47,
   "metadata": {},
   "outputs": [
    {
     "data": {
      "text/html": [
       "<div>\n",
       "<style scoped>\n",
       "    .dataframe tbody tr th:only-of-type {\n",
       "        vertical-align: middle;\n",
       "    }\n",
       "\n",
       "    .dataframe tbody tr th {\n",
       "        vertical-align: top;\n",
       "    }\n",
       "\n",
       "    .dataframe thead th {\n",
       "        text-align: right;\n",
       "    }\n",
       "</style>\n",
       "<table border=\"1\" class=\"dataframe\">\n",
       "  <thead>\n",
       "    <tr style=\"text-align: right;\">\n",
       "      <th></th>\n",
       "      <th>const</th>\n",
       "      <th>sds_8</th>\n",
       "      <th>sds_9</th>\n",
       "      <th>sds_10</th>\n",
       "      <th>sds_11</th>\n",
       "      <th>sds_12</th>\n",
       "      <th>bedrooms</th>\n",
       "      <th>sqft_living_log</th>\n",
       "    </tr>\n",
       "  </thead>\n",
       "  <tbody>\n",
       "    <tr>\n",
       "      <th>3686</th>\n",
       "      <td>1.0</td>\n",
       "      <td>0</td>\n",
       "      <td>0</td>\n",
       "      <td>1</td>\n",
       "      <td>0</td>\n",
       "      <td>0</td>\n",
       "      <td>2</td>\n",
       "      <td>6.779922</td>\n",
       "    </tr>\n",
       "    <tr>\n",
       "      <th>10247</th>\n",
       "      <td>1.0</td>\n",
       "      <td>0</td>\n",
       "      <td>0</td>\n",
       "      <td>0</td>\n",
       "      <td>1</td>\n",
       "      <td>0</td>\n",
       "      <td>4</td>\n",
       "      <td>7.610853</td>\n",
       "    </tr>\n",
       "    <tr>\n",
       "      <th>4037</th>\n",
       "      <td>1.0</td>\n",
       "      <td>0</td>\n",
       "      <td>0</td>\n",
       "      <td>1</td>\n",
       "      <td>0</td>\n",
       "      <td>0</td>\n",
       "      <td>5</td>\n",
       "      <td>7.610853</td>\n",
       "    </tr>\n",
       "    <tr>\n",
       "      <th>3437</th>\n",
       "      <td>1.0</td>\n",
       "      <td>0</td>\n",
       "      <td>0</td>\n",
       "      <td>1</td>\n",
       "      <td>0</td>\n",
       "      <td>0</td>\n",
       "      <td>4</td>\n",
       "      <td>7.835975</td>\n",
       "    </tr>\n",
       "    <tr>\n",
       "      <th>19291</th>\n",
       "      <td>1.0</td>\n",
       "      <td>0</td>\n",
       "      <td>0</td>\n",
       "      <td>0</td>\n",
       "      <td>0</td>\n",
       "      <td>1</td>\n",
       "      <td>4</td>\n",
       "      <td>8.016318</td>\n",
       "    </tr>\n",
       "    <tr>\n",
       "      <th>...</th>\n",
       "      <td>...</td>\n",
       "      <td>...</td>\n",
       "      <td>...</td>\n",
       "      <td>...</td>\n",
       "      <td>...</td>\n",
       "      <td>...</td>\n",
       "      <td>...</td>\n",
       "      <td>...</td>\n",
       "    </tr>\n",
       "    <tr>\n",
       "      <th>18276</th>\n",
       "      <td>1.0</td>\n",
       "      <td>0</td>\n",
       "      <td>0</td>\n",
       "      <td>0</td>\n",
       "      <td>1</td>\n",
       "      <td>0</td>\n",
       "      <td>3</td>\n",
       "      <td>7.544332</td>\n",
       "    </tr>\n",
       "    <tr>\n",
       "      <th>15003</th>\n",
       "      <td>1.0</td>\n",
       "      <td>0</td>\n",
       "      <td>0</td>\n",
       "      <td>1</td>\n",
       "      <td>0</td>\n",
       "      <td>0</td>\n",
       "      <td>3</td>\n",
       "      <td>7.414573</td>\n",
       "    </tr>\n",
       "    <tr>\n",
       "      <th>13478</th>\n",
       "      <td>1.0</td>\n",
       "      <td>0</td>\n",
       "      <td>0</td>\n",
       "      <td>1</td>\n",
       "      <td>0</td>\n",
       "      <td>0</td>\n",
       "      <td>4</td>\n",
       "      <td>7.824046</td>\n",
       "    </tr>\n",
       "    <tr>\n",
       "      <th>18399</th>\n",
       "      <td>1.0</td>\n",
       "      <td>0</td>\n",
       "      <td>0</td>\n",
       "      <td>0</td>\n",
       "      <td>1</td>\n",
       "      <td>0</td>\n",
       "      <td>4</td>\n",
       "      <td>7.824046</td>\n",
       "    </tr>\n",
       "    <tr>\n",
       "      <th>2358</th>\n",
       "      <td>1.0</td>\n",
       "      <td>0</td>\n",
       "      <td>0</td>\n",
       "      <td>0</td>\n",
       "      <td>0</td>\n",
       "      <td>0</td>\n",
       "      <td>4</td>\n",
       "      <td>7.893572</td>\n",
       "    </tr>\n",
       "  </tbody>\n",
       "</table>\n",
       "<p>5400 rows × 8 columns</p>\n",
       "</div>"
      ],
      "text/plain": [
       "       const  sds_8  sds_9  sds_10  sds_11  sds_12  bedrooms  sqft_living_log\n",
       "3686     1.0      0      0       1       0       0         2         6.779922\n",
       "10247    1.0      0      0       0       1       0         4         7.610853\n",
       "4037     1.0      0      0       1       0       0         5         7.610853\n",
       "3437     1.0      0      0       1       0       0         4         7.835975\n",
       "19291    1.0      0      0       0       0       1         4         8.016318\n",
       "...      ...    ...    ...     ...     ...     ...       ...              ...\n",
       "18276    1.0      0      0       0       1       0         3         7.544332\n",
       "15003    1.0      0      0       1       0       0         3         7.414573\n",
       "13478    1.0      0      0       1       0       0         4         7.824046\n",
       "18399    1.0      0      0       0       1       0         4         7.824046\n",
       "2358     1.0      0      0       0       0       0         4         7.893572\n",
       "\n",
       "[5400 rows x 8 columns]"
      ]
     },
     "execution_count": 47,
     "metadata": {},
     "output_type": "execute_result"
    }
   ],
   "source": [
    "final_X_test_predictors = X_test[['sds_8', 'sds_9', 'sds_10', 'sds_11', 'sds_12',\\\n",
    "                                  'bedrooms', 'sqft_living_log']]\n",
    "final_X_test_predictors = sm.add_constant(final_X_test_predictors)\n",
    "#final_X_test_predictors = np.array(final_X_test_predictors).reshape(-1,9)\n",
    "final_X_test_predictors"
   ]
  },
  {
   "cell_type": "code",
   "execution_count": 48,
   "metadata": {},
   "outputs": [
    {
     "data": {
      "text/plain": [
       "3686     12.899220\n",
       "10247    12.834681\n",
       "4037     13.369223\n",
       "3437     12.942849\n",
       "19291    13.592242\n",
       "           ...    \n",
       "18276    13.262125\n",
       "15003    13.180632\n",
       "13478    13.361380\n",
       "18399    13.378555\n",
       "2358     13.060488\n",
       "Name: price_log, Length: 5400, dtype: float64"
      ]
     },
     "execution_count": 48,
     "metadata": {},
     "output_type": "execute_result"
    }
   ],
   "source": [
    "#Now you do the log trans to y_test\n",
    "y_test['price_log'] = np.log(y_test['price'])\n",
    "y_test['price_log']"
   ]
  },
  {
   "cell_type": "code",
   "execution_count": 49,
   "metadata": {},
   "outputs": [
    {
     "data": {
      "text/plain": [
       "0.657713270695718"
      ]
     },
     "execution_count": 49,
     "metadata": {},
     "output_type": "execute_result"
    }
   ],
   "source": [
    "#Double check the score method on the training data\n",
    "final_model.score(X_train_predictors, y_train['price_log'])"
   ]
  },
  {
   "cell_type": "code",
   "execution_count": 50,
   "metadata": {},
   "outputs": [
    {
     "data": {
      "text/plain": [
       "0.6647947116293913"
      ]
     },
     "execution_count": 50,
     "metadata": {},
     "output_type": "execute_result"
    }
   ],
   "source": [
    "#Now we see how the final model performs on the test data:\n",
    "final_model.score(final_X_test_predictors, y_test['price_log'])"
   ]
  },
  {
   "cell_type": "code",
   "execution_count": 51,
   "metadata": {},
   "outputs": [
    {
     "name": "stdout",
     "output_type": "stream",
     "text": [
      "train score: 0.6634949326313587\n",
      "test score: 0.6719941961233485\n"
     ]
    }
   ],
   "source": [
    "splitter = ShuffleSplit(n_splits=3, test_size=0.25, random_state=42)\n",
    "baseline_scores = cross_validate(\n",
    "                estimator=final_model,\n",
    "                X=final_X_test_predictors,\n",
    "#               y=final_y_test,\n",
    "                y=y_test['price_log'],\n",
    "                return_train_score=True,\n",
    "                cv=splitter)\n",
    "print('train score:', baseline_scores['train_score'].mean())\n",
    "print('test score:', baseline_scores['test_score'].mean())"
   ]
  },
  {
   "cell_type": "markdown",
   "metadata": {},
   "source": [
    "Now that our model is seemingly performing well on the test data, let's make sure we're satisfying the requirements of linear regression. Below, I run tests to ensure that the final predictions and data are shaped correctly in order to bring about a meaningful and accurate metric."
   ]
  },
  {
   "cell_type": "code",
   "execution_count": 52,
   "metadata": {},
   "outputs": [
    {
     "data": {
      "text/plain": [
       "array([12.6353259 , 13.09136919, 13.18656924, ..., 13.41938967,\n",
       "       13.27255017, 12.90392159])"
      ]
     },
     "execution_count": 52,
     "metadata": {},
     "output_type": "execute_result"
    }
   ],
   "source": [
    "y_hat = final_model.predict(final_X_test_predictors)\n",
    "y_hat"
   ]
  },
  {
   "cell_type": "code",
   "execution_count": 70,
   "metadata": {},
   "outputs": [
    {
     "data": {
      "image/png": "[encoded data removed]",
      "text/plain": [
       "<Figure size 432x288 with 1 Axes>"
      ]
     },
     "metadata": {
      "needs_background": "light"
     },
     "output_type": "display_data"
    }
   ],
   "source": [
    "fig, ax = plt.subplots()\n",
    "\n",
    "perfect_line = np.arange(y_test['price_log'].min(), y_test['price_log'].max())\n",
    "ax.plot(perfect_line, linestyle=\"--\", color=\"blue\", label=\"perfect fit\")\n",
    "ax.scatter(y_test['price_log'], y_hat, color=\"orange\", alpha=0.5)\n",
    "ax.set_xlabel(\"Actual Price\")\n",
    "ax.set_ylabel(\"Predicted Price\")\n",
    "ax.set_title(\"linearity assumption check\")\n",
    "ax.legend();"
   ]
  },
  {
   "cell_type": "code",
   "execution_count": 54,
   "metadata": {},
   "outputs": [],
   "source": [
    "#training data predictors\n",
    "lm_train_predictions = final_model.predict(X_train_predictors)"
   ]
  },
  {
   "cell_type": "code",
   "execution_count": 55,
   "metadata": {},
   "outputs": [
    {
     "data": {
      "text/plain": [
       "array([13.30963805, 13.42891979, 12.72057105, ..., 13.23331591,\n",
       "       13.30542045, 13.49106649])"
      ]
     },
     "execution_count": 55,
     "metadata": {},
     "output_type": "execute_result"
    }
   ],
   "source": [
    "lm_train_predictions"
   ]
  },
  {
   "cell_type": "code",
   "execution_count": 56,
   "metadata": {},
   "outputs": [
    {
     "data": {
      "image/png": "[encoded data removed]",
      "text/plain": [
       "<Figure size 576x432 with 1 Axes>"
      ]
     },
     "metadata": {
      "needs_background": "light"
     },
     "output_type": "display_data"
    }
   ],
   "source": [
    "plt.figure(figsize=(8,6))\n",
    "plt.scatter(y_train['price_log'], lm_train_predictions, alpha=0.2, label=\"model\")\n",
    "plt.plot(y_train['price_log'], y_train['price_log'], color='r', label=\"actual data\")\n",
    "plt.title(\"model vs. data for training set\")\n",
    "plt.legend();"
   ]
  },
  {
   "cell_type": "code",
   "execution_count": 57,
   "metadata": {},
   "outputs": [
    {
     "data": {
      "text/html": [
       "<div>\n",
       "<style scoped>\n",
       "    .dataframe tbody tr th:only-of-type {\n",
       "        vertical-align: middle;\n",
       "    }\n",
       "\n",
       "    .dataframe tbody tr th {\n",
       "        vertical-align: top;\n",
       "    }\n",
       "\n",
       "    .dataframe thead th {\n",
       "        text-align: right;\n",
       "    }\n",
       "</style>\n",
       "<table border=\"1\" class=\"dataframe\">\n",
       "  <thead>\n",
       "    <tr style=\"text-align: right;\">\n",
       "      <th></th>\n",
       "      <th>price</th>\n",
       "      <th>price_log</th>\n",
       "    </tr>\n",
       "  </thead>\n",
       "  <tbody>\n",
       "    <tr>\n",
       "      <th>3686</th>\n",
       "      <td>400000.0</td>\n",
       "      <td>12.899220</td>\n",
       "    </tr>\n",
       "    <tr>\n",
       "      <th>10247</th>\n",
       "      <td>375000.0</td>\n",
       "      <td>12.834681</td>\n",
       "    </tr>\n",
       "    <tr>\n",
       "      <th>4037</th>\n",
       "      <td>640000.0</td>\n",
       "      <td>13.369223</td>\n",
       "    </tr>\n",
       "    <tr>\n",
       "      <th>3437</th>\n",
       "      <td>417838.0</td>\n",
       "      <td>12.942849</td>\n",
       "    </tr>\n",
       "    <tr>\n",
       "      <th>19291</th>\n",
       "      <td>799900.0</td>\n",
       "      <td>13.592242</td>\n",
       "    </tr>\n",
       "    <tr>\n",
       "      <th>...</th>\n",
       "      <td>...</td>\n",
       "      <td>...</td>\n",
       "    </tr>\n",
       "    <tr>\n",
       "      <th>18276</th>\n",
       "      <td>575000.0</td>\n",
       "      <td>13.262125</td>\n",
       "    </tr>\n",
       "    <tr>\n",
       "      <th>15003</th>\n",
       "      <td>530000.0</td>\n",
       "      <td>13.180632</td>\n",
       "    </tr>\n",
       "    <tr>\n",
       "      <th>13478</th>\n",
       "      <td>635000.0</td>\n",
       "      <td>13.361380</td>\n",
       "    </tr>\n",
       "    <tr>\n",
       "      <th>18399</th>\n",
       "      <td>646000.0</td>\n",
       "      <td>13.378555</td>\n",
       "    </tr>\n",
       "    <tr>\n",
       "      <th>2358</th>\n",
       "      <td>470000.0</td>\n",
       "      <td>13.060488</td>\n",
       "    </tr>\n",
       "  </tbody>\n",
       "</table>\n",
       "<p>5400 rows × 2 columns</p>\n",
       "</div>"
      ],
      "text/plain": [
       "          price  price_log\n",
       "3686   400000.0  12.899220\n",
       "10247  375000.0  12.834681\n",
       "4037   640000.0  13.369223\n",
       "3437   417838.0  12.942849\n",
       "19291  799900.0  13.592242\n",
       "...         ...        ...\n",
       "18276  575000.0  13.262125\n",
       "15003  530000.0  13.180632\n",
       "13478  635000.0  13.361380\n",
       "18399  646000.0  13.378555\n",
       "2358   470000.0  13.060488\n",
       "\n",
       "[5400 rows x 2 columns]"
      ]
     },
     "execution_count": 57,
     "metadata": {},
     "output_type": "execute_result"
    }
   ],
   "source": [
    "y_test"
   ]
  },
  {
   "cell_type": "code",
   "execution_count": 58,
   "metadata": {},
   "outputs": [
    {
     "data": {
      "image/png": "[encoded data removed]",
      "text/plain": [
       "<Figure size 576x432 with 1 Axes>"
      ]
     },
     "metadata": {
      "needs_background": "light"
     },
     "output_type": "display_data"
    }
   ],
   "source": [
    "plt.figure(figsize=(8,6))\n",
    "plt.scatter(y_test['price_log'], y_hat, color='g', alpha=0.2, label=\"model\")\n",
    "plt.plot(y_test['price_log'], y_test['price_log'], color='r', label=\"actual data\")\n",
    "plt.title(\"model vs. data for test set\")\n",
    "plt.legend();"
   ]
  },
  {
   "cell_type": "code",
   "execution_count": 59,
   "metadata": {},
   "outputs": [
    {
     "data": {
      "image/png": "[encoded data removed]",
      "text/plain": [
       "<Figure size 432x288 with 1 Axes>"
      ]
     },
     "metadata": {
      "needs_background": "light"
     },
     "output_type": "display_data"
    }
   ],
   "source": [
    "import scipy.stats as stats\n",
    "#residuals = (final_y_test_unlogged - lm_test_predictions_unlogged)\n",
    "residuals = (y_test['price_log'] - y_hat)\n",
    "sm.graphics.qqplot(residuals, dist=stats.norm, line='45', fit=True)\n",
    "plt.show();"
   ]
  },
  {
   "cell_type": "code",
   "execution_count": 60,
   "metadata": {},
   "outputs": [
    {
     "data": {
      "text/plain": [
       "const              431.124531\n",
       "sds_8                2.026806\n",
       "sds_9                2.225005\n",
       "sds_10               3.500015\n",
       "sds_11               2.633709\n",
       "sds_12               2.754409\n",
       "bedrooms             1.628954\n",
       "sqft_living_log      1.675282\n",
       "Name: Variance Inflation Factor, dtype: float64"
      ]
     },
     "execution_count": 60,
     "metadata": {},
     "output_type": "execute_result"
    }
   ],
   "source": [
    "from statsmodels.stats.outliers_influence import variance_inflation_factor\n",
    "vif = [variance_inflation_factor(X_train_predictors.values, i) for i in range(X_train_predictors.shape[1])]\n",
    "pd.Series(vif, index=X_train_predictors.columns, name=\"Variance Inflation Factor\")"
   ]
  },
  {
   "cell_type": "code",
   "execution_count": 61,
   "metadata": {},
   "outputs": [
    {
     "data": {
      "text/plain": [
       "0.30730551041170767"
      ]
     },
     "execution_count": 61,
     "metadata": {},
     "output_type": "execute_result"
    }
   ],
   "source": [
    "from sklearn.metrics import mean_squared_error\n",
    "mean_squared_error(y_test['price_log'], final_model.predict(final_X_test_predictors), squared=False)"
   ]
  },
  {
   "cell_type": "markdown",
   "metadata": {},
   "source": [
    "It looks like having logarithmically transformed our target variable improved our model's performance in regard to the R-squared score, RSME, and abiding by the assumptions of linear regression. Let's see if I can \"un-log\" the logged variables (price & square footage) in order to obtain more meaningful coefficients:"
   ]
  },
  {
   "cell_type": "code",
   "execution_count": 62,
   "metadata": {},
   "outputs": [
    {
     "data": {
      "text/plain": [
       "array([ 0.        , -0.03764127,  0.19835002,  0.57455439,  0.42771489,\n",
       "        0.59434432, -0.05163944,  0.84984404])"
      ]
     },
     "execution_count": 62,
     "metadata": {},
     "output_type": "execute_result"
    }
   ],
   "source": [
    "#First we isolate the coefficients from the final_model:\n",
    "final_model_coef = final_model.coef_ #index=final_X_test_predictors.columns, name=\"Coefficients\")\n",
    "final_model_coef"
   ]
  },
  {
   "cell_type": "code",
   "execution_count": 63,
   "metadata": {},
   "outputs": [],
   "source": [
    "final_model_coef_df = pd.DataFrame(final_model_coef)"
   ]
  },
  {
   "cell_type": "code",
   "execution_count": 64,
   "metadata": {},
   "outputs": [
    {
     "data": {
      "text/html": [
       "<div>\n",
       "<style scoped>\n",
       "    .dataframe tbody tr th:only-of-type {\n",
       "        vertical-align: middle;\n",
       "    }\n",
       "\n",
       "    .dataframe tbody tr th {\n",
       "        vertical-align: top;\n",
       "    }\n",
       "\n",
       "    .dataframe thead th {\n",
       "        text-align: right;\n",
       "    }\n",
       "</style>\n",
       "<table border=\"1\" class=\"dataframe\">\n",
       "  <thead>\n",
       "    <tr style=\"text-align: right;\">\n",
       "      <th></th>\n",
       "      <th>0</th>\n",
       "    </tr>\n",
       "  </thead>\n",
       "  <tbody>\n",
       "    <tr>\n",
       "      <th>0</th>\n",
       "      <td>0.000000</td>\n",
       "    </tr>\n",
       "    <tr>\n",
       "      <th>1</th>\n",
       "      <td>-0.037641</td>\n",
       "    </tr>\n",
       "    <tr>\n",
       "      <th>2</th>\n",
       "      <td>0.198350</td>\n",
       "    </tr>\n",
       "    <tr>\n",
       "      <th>3</th>\n",
       "      <td>0.574554</td>\n",
       "    </tr>\n",
       "    <tr>\n",
       "      <th>4</th>\n",
       "      <td>0.427715</td>\n",
       "    </tr>\n",
       "    <tr>\n",
       "      <th>5</th>\n",
       "      <td>0.594344</td>\n",
       "    </tr>\n",
       "    <tr>\n",
       "      <th>6</th>\n",
       "      <td>-0.051639</td>\n",
       "    </tr>\n",
       "    <tr>\n",
       "      <th>7</th>\n",
       "      <td>0.849844</td>\n",
       "    </tr>\n",
       "  </tbody>\n",
       "</table>\n",
       "</div>"
      ],
      "text/plain": [
       "          0\n",
       "0  0.000000\n",
       "1 -0.037641\n",
       "2  0.198350\n",
       "3  0.574554\n",
       "4  0.427715\n",
       "5  0.594344\n",
       "6 -0.051639\n",
       "7  0.849844"
      ]
     },
     "execution_count": 64,
     "metadata": {},
     "output_type": "execute_result"
    }
   ],
   "source": [
    "#Now we pass an operation to \"unlog\" them, turning them into percentage changes instead except for \n",
    "# 'sqft_living_log' because it's already logged, so it already shows the percentage change:\n",
    "final_model_unlogged_showing_percentages_instead = final_model_coef_df.apply(lambda \\\n",
    "                                                    x: (np.exp(x)-1)*100 \\\n",
    "                                                    if x.index is x < 7 | x.index >= 8 else x)   \n",
    "final_model_unlogged_showing_percentages_instead"
   ]
  },
  {
   "cell_type": "code",
   "execution_count": 65,
   "metadata": {},
   "outputs": [
    {
     "data": {
      "text/html": [
       "<div>\n",
       "<style scoped>\n",
       "    .dataframe tbody tr th:only-of-type {\n",
       "        vertical-align: middle;\n",
       "    }\n",
       "\n",
       "    .dataframe tbody tr th {\n",
       "        vertical-align: top;\n",
       "    }\n",
       "\n",
       "    .dataframe thead th {\n",
       "        text-align: right;\n",
       "    }\n",
       "</style>\n",
       "<table border=\"1\" class=\"dataframe\">\n",
       "  <thead>\n",
       "    <tr style=\"text-align: right;\">\n",
       "      <th></th>\n",
       "      <th>0</th>\n",
       "    </tr>\n",
       "  </thead>\n",
       "  <tbody>\n",
       "    <tr>\n",
       "      <th>constant</th>\n",
       "      <td>0.000000</td>\n",
       "    </tr>\n",
       "    <tr>\n",
       "      <th>sds_8</th>\n",
       "      <td>-0.037641</td>\n",
       "    </tr>\n",
       "    <tr>\n",
       "      <th>sds_9</th>\n",
       "      <td>0.198350</td>\n",
       "    </tr>\n",
       "    <tr>\n",
       "      <th>sds_10</th>\n",
       "      <td>0.574554</td>\n",
       "    </tr>\n",
       "    <tr>\n",
       "      <th>sds_11</th>\n",
       "      <td>0.427715</td>\n",
       "    </tr>\n",
       "    <tr>\n",
       "      <th>sds_12</th>\n",
       "      <td>0.594344</td>\n",
       "    </tr>\n",
       "    <tr>\n",
       "      <th>bedrooms</th>\n",
       "      <td>-0.051639</td>\n",
       "    </tr>\n",
       "    <tr>\n",
       "      <th>sqft_living_log</th>\n",
       "      <td>0.849844</td>\n",
       "    </tr>\n",
       "  </tbody>\n",
       "</table>\n",
       "</div>"
      ],
      "text/plain": [
       "                        0\n",
       "constant         0.000000\n",
       "sds_8           -0.037641\n",
       "sds_9            0.198350\n",
       "sds_10           0.574554\n",
       "sds_11           0.427715\n",
       "sds_12           0.594344\n",
       "bedrooms        -0.051639\n",
       "sqft_living_log  0.849844"
      ]
     },
     "execution_count": 65,
     "metadata": {},
     "output_type": "execute_result"
    }
   ],
   "source": [
    "index = ['constant', 'sds_8', 'sds_9', 'sds_10', 'sds_11', 'sds_12',\\\n",
    "        'bedrooms', 'sqft_living_log']\n",
    "\n",
    "final_model_unlogged_showing_percentages_instead.index =  list(index)\n",
    "final_model_unlogged_showing_percentages_instead"
   ]
  },
  {
   "cell_type": "code",
   "execution_count": 66,
   "metadata": {},
   "outputs": [
    {
     "data": {
      "text/html": [
       "<table class=\"simpletable\">\n",
       "<tr>\n",
       "         <td></td>            <th>coef</th>     <th>std err</th>      <th>t</th>      <th>P>|t|</th>  <th>[0.025</th>    <th>0.975]</th>  \n",
       "</tr>\n",
       "<tr>\n",
       "  <th>const</th>           <td>    6.4022</td> <td>    0.050</td> <td>  127.700</td> <td> 0.000</td> <td>    6.304</td> <td>    6.500</td>\n",
       "</tr>\n",
       "<tr>\n",
       "  <th>sds_8</th>           <td>   -0.0376</td> <td>    0.011</td> <td>   -3.277</td> <td> 0.001</td> <td>   -0.060</td> <td>   -0.015</td>\n",
       "</tr>\n",
       "<tr>\n",
       "  <th>sds_9</th>           <td>    0.1984</td> <td>    0.011</td> <td>   18.020</td> <td> 0.000</td> <td>    0.177</td> <td>    0.220</td>\n",
       "</tr>\n",
       "<tr>\n",
       "  <th>sds_10</th>          <td>    0.5746</td> <td>    0.010</td> <td>   60.432</td> <td> 0.000</td> <td>    0.556</td> <td>    0.593</td>\n",
       "</tr>\n",
       "<tr>\n",
       "  <th>sds_11</th>          <td>    0.4277</td> <td>    0.010</td> <td>   40.790</td> <td> 0.000</td> <td>    0.407</td> <td>    0.448</td>\n",
       "</tr>\n",
       "<tr>\n",
       "  <th>sds_12</th>          <td>    0.5943</td> <td>    0.010</td> <td>   57.824</td> <td> 0.000</td> <td>    0.574</td> <td>    0.614</td>\n",
       "</tr>\n",
       "<tr>\n",
       "  <th>bedrooms</th>        <td>   -0.0516</td> <td>    0.003</td> <td>  -15.600</td> <td> 0.000</td> <td>   -0.058</td> <td>   -0.045</td>\n",
       "</tr>\n",
       "<tr>\n",
       "  <th>sqft_living_log</th> <td>    0.8498</td> <td>    0.007</td> <td>  114.944</td> <td> 0.000</td> <td>    0.835</td> <td>    0.864</td>\n",
       "</tr>\n",
       "</table>"
      ],
      "text/plain": [
       "<class 'statsmodels.iolib.table.SimpleTable'>"
      ]
     },
     "execution_count": 66,
     "metadata": {},
     "output_type": "execute_result"
    }
   ],
   "source": [
    "LRresult = (model.summary().tables[1])\n",
    "LRresult"
   ]
  },
  {
   "cell_type": "code",
   "execution_count": 67,
   "metadata": {},
   "outputs": [
    {
     "data": {
      "text/html": [
       "<div>\n",
       "<style scoped>\n",
       "    .dataframe tbody tr th:only-of-type {\n",
       "        vertical-align: middle;\n",
       "    }\n",
       "\n",
       "    .dataframe tbody tr th {\n",
       "        vertical-align: top;\n",
       "    }\n",
       "\n",
       "    .dataframe thead th {\n",
       "        text-align: right;\n",
       "    }\n",
       "</style>\n",
       "<table border=\"1\" class=\"dataframe\">\n",
       "  <thead>\n",
       "    <tr style=\"text-align: right;\">\n",
       "      <th></th>\n",
       "      <th>variable_name</th>\n",
       "      <th>coef</th>\n",
       "      <th>standard error</th>\n",
       "      <th>t-value</th>\n",
       "      <th>P&gt;|t|</th>\n",
       "      <th>[0.025</th>\n",
       "      <th>0.975]</th>\n",
       "    </tr>\n",
       "  </thead>\n",
       "  <tbody>\n",
       "    <tr>\n",
       "      <th></th>\n",
       "      <td></td>\n",
       "      <td>coef</td>\n",
       "      <td>std err</td>\n",
       "      <td>t</td>\n",
       "      <td>P&gt;|t|</td>\n",
       "      <td>[0.025</td>\n",
       "      <td>0.975]</td>\n",
       "    </tr>\n",
       "    <tr>\n",
       "      <th>constant</th>\n",
       "      <td>const</td>\n",
       "      <td>6.4022</td>\n",
       "      <td>0.050</td>\n",
       "      <td>127.700</td>\n",
       "      <td>0.000</td>\n",
       "      <td>6.304</td>\n",
       "      <td>6.500</td>\n",
       "    </tr>\n",
       "    <tr>\n",
       "      <th>sds_8</th>\n",
       "      <td>sds_8</td>\n",
       "      <td>-0.0376</td>\n",
       "      <td>0.011</td>\n",
       "      <td>-3.277</td>\n",
       "      <td>0.001</td>\n",
       "      <td>-0.060</td>\n",
       "      <td>-0.015</td>\n",
       "    </tr>\n",
       "    <tr>\n",
       "      <th>sds_9</th>\n",
       "      <td>sds_9</td>\n",
       "      <td>0.1984</td>\n",
       "      <td>0.011</td>\n",
       "      <td>18.020</td>\n",
       "      <td>0.000</td>\n",
       "      <td>0.177</td>\n",
       "      <td>0.220</td>\n",
       "    </tr>\n",
       "    <tr>\n",
       "      <th>sds_10</th>\n",
       "      <td>sds_10</td>\n",
       "      <td>0.5746</td>\n",
       "      <td>0.010</td>\n",
       "      <td>60.432</td>\n",
       "      <td>0.000</td>\n",
       "      <td>0.556</td>\n",
       "      <td>0.593</td>\n",
       "    </tr>\n",
       "    <tr>\n",
       "      <th>sds_11</th>\n",
       "      <td>sds_11</td>\n",
       "      <td>0.4277</td>\n",
       "      <td>0.010</td>\n",
       "      <td>40.790</td>\n",
       "      <td>0.000</td>\n",
       "      <td>0.407</td>\n",
       "      <td>0.448</td>\n",
       "    </tr>\n",
       "    <tr>\n",
       "      <th>sds_12</th>\n",
       "      <td>sds_12</td>\n",
       "      <td>0.5943</td>\n",
       "      <td>0.010</td>\n",
       "      <td>57.824</td>\n",
       "      <td>0.000</td>\n",
       "      <td>0.574</td>\n",
       "      <td>0.614</td>\n",
       "    </tr>\n",
       "    <tr>\n",
       "      <th>bedrooms</th>\n",
       "      <td>bedrooms</td>\n",
       "      <td>-0.0516</td>\n",
       "      <td>0.003</td>\n",
       "      <td>-15.600</td>\n",
       "      <td>0.000</td>\n",
       "      <td>-0.058</td>\n",
       "      <td>-0.045</td>\n",
       "    </tr>\n",
       "    <tr>\n",
       "      <th>sqft_living_log</th>\n",
       "      <td>sqft_living_log</td>\n",
       "      <td>0.8498</td>\n",
       "      <td>0.007</td>\n",
       "      <td>114.944</td>\n",
       "      <td>0.000</td>\n",
       "      <td>0.835</td>\n",
       "      <td>0.864</td>\n",
       "    </tr>\n",
       "  </tbody>\n",
       "</table>\n",
       "</div>"
      ],
      "text/plain": [
       "                   variable_name        coef standard error    t-value  \\\n",
       "                                        coef        std err          t   \n",
       "constant                   const      6.4022          0.050    127.700   \n",
       "sds_8                      sds_8     -0.0376          0.011     -3.277   \n",
       "sds_9                      sds_9      0.1984          0.011     18.020   \n",
       "sds_10                    sds_10      0.5746          0.010     60.432   \n",
       "sds_11                    sds_11      0.4277          0.010     40.790   \n",
       "sds_12                    sds_12      0.5943          0.010     57.824   \n",
       "bedrooms                bedrooms     -0.0516          0.003    -15.600   \n",
       "sqft_living_log  sqft_living_log      0.8498          0.007    114.944   \n",
       "\n",
       "                  P>|t|     [0.025     0.975]  \n",
       "                  P>|t|     [0.025     0.975]  \n",
       "constant          0.000      6.304      6.500  \n",
       "sds_8             0.001     -0.060     -0.015  \n",
       "sds_9             0.000      0.177      0.220  \n",
       "sds_10            0.000      0.556      0.593  \n",
       "sds_11            0.000      0.407      0.448  \n",
       "sds_12            0.000      0.574      0.614  \n",
       "bedrooms          0.000     -0.058     -0.045  \n",
       "sqft_living_log   0.000      0.835      0.864  "
      ]
     },
     "execution_count": 67,
     "metadata": {},
     "output_type": "execute_result"
    }
   ],
   "source": [
    "index = ['', 'constant', 'sds_8', 'sds_9', 'sds_10', 'sds_11', 'sds_12',\\\n",
    "        'bedrooms', 'sqft_living_log']\n",
    "ols_summary = pd.DataFrame(LRresult, \n",
    "                           index=index, \n",
    "                           columns = ['variable_name', 'coef', 'standard error', \\\n",
    "                                      't-value', 'P>|t|', '[0.025', '0.975]'])\n",
    "ols_summary"
   ]
  },
  {
   "cell_type": "code",
   "execution_count": 68,
   "metadata": {},
   "outputs": [
    {
     "data": {
      "text/html": [
       "<div>\n",
       "<style scoped>\n",
       "    .dataframe tbody tr th:only-of-type {\n",
       "        vertical-align: middle;\n",
       "    }\n",
       "\n",
       "    .dataframe tbody tr th {\n",
       "        vertical-align: top;\n",
       "    }\n",
       "\n",
       "    .dataframe thead th {\n",
       "        text-align: right;\n",
       "    }\n",
       "</style>\n",
       "<table border=\"1\" class=\"dataframe\">\n",
       "  <thead>\n",
       "    <tr style=\"text-align: right;\">\n",
       "      <th></th>\n",
       "      <th>coefficient as %</th>\n",
       "      <th>standard error</th>\n",
       "      <th>t-value</th>\n",
       "      <th>P&gt;|t|</th>\n",
       "      <th>[0.025</th>\n",
       "      <th>0.975]</th>\n",
       "    </tr>\n",
       "  </thead>\n",
       "  <tbody>\n",
       "    <tr>\n",
       "      <th>constant</th>\n",
       "      <td>0.000000</td>\n",
       "      <td>0.050</td>\n",
       "      <td>127.700</td>\n",
       "      <td>0.000</td>\n",
       "      <td>6.304</td>\n",
       "      <td>6.500</td>\n",
       "    </tr>\n",
       "    <tr>\n",
       "      <th>sds_8</th>\n",
       "      <td>-0.037641</td>\n",
       "      <td>0.011</td>\n",
       "      <td>-3.277</td>\n",
       "      <td>0.001</td>\n",
       "      <td>-0.060</td>\n",
       "      <td>-0.015</td>\n",
       "    </tr>\n",
       "    <tr>\n",
       "      <th>sds_9</th>\n",
       "      <td>0.198350</td>\n",
       "      <td>0.011</td>\n",
       "      <td>18.020</td>\n",
       "      <td>0.000</td>\n",
       "      <td>0.177</td>\n",
       "      <td>0.220</td>\n",
       "    </tr>\n",
       "    <tr>\n",
       "      <th>sds_10</th>\n",
       "      <td>0.574554</td>\n",
       "      <td>0.010</td>\n",
       "      <td>60.432</td>\n",
       "      <td>0.000</td>\n",
       "      <td>0.556</td>\n",
       "      <td>0.593</td>\n",
       "    </tr>\n",
       "    <tr>\n",
       "      <th>sds_11</th>\n",
       "      <td>0.427715</td>\n",
       "      <td>0.010</td>\n",
       "      <td>40.790</td>\n",
       "      <td>0.000</td>\n",
       "      <td>0.407</td>\n",
       "      <td>0.448</td>\n",
       "    </tr>\n",
       "    <tr>\n",
       "      <th>sds_12</th>\n",
       "      <td>0.594344</td>\n",
       "      <td>0.010</td>\n",
       "      <td>57.824</td>\n",
       "      <td>0.000</td>\n",
       "      <td>0.574</td>\n",
       "      <td>0.614</td>\n",
       "    </tr>\n",
       "    <tr>\n",
       "      <th>bedrooms</th>\n",
       "      <td>-0.051639</td>\n",
       "      <td>0.003</td>\n",
       "      <td>-15.600</td>\n",
       "      <td>0.000</td>\n",
       "      <td>-0.058</td>\n",
       "      <td>-0.045</td>\n",
       "    </tr>\n",
       "    <tr>\n",
       "      <th>sqft_living_log</th>\n",
       "      <td>0.849844</td>\n",
       "      <td>0.007</td>\n",
       "      <td>114.944</td>\n",
       "      <td>0.000</td>\n",
       "      <td>0.835</td>\n",
       "      <td>0.864</td>\n",
       "    </tr>\n",
       "  </tbody>\n",
       "</table>\n",
       "</div>"
      ],
      "text/plain": [
       "                 coefficient as % standard error    t-value   P>|t|  \\\n",
       "constant                 0.000000          0.050    127.700   0.000   \n",
       "sds_8                   -0.037641          0.011     -3.277   0.001   \n",
       "sds_9                    0.198350          0.011     18.020   0.000   \n",
       "sds_10                   0.574554          0.010     60.432   0.000   \n",
       "sds_11                   0.427715          0.010     40.790   0.000   \n",
       "sds_12                   0.594344          0.010     57.824   0.000   \n",
       "bedrooms                -0.051639          0.003    -15.600   0.000   \n",
       "sqft_living_log          0.849844          0.007    114.944   0.000   \n",
       "\n",
       "                    [0.025     0.975]  \n",
       "constant             6.304      6.500  \n",
       "sds_8               -0.060     -0.015  \n",
       "sds_9                0.177      0.220  \n",
       "sds_10               0.556      0.593  \n",
       "sds_11               0.407      0.448  \n",
       "sds_12               0.574      0.614  \n",
       "bedrooms            -0.058     -0.045  \n",
       "sqft_living_log      0.835      0.864  "
      ]
     },
     "execution_count": 68,
     "metadata": {},
     "output_type": "execute_result"
    }
   ],
   "source": [
    "final_model_results = pd.concat([final_model_unlogged_showing_percentages_instead, ols_summary], axis=1)\n",
    "final_model_results = final_model_results.drop(['variable_name', 'coef'], axis=1)\n",
    "final_model_results = final_model_results.drop(final_model_results.tail(1).index)\n",
    "final_model_results = final_model_results.rename(columns={0: 'coefficient as %'})\n",
    "final_model_results"
   ]
  },
  {
   "cell_type": "markdown",
   "metadata": {},
   "source": [
    "In summary, this final model takes into account factors that atter to families with school age children, such as school districts, number of bedrooms, square footage, and the time of year families tend to move. The school district scores were seperated out, giving each district \"grade\" its own category using one-hot encoding. In order to avoid issues of multicollinearity, the first category ('sds_7') was dropped and considered the reference category. Subsequently, sds_8 through sds_12 show price percentage change from that reference sds_7. \n",
    "\n",
    "We see that, moving up from a district grade of 7, sds_8 has a negligible effect on price, while sds_9 through sds_12 show larger impacts on listing price. Interestingly, sds_10 shows a higher price increase than 11, but this may be due to the fact that there are more homes in school districts with a 10 grade score. \n",
    "\n",
    "It turns out that, despite what I often saw when searching for family home-buying priorities, the number of bedrooms didn't have too signficiant an impact on price. What's more is that price tended to *decrease* with more bedrooms. This may be due to the fact that King County spans urban, suburban, and rural areas and smaller homes in Seattle may sell for much more than larger homes further from the city. \n",
    "\n",
    "As we learned from our correlation heatmap earlier, no other single predictor increases listing price as much as square footage. While our stakeholder is almost certainly already well aware of this, the model can help inform them that each percentage increase in square footage correlates with a 0.86% increase in listing price, giving them more specific pricing recommendations to seller and buyers considering bids.\n",
    "\n",
    "Finally, while most families with school-age children move during the summer months when school isn't in session, they wouldn't have to worry about factoring that in to their bids; summer shows almost no correlation to listing price. \n",
    "\n",
    "Each of these correlations show a p-value less than the standard 0.05 alpha level. The model also has a reasonable condition number that shows multicollinearity and distributions of variables are not too big a concern. While the R-sqaured value of 0.666 isn't remarkably high, the tradeoff is more specific insight into a subgroup of buyers.\n",
    "\n",
    "In terms of our stakeholder, they could use this information to help advise seller clients on what to factor in when deciding on a listing price. While not every buyer is weighing options with kids in mind, those residing in higher-scoring school districts may want to consider raising their listing price accordingly. Buyers with kids can be informed on how much more to expect per school district score when it comes to placing a successful bid on a home. Ultimately, our stakeholder would be equipped on specific percentages from familial predictors to advise clients on both the selling and buying side of real estate."
   ]
  }
 ],
 "metadata": {
  "kernelspec": {
   "display_name": "Python 3",
   "language": "python",
   "name": "python3"
  },
  "language_info": {
   "codemirror_mode": {
    "name": "ipython",
    "version": 3
   },
   "file_extension": ".py",
   "mimetype": "text/x-python",
   "name": "python",
   "nbconvert_exporter": "python",
   "pygments_lexer": "ipython3",
   "version": "3.8.5"
  }
 },
 "nbformat": 4,
 "nbformat_minor": 2
}
