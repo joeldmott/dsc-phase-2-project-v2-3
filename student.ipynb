{
 "cells": [
  {
   "cell_type": "markdown",
   "metadata": {},
   "source": [
    "## Final Project Submission\n",
    "\n",
    "Please fill out:\n",
    "* Student name: **Joel Mott**\n",
    "* Student pace: **self paced**\n",
    "* Scheduled project review date/time: **Feb 6, 11am CST/12pm EST**\n",
    "* Instructor name: **Abhineet Kulkarni**\n",
    "* Blog post URL:https://medium.com/@joel.mott8/enhancing-and-narrowing-linear-regression-results-with-outside-data-5f0d22c67132\n"
   ]
  },
  {
   "cell_type": "code",
   "execution_count": 1,
   "metadata": {},
   "outputs": [],
   "source": [
    "import warnings\n",
    "from pandas.core.common import SettingWithCopyWarning\n",
    "warnings.simplefilter(action=\"ignore\", category=SettingWithCopyWarning)"
   ]
  },
  {
   "cell_type": "code",
   "execution_count": 2,
   "metadata": {},
   "outputs": [
    {
     "data": {
      "text/html": [
       "<div>\n",
       "<style scoped>\n",
       "    .dataframe tbody tr th:only-of-type {\n",
       "        vertical-align: middle;\n",
       "    }\n",
       "\n",
       "    .dataframe tbody tr th {\n",
       "        vertical-align: top;\n",
       "    }\n",
       "\n",
       "    .dataframe thead th {\n",
       "        text-align: right;\n",
       "    }\n",
       "</style>\n",
       "<table border=\"1\" class=\"dataframe\">\n",
       "  <thead>\n",
       "    <tr style=\"text-align: right;\">\n",
       "      <th></th>\n",
       "      <th>id</th>\n",
       "      <th>date</th>\n",
       "      <th>price</th>\n",
       "      <th>bedrooms</th>\n",
       "      <th>bathrooms</th>\n",
       "      <th>sqft_living</th>\n",
       "      <th>sqft_lot</th>\n",
       "      <th>floors</th>\n",
       "      <th>waterfront</th>\n",
       "      <th>view</th>\n",
       "      <th>...</th>\n",
       "      <th>grade</th>\n",
       "      <th>sqft_above</th>\n",
       "      <th>sqft_basement</th>\n",
       "      <th>yr_built</th>\n",
       "      <th>yr_renovated</th>\n",
       "      <th>zipcode</th>\n",
       "      <th>lat</th>\n",
       "      <th>long</th>\n",
       "      <th>sqft_living15</th>\n",
       "      <th>sqft_lot15</th>\n",
       "    </tr>\n",
       "  </thead>\n",
       "  <tbody>\n",
       "    <tr>\n",
       "      <th>0</th>\n",
       "      <td>7129300520</td>\n",
       "      <td>10/13/2014</td>\n",
       "      <td>221900.0</td>\n",
       "      <td>3</td>\n",
       "      <td>1.00</td>\n",
       "      <td>1180</td>\n",
       "      <td>5650</td>\n",
       "      <td>1.0</td>\n",
       "      <td>NaN</td>\n",
       "      <td>NONE</td>\n",
       "      <td>...</td>\n",
       "      <td>7 Average</td>\n",
       "      <td>1180</td>\n",
       "      <td>0.0</td>\n",
       "      <td>1955</td>\n",
       "      <td>0.0</td>\n",
       "      <td>98178</td>\n",
       "      <td>47.5112</td>\n",
       "      <td>-122.257</td>\n",
       "      <td>1340</td>\n",
       "      <td>5650</td>\n",
       "    </tr>\n",
       "    <tr>\n",
       "      <th>1</th>\n",
       "      <td>6414100192</td>\n",
       "      <td>12/9/2014</td>\n",
       "      <td>538000.0</td>\n",
       "      <td>3</td>\n",
       "      <td>2.25</td>\n",
       "      <td>2570</td>\n",
       "      <td>7242</td>\n",
       "      <td>2.0</td>\n",
       "      <td>NO</td>\n",
       "      <td>NONE</td>\n",
       "      <td>...</td>\n",
       "      <td>7 Average</td>\n",
       "      <td>2170</td>\n",
       "      <td>400.0</td>\n",
       "      <td>1951</td>\n",
       "      <td>1991.0</td>\n",
       "      <td>98125</td>\n",
       "      <td>47.7210</td>\n",
       "      <td>-122.319</td>\n",
       "      <td>1690</td>\n",
       "      <td>7639</td>\n",
       "    </tr>\n",
       "    <tr>\n",
       "      <th>2</th>\n",
       "      <td>5631500400</td>\n",
       "      <td>2/25/2015</td>\n",
       "      <td>180000.0</td>\n",
       "      <td>2</td>\n",
       "      <td>1.00</td>\n",
       "      <td>770</td>\n",
       "      <td>10000</td>\n",
       "      <td>1.0</td>\n",
       "      <td>NO</td>\n",
       "      <td>NONE</td>\n",
       "      <td>...</td>\n",
       "      <td>6 Low Average</td>\n",
       "      <td>770</td>\n",
       "      <td>0.0</td>\n",
       "      <td>1933</td>\n",
       "      <td>NaN</td>\n",
       "      <td>98028</td>\n",
       "      <td>47.7379</td>\n",
       "      <td>-122.233</td>\n",
       "      <td>2720</td>\n",
       "      <td>8062</td>\n",
       "    </tr>\n",
       "    <tr>\n",
       "      <th>3</th>\n",
       "      <td>2487200875</td>\n",
       "      <td>12/9/2014</td>\n",
       "      <td>604000.0</td>\n",
       "      <td>4</td>\n",
       "      <td>3.00</td>\n",
       "      <td>1960</td>\n",
       "      <td>5000</td>\n",
       "      <td>1.0</td>\n",
       "      <td>NO</td>\n",
       "      <td>NONE</td>\n",
       "      <td>...</td>\n",
       "      <td>7 Average</td>\n",
       "      <td>1050</td>\n",
       "      <td>910.0</td>\n",
       "      <td>1965</td>\n",
       "      <td>0.0</td>\n",
       "      <td>98136</td>\n",
       "      <td>47.5208</td>\n",
       "      <td>-122.393</td>\n",
       "      <td>1360</td>\n",
       "      <td>5000</td>\n",
       "    </tr>\n",
       "    <tr>\n",
       "      <th>4</th>\n",
       "      <td>1954400510</td>\n",
       "      <td>2/18/2015</td>\n",
       "      <td>510000.0</td>\n",
       "      <td>3</td>\n",
       "      <td>2.00</td>\n",
       "      <td>1680</td>\n",
       "      <td>8080</td>\n",
       "      <td>1.0</td>\n",
       "      <td>NO</td>\n",
       "      <td>NONE</td>\n",
       "      <td>...</td>\n",
       "      <td>8 Good</td>\n",
       "      <td>1680</td>\n",
       "      <td>0.0</td>\n",
       "      <td>1987</td>\n",
       "      <td>0.0</td>\n",
       "      <td>98074</td>\n",
       "      <td>47.6168</td>\n",
       "      <td>-122.045</td>\n",
       "      <td>1800</td>\n",
       "      <td>7503</td>\n",
       "    </tr>\n",
       "  </tbody>\n",
       "</table>\n",
       "<p>5 rows × 21 columns</p>\n",
       "</div>"
      ],
      "text/plain": [
       "           id        date     price  bedrooms  bathrooms  sqft_living  \\\n",
       "0  7129300520  10/13/2014  221900.0         3       1.00         1180   \n",
       "1  6414100192   12/9/2014  538000.0         3       2.25         2570   \n",
       "2  5631500400   2/25/2015  180000.0         2       1.00          770   \n",
       "3  2487200875   12/9/2014  604000.0         4       3.00         1960   \n",
       "4  1954400510   2/18/2015  510000.0         3       2.00         1680   \n",
       "\n",
       "   sqft_lot  floors waterfront  view  ...          grade sqft_above  \\\n",
       "0      5650     1.0        NaN  NONE  ...      7 Average       1180   \n",
       "1      7242     2.0         NO  NONE  ...      7 Average       2170   \n",
       "2     10000     1.0         NO  NONE  ...  6 Low Average        770   \n",
       "3      5000     1.0         NO  NONE  ...      7 Average       1050   \n",
       "4      8080     1.0         NO  NONE  ...         8 Good       1680   \n",
       "\n",
       "   sqft_basement yr_built  yr_renovated  zipcode      lat     long  \\\n",
       "0            0.0     1955           0.0    98178  47.5112 -122.257   \n",
       "1          400.0     1951        1991.0    98125  47.7210 -122.319   \n",
       "2            0.0     1933           NaN    98028  47.7379 -122.233   \n",
       "3          910.0     1965           0.0    98136  47.5208 -122.393   \n",
       "4            0.0     1987           0.0    98074  47.6168 -122.045   \n",
       "\n",
       "   sqft_living15  sqft_lot15  \n",
       "0           1340        5650  \n",
       "1           1690        7639  \n",
       "2           2720        8062  \n",
       "3           1360        5000  \n",
       "4           1800        7503  \n",
       "\n",
       "[5 rows x 21 columns]"
      ]
     },
     "execution_count": 2,
     "metadata": {},
     "output_type": "execute_result"
    }
   ],
   "source": [
    "#Taking a preliminary look at the dataset: \n",
    "import pandas as pd\n",
    "import numpy as np\n",
    "import matplotlib.pyplot as plt\n",
    "%matplotlib inline\n",
    "\n",
    "df = pd.read_csv(\"C:\\\\Users\\\\joelm\\\\Desktop\\\\Flatiron School\\\\Phase 2\\\\Phase 2 Labs on GitHub\\\\dsc-phase-2-project-v2-3\\\\dsc-phase-2-project-v2-3\\\\data\\\\kc_house_data.csv\")\n",
    "df.head()"
   ]
  },
  {
   "cell_type": "code",
   "execution_count": 3,
   "metadata": {},
   "outputs": [
    {
     "name": "stdout",
     "output_type": "stream",
     "text": [
      "<class 'pandas.core.frame.DataFrame'>\n",
      "RangeIndex: 21597 entries, 0 to 21596\n",
      "Data columns (total 21 columns):\n",
      " #   Column         Non-Null Count  Dtype  \n",
      "---  ------         --------------  -----  \n",
      " 0   id             21597 non-null  int64  \n",
      " 1   date           21597 non-null  object \n",
      " 2   price          21597 non-null  float64\n",
      " 3   bedrooms       21597 non-null  int64  \n",
      " 4   bathrooms      21597 non-null  float64\n",
      " 5   sqft_living    21597 non-null  int64  \n",
      " 6   sqft_lot       21597 non-null  int64  \n",
      " 7   floors         21597 non-null  float64\n",
      " 8   waterfront     19221 non-null  object \n",
      " 9   view           21534 non-null  object \n",
      " 10  condition      21597 non-null  object \n",
      " 11  grade          21597 non-null  object \n",
      " 12  sqft_above     21597 non-null  int64  \n",
      " 13  sqft_basement  21597 non-null  object \n",
      " 14  yr_built       21597 non-null  int64  \n",
      " 15  yr_renovated   17755 non-null  float64\n",
      " 16  zipcode        21597 non-null  int64  \n",
      " 17  lat            21597 non-null  float64\n",
      " 18  long           21597 non-null  float64\n",
      " 19  sqft_living15  21597 non-null  int64  \n",
      " 20  sqft_lot15     21597 non-null  int64  \n",
      "dtypes: float64(6), int64(9), object(6)\n",
      "memory usage: 3.5+ MB\n"
     ]
    }
   ],
   "source": [
    "df.info()"
   ]
  },
  {
   "cell_type": "code",
   "execution_count": 4,
   "metadata": {},
   "outputs": [
    {
     "data": {
      "text/plain": [
       "7 Average        8974\n",
       "8 Good           6065\n",
       "9 Better         2615\n",
       "6 Low Average    2038\n",
       "10 Very Good     1134\n",
       "11 Excellent      399\n",
       "5 Fair            242\n",
       "12 Luxury          89\n",
       "4 Low              27\n",
       "13 Mansion         13\n",
       "3 Poor              1\n",
       "Name: grade, dtype: int64"
      ]
     },
     "execution_count": 4,
     "metadata": {},
     "output_type": "execute_result"
    }
   ],
   "source": [
    "df['grade'].value_counts()"
   ]
  },
  {
   "cell_type": "code",
   "execution_count": 5,
   "metadata": {},
   "outputs": [
    {
     "data": {
      "text/plain": [
       "NONE         19422\n",
       "AVERAGE        957\n",
       "GOOD           508\n",
       "FAIR           330\n",
       "EXCELLENT      317\n",
       "Name: view, dtype: int64"
      ]
     },
     "execution_count": 5,
     "metadata": {},
     "output_type": "execute_result"
    }
   ],
   "source": [
    "df['view'].value_counts()"
   ]
  },
  {
   "cell_type": "markdown",
   "metadata": {},
   "source": [
    "Notes on columns: 'view' has five values - none, average, good, fair, excellent. 'grade' isn't the slope of the lot, but the quality of building materials - it includes poor, low, fair, low average, average, good, better, very good, excellent, luxury, and mansion."
   ]
  },
  {
   "cell_type": "markdown",
   "metadata": {},
   "source": [
    "Normally, I would proceed to my baseline model at this point. However, before I started, I had wanted to consider some ideas to take the model past the baseline by adding further variables besides the obvious square footage one. \n",
    "\n",
    "Keeping my stakeholder and their clients in mind, what'd be an interesting correlation with real-world business applications? Well, when people look for a home, what do they often want? The saying \"location, location, location\" comes to mind. I'm not sure how to find and rate desireable locations, since that's pretty subjective and may differ from one buyer to the next, but maybe I could look into school district scores. \n",
    "\n",
    "From there, I thought about other ways to tie existing or engineered predictors together into an overarching theme. An idea was to consider the things families with school-age children often look for in a home. Besides school districts, it looks like parents often consider the number of bedrooms, having \"room to grow\" (square footage), and I'll also consider the fact that they tend to buy a home and move during the summer (specifically, in June, July, and August). \n",
    "\n",
    "Looking at census data for King County, 55% of residents are either below 19 years of age or are between 25-44, which means they're at either at school age or at a time when they may be parents who are looking to buy a home in a good school district. In terms of sellers, residing in a good school district may be a reason to raise their sale price.\n",
    "\n",
    "Below, \"sds\" represents a new file I created called \"school_district_scores\", which I made in Excel and will read in and merge with the main dataset below. I started this Excel spreadsheet with information from the King County Tax Assessor's office, where each school district in the county is listed: https://localscape.property/#kingcountyassessor/Education\n",
    "\n",
    "From there, I went to each district's page on www.zipdatamaps.com and started making the Excel spreadsheet with the district name and the zip codes it encompasses. Next, I went to www.niche.com to gather school district \"scores.\" Specifically, Niche gives districts \"grade\" scores from 1-12, which align with the following twelve possible scores: D-/D/D+/C-/C/C+/B-/B/B+/A-/A/A+.\n",
    "\n",
    "While some zip codes only align with one school district, some are zoned for multiple districts. Rather than spend countless hours going through each of those multi-district zip code home records to ensure I specified it's exact district, I took the average district score for each district in that zip code. \n",
    "\n",
    "Now that I have a spreadsheet with zip codes and district scores, I converted it to a CSV file and merged it on the 'zipcode' column below:"
   ]
  },
  {
   "cell_type": "code",
   "execution_count": 6,
   "metadata": {},
   "outputs": [
    {
     "data": {
      "text/html": [
       "<div>\n",
       "<style scoped>\n",
       "    .dataframe tbody tr th:only-of-type {\n",
       "        vertical-align: middle;\n",
       "    }\n",
       "\n",
       "    .dataframe tbody tr th {\n",
       "        vertical-align: top;\n",
       "    }\n",
       "\n",
       "    .dataframe thead th {\n",
       "        text-align: right;\n",
       "    }\n",
       "</style>\n",
       "<table border=\"1\" class=\"dataframe\">\n",
       "  <thead>\n",
       "    <tr style=\"text-align: right;\">\n",
       "      <th></th>\n",
       "      <th>zipcode</th>\n",
       "      <th>school_district_score</th>\n",
       "    </tr>\n",
       "  </thead>\n",
       "  <tbody>\n",
       "    <tr>\n",
       "      <th>0</th>\n",
       "      <td>98001</td>\n",
       "      <td>8</td>\n",
       "    </tr>\n",
       "    <tr>\n",
       "      <th>1</th>\n",
       "      <td>98002</td>\n",
       "      <td>9</td>\n",
       "    </tr>\n",
       "    <tr>\n",
       "      <th>2</th>\n",
       "      <td>98003</td>\n",
       "      <td>7</td>\n",
       "    </tr>\n",
       "    <tr>\n",
       "      <th>3</th>\n",
       "      <td>98004</td>\n",
       "      <td>12</td>\n",
       "    </tr>\n",
       "    <tr>\n",
       "      <th>4</th>\n",
       "      <td>98005</td>\n",
       "      <td>12</td>\n",
       "    </tr>\n",
       "    <tr>\n",
       "      <th>...</th>\n",
       "      <td>...</td>\n",
       "      <td>...</td>\n",
       "    </tr>\n",
       "    <tr>\n",
       "      <th>88</th>\n",
       "      <td>98290</td>\n",
       "      <td>7</td>\n",
       "    </tr>\n",
       "    <tr>\n",
       "      <th>89</th>\n",
       "      <td>98296</td>\n",
       "      <td>10</td>\n",
       "    </tr>\n",
       "    <tr>\n",
       "      <th>90</th>\n",
       "      <td>98323</td>\n",
       "      <td>7</td>\n",
       "    </tr>\n",
       "    <tr>\n",
       "      <th>91</th>\n",
       "      <td>98354</td>\n",
       "      <td>7</td>\n",
       "    </tr>\n",
       "    <tr>\n",
       "      <th>92</th>\n",
       "      <td>98391</td>\n",
       "      <td>8</td>\n",
       "    </tr>\n",
       "  </tbody>\n",
       "</table>\n",
       "<p>93 rows × 2 columns</p>\n",
       "</div>"
      ],
      "text/plain": [
       "    zipcode  school_district_score\n",
       "0     98001                      8\n",
       "1     98002                      9\n",
       "2     98003                      7\n",
       "3     98004                     12\n",
       "4     98005                     12\n",
       "..      ...                    ...\n",
       "88    98290                      7\n",
       "89    98296                     10\n",
       "90    98323                      7\n",
       "91    98354                      7\n",
       "92    98391                      8\n",
       "\n",
       "[93 rows x 2 columns]"
      ]
     },
     "execution_count": 6,
     "metadata": {},
     "output_type": "execute_result"
    }
   ],
   "source": [
    "sds = pd.read_csv(\"C:\\\\Users\\\\joelm\\\\Desktop\\\\Flatiron School\\\\Phase 2\\\\Phase 2 Labs on GitHub\\\\dsc-phase-2-project-v2-3\\\\dsc-phase-2-project-v2-3\\\\data\\\\kc_school_district_scores.csv\")\n",
    "sds"
   ]
  },
  {
   "cell_type": "code",
   "execution_count": 7,
   "metadata": {},
   "outputs": [
    {
     "data": {
      "text/plain": [
       "False"
      ]
     },
     "execution_count": 7,
     "metadata": {},
     "output_type": "execute_result"
    }
   ],
   "source": [
    "#Making sure zip codes aren't missing:\n",
    "df['zipcode'].isnull().values.any()"
   ]
  },
  {
   "cell_type": "code",
   "execution_count": 8,
   "metadata": {},
   "outputs": [
    {
     "data": {
      "text/plain": [
       "98103    602\n",
       "98038    589\n",
       "98115    583\n",
       "98052    574\n",
       "98117    553\n",
       "        ... \n",
       "98102    104\n",
       "98010    100\n",
       "98024     80\n",
       "98148     57\n",
       "98039     50\n",
       "Name: zipcode, Length: 70, dtype: int64"
      ]
     },
     "execution_count": 8,
     "metadata": {},
     "output_type": "execute_result"
    }
   ],
   "source": [
    "df['zipcode'].value_counts()"
   ]
  },
  {
   "cell_type": "code",
   "execution_count": 9,
   "metadata": {},
   "outputs": [
    {
     "data": {
      "text/plain": [
       "98047    1\n",
       "98101    1\n",
       "98168    1\n",
       "98158    1\n",
       "98092    1\n",
       "        ..\n",
       "98011    1\n",
       "98012    1\n",
       "98272    1\n",
       "98014    1\n",
       "98177    1\n",
       "Name: zipcode, Length: 93, dtype: int64"
      ]
     },
     "execution_count": 9,
     "metadata": {},
     "output_type": "execute_result"
    }
   ],
   "source": [
    "#Making sure I didn't duplicate any zip codes in my Excel/CSV school district scores file:\n",
    "sds['zipcode'].value_counts()"
   ]
  },
  {
   "cell_type": "code",
   "execution_count": 10,
   "metadata": {},
   "outputs": [
    {
     "data": {
      "text/html": [
       "<div>\n",
       "<style scoped>\n",
       "    .dataframe tbody tr th:only-of-type {\n",
       "        vertical-align: middle;\n",
       "    }\n",
       "\n",
       "    .dataframe tbody tr th {\n",
       "        vertical-align: top;\n",
       "    }\n",
       "\n",
       "    .dataframe thead th {\n",
       "        text-align: right;\n",
       "    }\n",
       "</style>\n",
       "<table border=\"1\" class=\"dataframe\">\n",
       "  <thead>\n",
       "    <tr style=\"text-align: right;\">\n",
       "      <th></th>\n",
       "      <th>id</th>\n",
       "      <th>date</th>\n",
       "      <th>price</th>\n",
       "      <th>bedrooms</th>\n",
       "      <th>bathrooms</th>\n",
       "      <th>sqft_living</th>\n",
       "      <th>sqft_lot</th>\n",
       "      <th>floors</th>\n",
       "      <th>waterfront</th>\n",
       "      <th>view</th>\n",
       "      <th>...</th>\n",
       "      <th>sqft_above</th>\n",
       "      <th>sqft_basement</th>\n",
       "      <th>yr_built</th>\n",
       "      <th>yr_renovated</th>\n",
       "      <th>zipcode</th>\n",
       "      <th>lat</th>\n",
       "      <th>long</th>\n",
       "      <th>sqft_living15</th>\n",
       "      <th>sqft_lot15</th>\n",
       "      <th>school_district_score</th>\n",
       "    </tr>\n",
       "  </thead>\n",
       "  <tbody>\n",
       "    <tr>\n",
       "      <th>0</th>\n",
       "      <td>7129300520</td>\n",
       "      <td>10/13/2014</td>\n",
       "      <td>221900.0</td>\n",
       "      <td>3</td>\n",
       "      <td>1.00</td>\n",
       "      <td>1180</td>\n",
       "      <td>5650</td>\n",
       "      <td>1.0</td>\n",
       "      <td>NaN</td>\n",
       "      <td>NONE</td>\n",
       "      <td>...</td>\n",
       "      <td>1180</td>\n",
       "      <td>0.0</td>\n",
       "      <td>1955</td>\n",
       "      <td>0.0</td>\n",
       "      <td>98178</td>\n",
       "      <td>47.5112</td>\n",
       "      <td>-122.257</td>\n",
       "      <td>1340</td>\n",
       "      <td>5650</td>\n",
       "      <td>8</td>\n",
       "    </tr>\n",
       "    <tr>\n",
       "      <th>1</th>\n",
       "      <td>4060000240</td>\n",
       "      <td>6/23/2014</td>\n",
       "      <td>205425.0</td>\n",
       "      <td>2</td>\n",
       "      <td>1.00</td>\n",
       "      <td>880</td>\n",
       "      <td>6780</td>\n",
       "      <td>1.0</td>\n",
       "      <td>NO</td>\n",
       "      <td>NONE</td>\n",
       "      <td>...</td>\n",
       "      <td>880</td>\n",
       "      <td>0.0</td>\n",
       "      <td>1945</td>\n",
       "      <td>0.0</td>\n",
       "      <td>98178</td>\n",
       "      <td>47.5009</td>\n",
       "      <td>-122.248</td>\n",
       "      <td>1190</td>\n",
       "      <td>6780</td>\n",
       "      <td>8</td>\n",
       "    </tr>\n",
       "    <tr>\n",
       "      <th>2</th>\n",
       "      <td>4058801670</td>\n",
       "      <td>7/17/2014</td>\n",
       "      <td>445000.0</td>\n",
       "      <td>3</td>\n",
       "      <td>2.25</td>\n",
       "      <td>2100</td>\n",
       "      <td>8201</td>\n",
       "      <td>1.0</td>\n",
       "      <td>NaN</td>\n",
       "      <td>AVERAGE</td>\n",
       "      <td>...</td>\n",
       "      <td>1620</td>\n",
       "      <td>480.0</td>\n",
       "      <td>1967</td>\n",
       "      <td>0.0</td>\n",
       "      <td>98178</td>\n",
       "      <td>47.5091</td>\n",
       "      <td>-122.244</td>\n",
       "      <td>2660</td>\n",
       "      <td>8712</td>\n",
       "      <td>8</td>\n",
       "    </tr>\n",
       "    <tr>\n",
       "      <th>3</th>\n",
       "      <td>2976800796</td>\n",
       "      <td>9/25/2014</td>\n",
       "      <td>236000.0</td>\n",
       "      <td>3</td>\n",
       "      <td>1.00</td>\n",
       "      <td>1300</td>\n",
       "      <td>5898</td>\n",
       "      <td>1.0</td>\n",
       "      <td>NaN</td>\n",
       "      <td>NONE</td>\n",
       "      <td>...</td>\n",
       "      <td>1300</td>\n",
       "      <td>0.0</td>\n",
       "      <td>1961</td>\n",
       "      <td>NaN</td>\n",
       "      <td>98178</td>\n",
       "      <td>47.5053</td>\n",
       "      <td>-122.255</td>\n",
       "      <td>1320</td>\n",
       "      <td>7619</td>\n",
       "      <td>8</td>\n",
       "    </tr>\n",
       "    <tr>\n",
       "      <th>4</th>\n",
       "      <td>6874200960</td>\n",
       "      <td>2/27/2015</td>\n",
       "      <td>170000.0</td>\n",
       "      <td>2</td>\n",
       "      <td>1.00</td>\n",
       "      <td>860</td>\n",
       "      <td>5265</td>\n",
       "      <td>1.0</td>\n",
       "      <td>NO</td>\n",
       "      <td>NONE</td>\n",
       "      <td>...</td>\n",
       "      <td>860</td>\n",
       "      <td>0.0</td>\n",
       "      <td>1931</td>\n",
       "      <td>0.0</td>\n",
       "      <td>98178</td>\n",
       "      <td>47.5048</td>\n",
       "      <td>-122.272</td>\n",
       "      <td>1650</td>\n",
       "      <td>8775</td>\n",
       "      <td>8</td>\n",
       "    </tr>\n",
       "  </tbody>\n",
       "</table>\n",
       "<p>5 rows × 22 columns</p>\n",
       "</div>"
      ],
      "text/plain": [
       "           id        date     price  bedrooms  bathrooms  sqft_living  \\\n",
       "0  7129300520  10/13/2014  221900.0         3       1.00         1180   \n",
       "1  4060000240   6/23/2014  205425.0         2       1.00          880   \n",
       "2  4058801670   7/17/2014  445000.0         3       2.25         2100   \n",
       "3  2976800796   9/25/2014  236000.0         3       1.00         1300   \n",
       "4  6874200960   2/27/2015  170000.0         2       1.00          860   \n",
       "\n",
       "   sqft_lot  floors waterfront     view  ... sqft_above sqft_basement  \\\n",
       "0      5650     1.0        NaN     NONE  ...       1180           0.0   \n",
       "1      6780     1.0         NO     NONE  ...        880           0.0   \n",
       "2      8201     1.0        NaN  AVERAGE  ...       1620         480.0   \n",
       "3      5898     1.0        NaN     NONE  ...       1300           0.0   \n",
       "4      5265     1.0         NO     NONE  ...        860           0.0   \n",
       "\n",
       "   yr_built yr_renovated  zipcode      lat     long  sqft_living15  \\\n",
       "0      1955          0.0    98178  47.5112 -122.257           1340   \n",
       "1      1945          0.0    98178  47.5009 -122.248           1190   \n",
       "2      1967          0.0    98178  47.5091 -122.244           2660   \n",
       "3      1961          NaN    98178  47.5053 -122.255           1320   \n",
       "4      1931          0.0    98178  47.5048 -122.272           1650   \n",
       "\n",
       "   sqft_lot15  school_district_score  \n",
       "0        5650                      8  \n",
       "1        6780                      8  \n",
       "2        8712                      8  \n",
       "3        7619                      8  \n",
       "4        8775                      8  \n",
       "\n",
       "[5 rows x 22 columns]"
      ]
     },
     "execution_count": 10,
     "metadata": {},
     "output_type": "execute_result"
    }
   ],
   "source": [
    "#Joining the new CSV with X_train:\n",
    "df = df.merge(sds, how='inner', on='zipcode')\n",
    "df.head()"
   ]
  },
  {
   "cell_type": "code",
   "execution_count": 11,
   "metadata": {},
   "outputs": [
    {
     "name": "stdout",
     "output_type": "stream",
     "text": [
      "<class 'pandas.core.frame.DataFrame'>\n",
      "Int64Index: 21597 entries, 0 to 21596\n",
      "Data columns (total 22 columns):\n",
      " #   Column                 Non-Null Count  Dtype  \n",
      "---  ------                 --------------  -----  \n",
      " 0   id                     21597 non-null  int64  \n",
      " 1   date                   21597 non-null  object \n",
      " 2   price                  21597 non-null  float64\n",
      " 3   bedrooms               21597 non-null  int64  \n",
      " 4   bathrooms              21597 non-null  float64\n",
      " 5   sqft_living            21597 non-null  int64  \n",
      " 6   sqft_lot               21597 non-null  int64  \n",
      " 7   floors                 21597 non-null  float64\n",
      " 8   waterfront             19221 non-null  object \n",
      " 9   view                   21534 non-null  object \n",
      " 10  condition              21597 non-null  object \n",
      " 11  grade                  21597 non-null  object \n",
      " 12  sqft_above             21597 non-null  int64  \n",
      " 13  sqft_basement          21597 non-null  object \n",
      " 14  yr_built               21597 non-null  int64  \n",
      " 15  yr_renovated           17755 non-null  float64\n",
      " 16  zipcode                21597 non-null  int64  \n",
      " 17  lat                    21597 non-null  float64\n",
      " 18  long                   21597 non-null  float64\n",
      " 19  sqft_living15          21597 non-null  int64  \n",
      " 20  sqft_lot15             21597 non-null  int64  \n",
      " 21  school_district_score  21597 non-null  int64  \n",
      "dtypes: float64(6), int64(10), object(6)\n",
      "memory usage: 3.8+ MB\n"
     ]
    }
   ],
   "source": [
    "df.info()"
   ]
  },
  {
   "cell_type": "markdown",
   "metadata": {},
   "source": [
    "Now that the district scores have been added into the provided DataFrame, let's perform a train-test-split before any variable transformations occur:"
   ]
  },
  {
   "cell_type": "code",
   "execution_count": 12,
   "metadata": {},
   "outputs": [],
   "source": [
    "from sklearn.model_selection import train_test_split\n",
    "train, test = train_test_split(df)"
   ]
  },
  {
   "cell_type": "code",
   "execution_count": 13,
   "metadata": {},
   "outputs": [],
   "source": [
    "y = df[['price']]\n",
    "X = df.drop(['price'], axis=1)\n",
    "X_train, X_test, y_train, y_test = train_test_split(X, y, random_state=42)"
   ]
  },
  {
   "cell_type": "code",
   "execution_count": 14,
   "metadata": {},
   "outputs": [
    {
     "data": {
      "text/html": [
       "<div>\n",
       "<style scoped>\n",
       "    .dataframe tbody tr th:only-of-type {\n",
       "        vertical-align: middle;\n",
       "    }\n",
       "\n",
       "    .dataframe tbody tr th {\n",
       "        vertical-align: top;\n",
       "    }\n",
       "\n",
       "    .dataframe thead th {\n",
       "        text-align: right;\n",
       "    }\n",
       "</style>\n",
       "<table border=\"1\" class=\"dataframe\">\n",
       "  <thead>\n",
       "    <tr style=\"text-align: right;\">\n",
       "      <th></th>\n",
       "      <th>id</th>\n",
       "      <th>date</th>\n",
       "      <th>bedrooms</th>\n",
       "      <th>bathrooms</th>\n",
       "      <th>sqft_living</th>\n",
       "      <th>sqft_lot</th>\n",
       "      <th>floors</th>\n",
       "      <th>waterfront</th>\n",
       "      <th>view</th>\n",
       "      <th>condition</th>\n",
       "      <th>...</th>\n",
       "      <th>sqft_above</th>\n",
       "      <th>sqft_basement</th>\n",
       "      <th>yr_built</th>\n",
       "      <th>yr_renovated</th>\n",
       "      <th>zipcode</th>\n",
       "      <th>lat</th>\n",
       "      <th>long</th>\n",
       "      <th>sqft_living15</th>\n",
       "      <th>sqft_lot15</th>\n",
       "      <th>school_district_score</th>\n",
       "    </tr>\n",
       "  </thead>\n",
       "  <tbody>\n",
       "    <tr>\n",
       "      <th>6405</th>\n",
       "      <td>5454000010</td>\n",
       "      <td>12/10/2014</td>\n",
       "      <td>3</td>\n",
       "      <td>1.75</td>\n",
       "      <td>2020</td>\n",
       "      <td>9478</td>\n",
       "      <td>1.0</td>\n",
       "      <td>NO</td>\n",
       "      <td>NONE</td>\n",
       "      <td>Good</td>\n",
       "      <td>...</td>\n",
       "      <td>2020</td>\n",
       "      <td>0.0</td>\n",
       "      <td>1961</td>\n",
       "      <td>0.0</td>\n",
       "      <td>98040</td>\n",
       "      <td>47.5383</td>\n",
       "      <td>-122.238</td>\n",
       "      <td>3050</td>\n",
       "      <td>15594</td>\n",
       "      <td>12</td>\n",
       "    </tr>\n",
       "    <tr>\n",
       "      <th>937</th>\n",
       "      <td>9265880170</td>\n",
       "      <td>8/26/2014</td>\n",
       "      <td>4</td>\n",
       "      <td>2.50</td>\n",
       "      <td>2470</td>\n",
       "      <td>5954</td>\n",
       "      <td>2.0</td>\n",
       "      <td>NaN</td>\n",
       "      <td>NONE</td>\n",
       "      <td>Average</td>\n",
       "      <td>...</td>\n",
       "      <td>2470</td>\n",
       "      <td>0.0</td>\n",
       "      <td>2013</td>\n",
       "      <td>0.0</td>\n",
       "      <td>98028</td>\n",
       "      <td>47.7685</td>\n",
       "      <td>-122.236</td>\n",
       "      <td>2470</td>\n",
       "      <td>4800</td>\n",
       "      <td>12</td>\n",
       "    </tr>\n",
       "    <tr>\n",
       "      <th>19076</th>\n",
       "      <td>4151800470</td>\n",
       "      <td>8/20/2014</td>\n",
       "      <td>3</td>\n",
       "      <td>2.00</td>\n",
       "      <td>1010</td>\n",
       "      <td>5973</td>\n",
       "      <td>1.0</td>\n",
       "      <td>NO</td>\n",
       "      <td>NONE</td>\n",
       "      <td>Very Good</td>\n",
       "      <td>...</td>\n",
       "      <td>1010</td>\n",
       "      <td>0.0</td>\n",
       "      <td>1942</td>\n",
       "      <td>0.0</td>\n",
       "      <td>98033</td>\n",
       "      <td>47.6652</td>\n",
       "      <td>-122.202</td>\n",
       "      <td>1920</td>\n",
       "      <td>6015</td>\n",
       "      <td>12</td>\n",
       "    </tr>\n",
       "    <tr>\n",
       "      <th>15201</th>\n",
       "      <td>9272201704</td>\n",
       "      <td>5/12/2014</td>\n",
       "      <td>2</td>\n",
       "      <td>2.50</td>\n",
       "      <td>980</td>\n",
       "      <td>895</td>\n",
       "      <td>2.0</td>\n",
       "      <td>NO</td>\n",
       "      <td>NONE</td>\n",
       "      <td>Average</td>\n",
       "      <td>...</td>\n",
       "      <td>670</td>\n",
       "      <td>310.0</td>\n",
       "      <td>2009</td>\n",
       "      <td>0.0</td>\n",
       "      <td>98116</td>\n",
       "      <td>47.5874</td>\n",
       "      <td>-122.386</td>\n",
       "      <td>980</td>\n",
       "      <td>899</td>\n",
       "      <td>10</td>\n",
       "    </tr>\n",
       "    <tr>\n",
       "      <th>13083</th>\n",
       "      <td>7151700190</td>\n",
       "      <td>3/31/2015</td>\n",
       "      <td>2</td>\n",
       "      <td>1.50</td>\n",
       "      <td>2210</td>\n",
       "      <td>5000</td>\n",
       "      <td>1.0</td>\n",
       "      <td>NO</td>\n",
       "      <td>AVERAGE</td>\n",
       "      <td>Average</td>\n",
       "      <td>...</td>\n",
       "      <td>1530</td>\n",
       "      <td>680.0</td>\n",
       "      <td>1951</td>\n",
       "      <td>0.0</td>\n",
       "      <td>98122</td>\n",
       "      <td>47.6122</td>\n",
       "      <td>-122.288</td>\n",
       "      <td>2700</td>\n",
       "      <td>5000</td>\n",
       "      <td>10</td>\n",
       "    </tr>\n",
       "    <tr>\n",
       "      <th>...</th>\n",
       "      <td>...</td>\n",
       "      <td>...</td>\n",
       "      <td>...</td>\n",
       "      <td>...</td>\n",
       "      <td>...</td>\n",
       "      <td>...</td>\n",
       "      <td>...</td>\n",
       "      <td>...</td>\n",
       "      <td>...</td>\n",
       "      <td>...</td>\n",
       "      <td>...</td>\n",
       "      <td>...</td>\n",
       "      <td>...</td>\n",
       "      <td>...</td>\n",
       "      <td>...</td>\n",
       "      <td>...</td>\n",
       "      <td>...</td>\n",
       "      <td>...</td>\n",
       "      <td>...</td>\n",
       "      <td>...</td>\n",
       "      <td>...</td>\n",
       "    </tr>\n",
       "    <tr>\n",
       "      <th>11964</th>\n",
       "      <td>7459810210</td>\n",
       "      <td>10/2/2014</td>\n",
       "      <td>4</td>\n",
       "      <td>2.25</td>\n",
       "      <td>2050</td>\n",
       "      <td>26000</td>\n",
       "      <td>2.0</td>\n",
       "      <td>NO</td>\n",
       "      <td>NONE</td>\n",
       "      <td>Good</td>\n",
       "      <td>...</td>\n",
       "      <td>2050</td>\n",
       "      <td>0.0</td>\n",
       "      <td>1977</td>\n",
       "      <td>0.0</td>\n",
       "      <td>98042</td>\n",
       "      <td>47.3423</td>\n",
       "      <td>-122.063</td>\n",
       "      <td>2330</td>\n",
       "      <td>31100</td>\n",
       "      <td>9</td>\n",
       "    </tr>\n",
       "    <tr>\n",
       "      <th>21575</th>\n",
       "      <td>3835502815</td>\n",
       "      <td>9/25/2014</td>\n",
       "      <td>3</td>\n",
       "      <td>2.50</td>\n",
       "      <td>3110</td>\n",
       "      <td>9930</td>\n",
       "      <td>1.0</td>\n",
       "      <td>NO</td>\n",
       "      <td>FAIR</td>\n",
       "      <td>Average</td>\n",
       "      <td>...</td>\n",
       "      <td>1640</td>\n",
       "      <td>1470.0</td>\n",
       "      <td>1954</td>\n",
       "      <td>0.0</td>\n",
       "      <td>98039</td>\n",
       "      <td>47.6112</td>\n",
       "      <td>-122.226</td>\n",
       "      <td>3650</td>\n",
       "      <td>14399</td>\n",
       "      <td>12</td>\n",
       "    </tr>\n",
       "    <tr>\n",
       "      <th>5390</th>\n",
       "      <td>5693500760</td>\n",
       "      <td>7/7/2014</td>\n",
       "      <td>3</td>\n",
       "      <td>1.00</td>\n",
       "      <td>1890</td>\n",
       "      <td>3330</td>\n",
       "      <td>1.5</td>\n",
       "      <td>NO</td>\n",
       "      <td>NONE</td>\n",
       "      <td>Good</td>\n",
       "      <td>...</td>\n",
       "      <td>1390</td>\n",
       "      <td>500.0</td>\n",
       "      <td>1901</td>\n",
       "      <td>0.0</td>\n",
       "      <td>98103</td>\n",
       "      <td>47.6597</td>\n",
       "      <td>-122.352</td>\n",
       "      <td>1530</td>\n",
       "      <td>3330</td>\n",
       "      <td>10</td>\n",
       "    </tr>\n",
       "    <tr>\n",
       "      <th>860</th>\n",
       "      <td>3579000410</td>\n",
       "      <td>9/5/2014</td>\n",
       "      <td>3</td>\n",
       "      <td>2.25</td>\n",
       "      <td>2010</td>\n",
       "      <td>7447</td>\n",
       "      <td>2.0</td>\n",
       "      <td>NO</td>\n",
       "      <td>NONE</td>\n",
       "      <td>Average</td>\n",
       "      <td>...</td>\n",
       "      <td>2010</td>\n",
       "      <td>0.0</td>\n",
       "      <td>1985</td>\n",
       "      <td>0.0</td>\n",
       "      <td>98028</td>\n",
       "      <td>47.7470</td>\n",
       "      <td>-122.248</td>\n",
       "      <td>2230</td>\n",
       "      <td>7846</td>\n",
       "      <td>12</td>\n",
       "    </tr>\n",
       "    <tr>\n",
       "      <th>15795</th>\n",
       "      <td>1231000645</td>\n",
       "      <td>8/1/2014</td>\n",
       "      <td>4</td>\n",
       "      <td>3.25</td>\n",
       "      <td>2720</td>\n",
       "      <td>4000</td>\n",
       "      <td>2.0</td>\n",
       "      <td>NO</td>\n",
       "      <td>FAIR</td>\n",
       "      <td>Average</td>\n",
       "      <td>...</td>\n",
       "      <td>2070</td>\n",
       "      <td>650.0</td>\n",
       "      <td>2014</td>\n",
       "      <td>0.0</td>\n",
       "      <td>98118</td>\n",
       "      <td>47.5554</td>\n",
       "      <td>-122.267</td>\n",
       "      <td>1450</td>\n",
       "      <td>4000</td>\n",
       "      <td>10</td>\n",
       "    </tr>\n",
       "  </tbody>\n",
       "</table>\n",
       "<p>16197 rows × 21 columns</p>\n",
       "</div>"
      ],
      "text/plain": [
       "               id        date  bedrooms  bathrooms  sqft_living  sqft_lot  \\\n",
       "6405   5454000010  12/10/2014         3       1.75         2020      9478   \n",
       "937    9265880170   8/26/2014         4       2.50         2470      5954   \n",
       "19076  4151800470   8/20/2014         3       2.00         1010      5973   \n",
       "15201  9272201704   5/12/2014         2       2.50          980       895   \n",
       "13083  7151700190   3/31/2015         2       1.50         2210      5000   \n",
       "...           ...         ...       ...        ...          ...       ...   \n",
       "11964  7459810210   10/2/2014         4       2.25         2050     26000   \n",
       "21575  3835502815   9/25/2014         3       2.50         3110      9930   \n",
       "5390   5693500760    7/7/2014         3       1.00         1890      3330   \n",
       "860    3579000410    9/5/2014         3       2.25         2010      7447   \n",
       "15795  1231000645    8/1/2014         4       3.25         2720      4000   \n",
       "\n",
       "       floors waterfront     view  condition  ... sqft_above  sqft_basement  \\\n",
       "6405      1.0         NO     NONE       Good  ...       2020            0.0   \n",
       "937       2.0        NaN     NONE    Average  ...       2470            0.0   \n",
       "19076     1.0         NO     NONE  Very Good  ...       1010            0.0   \n",
       "15201     2.0         NO     NONE    Average  ...        670          310.0   \n",
       "13083     1.0         NO  AVERAGE    Average  ...       1530          680.0   \n",
       "...       ...        ...      ...        ...  ...        ...            ...   \n",
       "11964     2.0         NO     NONE       Good  ...       2050            0.0   \n",
       "21575     1.0         NO     FAIR    Average  ...       1640         1470.0   \n",
       "5390      1.5         NO     NONE       Good  ...       1390          500.0   \n",
       "860       2.0         NO     NONE    Average  ...       2010            0.0   \n",
       "15795     2.0         NO     FAIR    Average  ...       2070          650.0   \n",
       "\n",
       "      yr_built  yr_renovated  zipcode      lat     long  sqft_living15  \\\n",
       "6405      1961           0.0    98040  47.5383 -122.238           3050   \n",
       "937       2013           0.0    98028  47.7685 -122.236           2470   \n",
       "19076     1942           0.0    98033  47.6652 -122.202           1920   \n",
       "15201     2009           0.0    98116  47.5874 -122.386            980   \n",
       "13083     1951           0.0    98122  47.6122 -122.288           2700   \n",
       "...        ...           ...      ...      ...      ...            ...   \n",
       "11964     1977           0.0    98042  47.3423 -122.063           2330   \n",
       "21575     1954           0.0    98039  47.6112 -122.226           3650   \n",
       "5390      1901           0.0    98103  47.6597 -122.352           1530   \n",
       "860       1985           0.0    98028  47.7470 -122.248           2230   \n",
       "15795     2014           0.0    98118  47.5554 -122.267           1450   \n",
       "\n",
       "       sqft_lot15  school_district_score  \n",
       "6405        15594                     12  \n",
       "937          4800                     12  \n",
       "19076        6015                     12  \n",
       "15201         899                     10  \n",
       "13083        5000                     10  \n",
       "...           ...                    ...  \n",
       "11964       31100                      9  \n",
       "21575       14399                     12  \n",
       "5390         3330                     10  \n",
       "860          7846                     12  \n",
       "15795        4000                     10  \n",
       "\n",
       "[16197 rows x 21 columns]"
      ]
     },
     "execution_count": 14,
     "metadata": {},
     "output_type": "execute_result"
    }
   ],
   "source": [
    "X_train"
   ]
  },
  {
   "cell_type": "code",
   "execution_count": 15,
   "metadata": {},
   "outputs": [
    {
     "name": "stdout",
     "output_type": "stream",
     "text": [
      "<class 'pandas.core.frame.DataFrame'>\n",
      "Int64Index: 16197 entries, 6405 to 15795\n",
      "Data columns (total 21 columns):\n",
      " #   Column                 Non-Null Count  Dtype  \n",
      "---  ------                 --------------  -----  \n",
      " 0   id                     16197 non-null  int64  \n",
      " 1   date                   16197 non-null  object \n",
      " 2   bedrooms               16197 non-null  int64  \n",
      " 3   bathrooms              16197 non-null  float64\n",
      " 4   sqft_living            16197 non-null  int64  \n",
      " 5   sqft_lot               16197 non-null  int64  \n",
      " 6   floors                 16197 non-null  float64\n",
      " 7   waterfront             14410 non-null  object \n",
      " 8   view                   16151 non-null  object \n",
      " 9   condition              16197 non-null  object \n",
      " 10  grade                  16197 non-null  object \n",
      " 11  sqft_above             16197 non-null  int64  \n",
      " 12  sqft_basement          16197 non-null  object \n",
      " 13  yr_built               16197 non-null  int64  \n",
      " 14  yr_renovated           13307 non-null  float64\n",
      " 15  zipcode                16197 non-null  int64  \n",
      " 16  lat                    16197 non-null  float64\n",
      " 17  long                   16197 non-null  float64\n",
      " 18  sqft_living15          16197 non-null  int64  \n",
      " 19  sqft_lot15             16197 non-null  int64  \n",
      " 20  school_district_score  16197 non-null  int64  \n",
      "dtypes: float64(5), int64(10), object(6)\n",
      "memory usage: 2.7+ MB\n"
     ]
    }
   ],
   "source": [
    "X_train.info()"
   ]
  },
  {
   "cell_type": "code",
   "execution_count": 16,
   "metadata": {},
   "outputs": [
    {
     "data": {
      "image/png": "[encoded data removed]",
      "text/plain": [
       "<Figure size 1080x1080 with 2 Axes>"
      ]
     },
     "metadata": {
      "needs_background": "light"
     },
     "output_type": "display_data"
    }
   ],
   "source": [
    "#Now let's combine X_train with y_train so we can see the correlation heatmap\n",
    "# for all of our training data:\n",
    "training_data = pd.concat([y_train, X_train], axis=1)\n",
    "training_data\n",
    "\n",
    "import seaborn as sns\n",
    "heatmap_data = training_data\n",
    "corr = heatmap_data.corr()\n",
    "fig, ax = plt.subplots(figsize=(15,15))\n",
    "sns.heatmap(data=corr, mask=np.triu(corr), ax=ax, annot=True, \n",
    "            cbar_kws={'label':'correlation', 'orientation':'horizontal', 'pad':.2, 'extend':'both'});"
   ]
  },
  {
   "cell_type": "markdown",
   "metadata": {},
   "source": [
    "It looks like 'sqft_living', aka the square footage of the living space in the home, is by far the most highly-correlated predictor for sale price. Let's take a closer look:"
   ]
  },
  {
   "cell_type": "code",
   "execution_count": 17,
   "metadata": {},
   "outputs": [
    {
     "data": {
      "image/png": "[encoded data removed]",
      "text/plain": [
       "<Figure size 432x288 with 1 Axes>"
      ]
     },
     "metadata": {
      "needs_background": "light"
     },
     "output_type": "display_data"
    }
   ],
   "source": [
    "fig, ax = plt.subplots()\n",
    "ax.scatter(X_train['sqft_living'], y_train, alpha=0.2)\n",
    "ax.set_xlabel('square footage of living space')\n",
    "ax.set_ylabel('listing price')\n",
    "ax.set_title('Correlation of square footage and listing price');"
   ]
  },
  {
   "cell_type": "markdown",
   "metadata": {},
   "source": [
    "There's definitely a strong positive correlation there, although it looks like the distribution of one or both isn't entirely normal. However, for purposes of our baseline model, this will serve as a good benchmark against which to compare future model iterations."
   ]
  },
  {
   "cell_type": "code",
   "execution_count": 18,
   "metadata": {},
   "outputs": [
    {
     "data": {
      "text/plain": [
       "False"
      ]
     },
     "execution_count": 18,
     "metadata": {},
     "output_type": "execute_result"
    }
   ],
   "source": [
    "y_train.isnull().values.any()"
   ]
  },
  {
   "cell_type": "code",
   "execution_count": 19,
   "metadata": {},
   "outputs": [
    {
     "data": {
      "text/plain": [
       "False"
      ]
     },
     "execution_count": 19,
     "metadata": {},
     "output_type": "execute_result"
    }
   ],
   "source": [
    "X_train['sqft_living'].isnull().values.any()"
   ]
  },
  {
   "cell_type": "code",
   "execution_count": 20,
   "metadata": {},
   "outputs": [
    {
     "data": {
      "text/html": [
       "<table class=\"simpletable\">\n",
       "<caption>OLS Regression Results</caption>\n",
       "<tr>\n",
       "  <th>Dep. Variable:</th>          <td>price</td>      <th>  R-squared:         </th>  <td>   0.492</td>  \n",
       "</tr>\n",
       "<tr>\n",
       "  <th>Model:</th>                   <td>OLS</td>       <th>  Adj. R-squared:    </th>  <td>   0.492</td>  \n",
       "</tr>\n",
       "<tr>\n",
       "  <th>Method:</th>             <td>Least Squares</td>  <th>  F-statistic:       </th>  <td>1.571e+04</td> \n",
       "</tr>\n",
       "<tr>\n",
       "  <th>Date:</th>             <td>Sun, 05 Feb 2023</td> <th>  Prob (F-statistic):</th>   <td>  0.00</td>   \n",
       "</tr>\n",
       "<tr>\n",
       "  <th>Time:</th>                 <td>10:24:08</td>     <th>  Log-Likelihood:    </th> <td>-2.2463e+05</td>\n",
       "</tr>\n",
       "<tr>\n",
       "  <th>No. Observations:</th>      <td> 16197</td>      <th>  AIC:               </th>  <td>4.493e+05</td> \n",
       "</tr>\n",
       "<tr>\n",
       "  <th>Df Residuals:</th>          <td> 16195</td>      <th>  BIC:               </th>  <td>4.493e+05</td> \n",
       "</tr>\n",
       "<tr>\n",
       "  <th>Df Model:</th>              <td>     1</td>      <th>                     </th>      <td> </td>     \n",
       "</tr>\n",
       "<tr>\n",
       "  <th>Covariance Type:</th>      <td>nonrobust</td>    <th>                     </th>      <td> </td>     \n",
       "</tr>\n",
       "</table>\n",
       "<table class=\"simpletable\">\n",
       "<tr>\n",
       "       <td></td>          <th>coef</th>     <th>std err</th>      <th>t</th>      <th>P>|t|</th>  <th>[0.025</th>    <th>0.975]</th>  \n",
       "</tr>\n",
       "<tr>\n",
       "  <th>Intercept</th>   <td>-3.311e+04</td> <td> 4980.254</td> <td>   -6.649</td> <td> 0.000</td> <td>-4.29e+04</td> <td>-2.34e+04</td>\n",
       "</tr>\n",
       "<tr>\n",
       "  <th>sqft_living</th> <td>  274.6815</td> <td>    2.192</td> <td>  125.331</td> <td> 0.000</td> <td>  270.386</td> <td>  278.977</td>\n",
       "</tr>\n",
       "</table>\n",
       "<table class=\"simpletable\">\n",
       "<tr>\n",
       "  <th>Omnibus:</th>       <td>10707.172</td> <th>  Durbin-Watson:     </th>  <td>   2.004</td> \n",
       "</tr>\n",
       "<tr>\n",
       "  <th>Prob(Omnibus):</th>  <td> 0.000</td>   <th>  Jarque-Bera (JB):  </th> <td>374442.228</td>\n",
       "</tr>\n",
       "<tr>\n",
       "  <th>Skew:</th>           <td> 2.681</td>   <th>  Prob(JB):          </th>  <td>    0.00</td> \n",
       "</tr>\n",
       "<tr>\n",
       "  <th>Kurtosis:</th>       <td>25.936</td>   <th>  Cond. No.          </th>  <td>5.64e+03</td> \n",
       "</tr>\n",
       "</table><br/><br/>Notes:<br/>[1] Standard Errors assume that the covariance matrix of the errors is correctly specified.<br/>[2] The condition number is large, 5.64e+03. This might indicate that there are<br/>strong multicollinearity or other numerical problems."
      ],
      "text/plain": [
       "<class 'statsmodels.iolib.summary.Summary'>\n",
       "\"\"\"\n",
       "                            OLS Regression Results                            \n",
       "==============================================================================\n",
       "Dep. Variable:                  price   R-squared:                       0.492\n",
       "Model:                            OLS   Adj. R-squared:                  0.492\n",
       "Method:                 Least Squares   F-statistic:                 1.571e+04\n",
       "Date:                Sun, 05 Feb 2023   Prob (F-statistic):               0.00\n",
       "Time:                        10:24:08   Log-Likelihood:            -2.2463e+05\n",
       "No. Observations:               16197   AIC:                         4.493e+05\n",
       "Df Residuals:                   16195   BIC:                         4.493e+05\n",
       "Df Model:                           1                                         \n",
       "Covariance Type:            nonrobust                                         \n",
       "===============================================================================\n",
       "                  coef    std err          t      P>|t|      [0.025      0.975]\n",
       "-------------------------------------------------------------------------------\n",
       "Intercept   -3.311e+04   4980.254     -6.649      0.000   -4.29e+04   -2.34e+04\n",
       "sqft_living   274.6815      2.192    125.331      0.000     270.386     278.977\n",
       "==============================================================================\n",
       "Omnibus:                    10707.172   Durbin-Watson:                   2.004\n",
       "Prob(Omnibus):                  0.000   Jarque-Bera (JB):           374442.228\n",
       "Skew:                           2.681   Prob(JB):                         0.00\n",
       "Kurtosis:                      25.936   Cond. No.                     5.64e+03\n",
       "==============================================================================\n",
       "\n",
       "Notes:\n",
       "[1] Standard Errors assume that the covariance matrix of the errors is correctly specified.\n",
       "[2] The condition number is large, 5.64e+03. This might indicate that there are\n",
       "strong multicollinearity or other numerical problems.\n",
       "\"\"\""
      ]
     },
     "execution_count": 20,
     "metadata": {},
     "output_type": "execute_result"
    }
   ],
   "source": [
    "import statsmodels.api as sm\n",
    "from statsmodels.formula.api import ols\n",
    "formula = 'price ~ sqft_living'\n",
    "model = ols(formula=formula, data=training_data).fit()\n",
    "model.summary()"
   ]
  },
  {
   "cell_type": "code",
   "execution_count": 21,
   "metadata": {},
   "outputs": [],
   "source": [
    "from sklearn.linear_model import LinearRegression\n",
    "baseline_model = LinearRegression()"
   ]
  },
  {
   "cell_type": "code",
   "execution_count": 22,
   "metadata": {},
   "outputs": [
    {
     "name": "stdout",
     "output_type": "stream",
     "text": [
      "train score: 0.49237215871023315\n",
      "test score: 0.4911998522614051\n"
     ]
    }
   ],
   "source": [
    "from sklearn.model_selection import cross_validate, ShuffleSplit\n",
    "\n",
    "most_correlated_feature = np.array(X_train['sqft_living']).reshape(-1,1)\n",
    "y_train_cv = np.array(y_train).reshape(-1,1)\n",
    "\n",
    "splitter = ShuffleSplit(n_splits=3, test_size=0.25, random_state=42)\n",
    "baseline_scores = cross_validate(\n",
    "                estimator=baseline_model,\n",
    "                X=most_correlated_feature,\n",
    "                y=y_train_cv,\n",
    "                return_train_score=True,\n",
    "                cv=splitter)\n",
    "print('train score:', baseline_scores['train_score'].mean())\n",
    "print('test score:', baseline_scores['test_score'].mean())"
   ]
  },
  {
   "cell_type": "markdown",
   "metadata": {},
   "source": [
    "Unsurprisingly, we see a decent R-squared score. The condition number is quite high, although that isn't *too* big a concern when we're just working with one predictor. Nonetheless, as we iterate through more refined models, we'll want to lower that condition number. \n",
    "\n",
    "Looking at our intra-training-data cross-validation scores, the \"test score\" is comprable to the \"train score\" (even a little higher), so we're off to a good start with this baseline. "
   ]
  },
  {
   "cell_type": "markdown",
   "metadata": {},
   "source": [
    "Moving towards building a more sophisticated model, our previous heatmap showed a 0.36 correlation between price and school district scores, the fourth-highest among all fifteen predictors. Let's look at the extent to which this pattern visually emerges:"
   ]
  },
  {
   "cell_type": "code",
   "execution_count": 23,
   "metadata": {},
   "outputs": [
    {
     "data": {
      "text/plain": [
       "False"
      ]
     },
     "execution_count": 23,
     "metadata": {},
     "output_type": "execute_result"
    }
   ],
   "source": [
    "X_train['school_district_score'].isnull().values.any()"
   ]
  },
  {
   "cell_type": "code",
   "execution_count": 24,
   "metadata": {},
   "outputs": [
    {
     "data": {
      "image/png": "[encoded data removed]",
      "text/plain": [
       "<Figure size 432x288 with 1 Axes>"
      ]
     },
     "metadata": {
      "needs_background": "light"
     },
     "output_type": "display_data"
    }
   ],
   "source": [
    "fig, ax = plt.subplots()\n",
    "ax.scatter(X_train['school_district_score'], y_train, alpha=0.2)\n",
    "ax.set_xlabel('school district score')\n",
    "ax.set_ylabel('listing price')\n",
    "ax.set_title('Correlation between school district score and price')\n",
    "plt.tight_layout();"
   ]
  },
  {
   "cell_type": "markdown",
   "metadata": {},
   "source": [
    "It looks like there's a general rise in the range of prices (both in terms of range-width and price) as the score of the school district increases. Let's construct our first model iteration here:"
   ]
  },
  {
   "cell_type": "code",
   "execution_count": 25,
   "metadata": {},
   "outputs": [
    {
     "data": {
      "text/html": [
       "<table class=\"simpletable\">\n",
       "<caption>OLS Regression Results</caption>\n",
       "<tr>\n",
       "  <th>Dep. Variable:</th>          <td>price</td>      <th>  R-squared:         </th>  <td>   0.133</td>  \n",
       "</tr>\n",
       "<tr>\n",
       "  <th>Model:</th>                   <td>OLS</td>       <th>  Adj. R-squared:    </th>  <td>   0.133</td>  \n",
       "</tr>\n",
       "<tr>\n",
       "  <th>Method:</th>             <td>Least Squares</td>  <th>  F-statistic:       </th>  <td>   2480.</td>  \n",
       "</tr>\n",
       "<tr>\n",
       "  <th>Date:</th>             <td>Sun, 05 Feb 2023</td> <th>  Prob (F-statistic):</th>   <td>  0.00</td>   \n",
       "</tr>\n",
       "<tr>\n",
       "  <th>Time:</th>                 <td>10:24:10</td>     <th>  Log-Likelihood:    </th> <td>-2.2897e+05</td>\n",
       "</tr>\n",
       "<tr>\n",
       "  <th>No. Observations:</th>      <td> 16197</td>      <th>  AIC:               </th>  <td>4.579e+05</td> \n",
       "</tr>\n",
       "<tr>\n",
       "  <th>Df Residuals:</th>          <td> 16195</td>      <th>  BIC:               </th>  <td>4.580e+05</td> \n",
       "</tr>\n",
       "<tr>\n",
       "  <th>Df Model:</th>              <td>     1</td>      <th>                     </th>      <td> </td>     \n",
       "</tr>\n",
       "<tr>\n",
       "  <th>Covariance Type:</th>      <td>nonrobust</td>    <th>                     </th>      <td> </td>     \n",
       "</tr>\n",
       "</table>\n",
       "<table class=\"simpletable\">\n",
       "<tr>\n",
       "            <td></td>               <th>coef</th>     <th>std err</th>      <th>t</th>      <th>P>|t|</th>  <th>[0.025</th>    <th>0.975]</th>  \n",
       "</tr>\n",
       "<tr>\n",
       "  <th>Intercept</th>             <td>  -3.5e+05</td> <td>  1.8e+04</td> <td>  -19.418</td> <td> 0.000</td> <td>-3.85e+05</td> <td>-3.15e+05</td>\n",
       "</tr>\n",
       "<tr>\n",
       "  <th>school_district_score</th> <td> 8.899e+04</td> <td> 1786.756</td> <td>   49.804</td> <td> 0.000</td> <td> 8.55e+04</td> <td> 9.25e+04</td>\n",
       "</tr>\n",
       "</table>\n",
       "<table class=\"simpletable\">\n",
       "<tr>\n",
       "  <th>Omnibus:</th>       <td>14802.934</td> <th>  Durbin-Watson:     </th>  <td>   2.020</td>  \n",
       "</tr>\n",
       "<tr>\n",
       "  <th>Prob(Omnibus):</th>  <td> 0.000</td>   <th>  Jarque-Bera (JB):  </th> <td>1107845.335</td>\n",
       "</tr>\n",
       "<tr>\n",
       "  <th>Skew:</th>           <td> 4.150</td>   <th>  Prob(JB):          </th>  <td>    0.00</td>  \n",
       "</tr>\n",
       "<tr>\n",
       "  <th>Kurtosis:</th>       <td>42.657</td>   <th>  Cond. No.          </th>  <td>    70.1</td>  \n",
       "</tr>\n",
       "</table><br/><br/>Notes:<br/>[1] Standard Errors assume that the covariance matrix of the errors is correctly specified."
      ],
      "text/plain": [
       "<class 'statsmodels.iolib.summary.Summary'>\n",
       "\"\"\"\n",
       "                            OLS Regression Results                            \n",
       "==============================================================================\n",
       "Dep. Variable:                  price   R-squared:                       0.133\n",
       "Model:                            OLS   Adj. R-squared:                  0.133\n",
       "Method:                 Least Squares   F-statistic:                     2480.\n",
       "Date:                Sun, 05 Feb 2023   Prob (F-statistic):               0.00\n",
       "Time:                        10:24:10   Log-Likelihood:            -2.2897e+05\n",
       "No. Observations:               16197   AIC:                         4.579e+05\n",
       "Df Residuals:                   16195   BIC:                         4.580e+05\n",
       "Df Model:                           1                                         \n",
       "Covariance Type:            nonrobust                                         \n",
       "=========================================================================================\n",
       "                            coef    std err          t      P>|t|      [0.025      0.975]\n",
       "-----------------------------------------------------------------------------------------\n",
       "Intercept               -3.5e+05    1.8e+04    -19.418      0.000   -3.85e+05   -3.15e+05\n",
       "school_district_score  8.899e+04   1786.756     49.804      0.000    8.55e+04    9.25e+04\n",
       "==============================================================================\n",
       "Omnibus:                    14802.934   Durbin-Watson:                   2.020\n",
       "Prob(Omnibus):                  0.000   Jarque-Bera (JB):          1107845.335\n",
       "Skew:                           4.150   Prob(JB):                         0.00\n",
       "Kurtosis:                      42.657   Cond. No.                         70.1\n",
       "==============================================================================\n",
       "\n",
       "Notes:\n",
       "[1] Standard Errors assume that the covariance matrix of the errors is correctly specified.\n",
       "\"\"\""
      ]
     },
     "execution_count": 25,
     "metadata": {},
     "output_type": "execute_result"
    }
   ],
   "source": [
    "#Refit the model:\n",
    "formula = 'price ~ school_district_score'\n",
    "model = ols(formula=formula, data=training_data).fit()\n",
    "model.summary()"
   ]
  },
  {
   "cell_type": "code",
   "execution_count": 26,
   "metadata": {},
   "outputs": [
    {
     "name": "stdout",
     "output_type": "stream",
     "text": [
      "train score: 0.13371856557960468\n",
      "test score: 0.1307075888080913\n"
     ]
    }
   ],
   "source": [
    "new_predictor = np.array(X_train['school_district_score']).reshape(-1,1)\n",
    "y_train_cv = np.array(y_train).reshape(-1,1)\n",
    "\n",
    "splitter = ShuffleSplit(n_splits=3, test_size=0.25, random_state=42)\n",
    "baseline_scores = cross_validate(\n",
    "                estimator=baseline_model,\n",
    "                X=new_predictor,\n",
    "                y=y_train_cv,\n",
    "                return_train_score=True,\n",
    "                cv=splitter)\n",
    "print('train score:', baseline_scores['train_score'].mean())\n",
    "print('test score:', baseline_scores['test_score'].mean())"
   ]
  },
  {
   "cell_type": "markdown",
   "metadata": {},
   "source": [
    "The bad news is the R-sqaured value is quite lower than that of the baseline model, but the good news is the condition number is now reasonable and our cross-validation train & test scores are pretty close. \n",
    "\n",
    "This lower R-squared score is also not *too* surprising: we know square footage is a much stronger predictor. However, our stakeholder is likely already well aware of that. **Perhaps I can bring insight to some less well-known phenomena when it comes to buyer preference and factors that go into a seller's ability to raise their price.** \n",
    "\n",
    "To that end, let's see what more we can do to get a clearer picture of what school district scores bring to the table. Let's examine how each incremental increase in school district scores improves price. We can do so by splitting school_district_score into each score I found (7-12) via dummy variables. \n",
    "\n",
    "Granted, these scores aren't inherently ripe for dummy variables; we can already see the numerical rise in score in X_train. However, dummy variables can still give us a clearer picture of just how each score aligns with price differences."
   ]
  },
  {
   "cell_type": "code",
   "execution_count": 27,
   "metadata": {},
   "outputs": [
    {
     "data": {
      "text/html": [
       "<div>\n",
       "<style scoped>\n",
       "    .dataframe tbody tr th:only-of-type {\n",
       "        vertical-align: middle;\n",
       "    }\n",
       "\n",
       "    .dataframe tbody tr th {\n",
       "        vertical-align: top;\n",
       "    }\n",
       "\n",
       "    .dataframe thead th {\n",
       "        text-align: right;\n",
       "    }\n",
       "</style>\n",
       "<table border=\"1\" class=\"dataframe\">\n",
       "  <thead>\n",
       "    <tr style=\"text-align: right;\">\n",
       "      <th></th>\n",
       "      <th>id</th>\n",
       "      <th>date</th>\n",
       "      <th>bedrooms</th>\n",
       "      <th>bathrooms</th>\n",
       "      <th>sqft_living</th>\n",
       "      <th>sqft_lot</th>\n",
       "      <th>floors</th>\n",
       "      <th>waterfront</th>\n",
       "      <th>view</th>\n",
       "      <th>condition</th>\n",
       "      <th>...</th>\n",
       "      <th>zipcode</th>\n",
       "      <th>lat</th>\n",
       "      <th>long</th>\n",
       "      <th>sqft_living15</th>\n",
       "      <th>sqft_lot15</th>\n",
       "      <th>sds_8</th>\n",
       "      <th>sds_9</th>\n",
       "      <th>sds_10</th>\n",
       "      <th>sds_11</th>\n",
       "      <th>sds_12</th>\n",
       "    </tr>\n",
       "  </thead>\n",
       "  <tbody>\n",
       "    <tr>\n",
       "      <th>6405</th>\n",
       "      <td>5454000010</td>\n",
       "      <td>12/10/2014</td>\n",
       "      <td>3</td>\n",
       "      <td>1.75</td>\n",
       "      <td>2020</td>\n",
       "      <td>9478</td>\n",
       "      <td>1.0</td>\n",
       "      <td>NO</td>\n",
       "      <td>NONE</td>\n",
       "      <td>Good</td>\n",
       "      <td>...</td>\n",
       "      <td>98040</td>\n",
       "      <td>47.5383</td>\n",
       "      <td>-122.238</td>\n",
       "      <td>3050</td>\n",
       "      <td>15594</td>\n",
       "      <td>0</td>\n",
       "      <td>0</td>\n",
       "      <td>0</td>\n",
       "      <td>0</td>\n",
       "      <td>1</td>\n",
       "    </tr>\n",
       "    <tr>\n",
       "      <th>937</th>\n",
       "      <td>9265880170</td>\n",
       "      <td>8/26/2014</td>\n",
       "      <td>4</td>\n",
       "      <td>2.50</td>\n",
       "      <td>2470</td>\n",
       "      <td>5954</td>\n",
       "      <td>2.0</td>\n",
       "      <td>NaN</td>\n",
       "      <td>NONE</td>\n",
       "      <td>Average</td>\n",
       "      <td>...</td>\n",
       "      <td>98028</td>\n",
       "      <td>47.7685</td>\n",
       "      <td>-122.236</td>\n",
       "      <td>2470</td>\n",
       "      <td>4800</td>\n",
       "      <td>0</td>\n",
       "      <td>0</td>\n",
       "      <td>0</td>\n",
       "      <td>0</td>\n",
       "      <td>1</td>\n",
       "    </tr>\n",
       "    <tr>\n",
       "      <th>19076</th>\n",
       "      <td>4151800470</td>\n",
       "      <td>8/20/2014</td>\n",
       "      <td>3</td>\n",
       "      <td>2.00</td>\n",
       "      <td>1010</td>\n",
       "      <td>5973</td>\n",
       "      <td>1.0</td>\n",
       "      <td>NO</td>\n",
       "      <td>NONE</td>\n",
       "      <td>Very Good</td>\n",
       "      <td>...</td>\n",
       "      <td>98033</td>\n",
       "      <td>47.6652</td>\n",
       "      <td>-122.202</td>\n",
       "      <td>1920</td>\n",
       "      <td>6015</td>\n",
       "      <td>0</td>\n",
       "      <td>0</td>\n",
       "      <td>0</td>\n",
       "      <td>0</td>\n",
       "      <td>1</td>\n",
       "    </tr>\n",
       "    <tr>\n",
       "      <th>15201</th>\n",
       "      <td>9272201704</td>\n",
       "      <td>5/12/2014</td>\n",
       "      <td>2</td>\n",
       "      <td>2.50</td>\n",
       "      <td>980</td>\n",
       "      <td>895</td>\n",
       "      <td>2.0</td>\n",
       "      <td>NO</td>\n",
       "      <td>NONE</td>\n",
       "      <td>Average</td>\n",
       "      <td>...</td>\n",
       "      <td>98116</td>\n",
       "      <td>47.5874</td>\n",
       "      <td>-122.386</td>\n",
       "      <td>980</td>\n",
       "      <td>899</td>\n",
       "      <td>0</td>\n",
       "      <td>0</td>\n",
       "      <td>1</td>\n",
       "      <td>0</td>\n",
       "      <td>0</td>\n",
       "    </tr>\n",
       "    <tr>\n",
       "      <th>13083</th>\n",
       "      <td>7151700190</td>\n",
       "      <td>3/31/2015</td>\n",
       "      <td>2</td>\n",
       "      <td>1.50</td>\n",
       "      <td>2210</td>\n",
       "      <td>5000</td>\n",
       "      <td>1.0</td>\n",
       "      <td>NO</td>\n",
       "      <td>AVERAGE</td>\n",
       "      <td>Average</td>\n",
       "      <td>...</td>\n",
       "      <td>98122</td>\n",
       "      <td>47.6122</td>\n",
       "      <td>-122.288</td>\n",
       "      <td>2700</td>\n",
       "      <td>5000</td>\n",
       "      <td>0</td>\n",
       "      <td>0</td>\n",
       "      <td>1</td>\n",
       "      <td>0</td>\n",
       "      <td>0</td>\n",
       "    </tr>\n",
       "    <tr>\n",
       "      <th>...</th>\n",
       "      <td>...</td>\n",
       "      <td>...</td>\n",
       "      <td>...</td>\n",
       "      <td>...</td>\n",
       "      <td>...</td>\n",
       "      <td>...</td>\n",
       "      <td>...</td>\n",
       "      <td>...</td>\n",
       "      <td>...</td>\n",
       "      <td>...</td>\n",
       "      <td>...</td>\n",
       "      <td>...</td>\n",
       "      <td>...</td>\n",
       "      <td>...</td>\n",
       "      <td>...</td>\n",
       "      <td>...</td>\n",
       "      <td>...</td>\n",
       "      <td>...</td>\n",
       "      <td>...</td>\n",
       "      <td>...</td>\n",
       "      <td>...</td>\n",
       "    </tr>\n",
       "    <tr>\n",
       "      <th>11964</th>\n",
       "      <td>7459810210</td>\n",
       "      <td>10/2/2014</td>\n",
       "      <td>4</td>\n",
       "      <td>2.25</td>\n",
       "      <td>2050</td>\n",
       "      <td>26000</td>\n",
       "      <td>2.0</td>\n",
       "      <td>NO</td>\n",
       "      <td>NONE</td>\n",
       "      <td>Good</td>\n",
       "      <td>...</td>\n",
       "      <td>98042</td>\n",
       "      <td>47.3423</td>\n",
       "      <td>-122.063</td>\n",
       "      <td>2330</td>\n",
       "      <td>31100</td>\n",
       "      <td>0</td>\n",
       "      <td>1</td>\n",
       "      <td>0</td>\n",
       "      <td>0</td>\n",
       "      <td>0</td>\n",
       "    </tr>\n",
       "    <tr>\n",
       "      <th>21575</th>\n",
       "      <td>3835502815</td>\n",
       "      <td>9/25/2014</td>\n",
       "      <td>3</td>\n",
       "      <td>2.50</td>\n",
       "      <td>3110</td>\n",
       "      <td>9930</td>\n",
       "      <td>1.0</td>\n",
       "      <td>NO</td>\n",
       "      <td>FAIR</td>\n",
       "      <td>Average</td>\n",
       "      <td>...</td>\n",
       "      <td>98039</td>\n",
       "      <td>47.6112</td>\n",
       "      <td>-122.226</td>\n",
       "      <td>3650</td>\n",
       "      <td>14399</td>\n",
       "      <td>0</td>\n",
       "      <td>0</td>\n",
       "      <td>0</td>\n",
       "      <td>0</td>\n",
       "      <td>1</td>\n",
       "    </tr>\n",
       "    <tr>\n",
       "      <th>5390</th>\n",
       "      <td>5693500760</td>\n",
       "      <td>7/7/2014</td>\n",
       "      <td>3</td>\n",
       "      <td>1.00</td>\n",
       "      <td>1890</td>\n",
       "      <td>3330</td>\n",
       "      <td>1.5</td>\n",
       "      <td>NO</td>\n",
       "      <td>NONE</td>\n",
       "      <td>Good</td>\n",
       "      <td>...</td>\n",
       "      <td>98103</td>\n",
       "      <td>47.6597</td>\n",
       "      <td>-122.352</td>\n",
       "      <td>1530</td>\n",
       "      <td>3330</td>\n",
       "      <td>0</td>\n",
       "      <td>0</td>\n",
       "      <td>1</td>\n",
       "      <td>0</td>\n",
       "      <td>0</td>\n",
       "    </tr>\n",
       "    <tr>\n",
       "      <th>860</th>\n",
       "      <td>3579000410</td>\n",
       "      <td>9/5/2014</td>\n",
       "      <td>3</td>\n",
       "      <td>2.25</td>\n",
       "      <td>2010</td>\n",
       "      <td>7447</td>\n",
       "      <td>2.0</td>\n",
       "      <td>NO</td>\n",
       "      <td>NONE</td>\n",
       "      <td>Average</td>\n",
       "      <td>...</td>\n",
       "      <td>98028</td>\n",
       "      <td>47.7470</td>\n",
       "      <td>-122.248</td>\n",
       "      <td>2230</td>\n",
       "      <td>7846</td>\n",
       "      <td>0</td>\n",
       "      <td>0</td>\n",
       "      <td>0</td>\n",
       "      <td>0</td>\n",
       "      <td>1</td>\n",
       "    </tr>\n",
       "    <tr>\n",
       "      <th>15795</th>\n",
       "      <td>1231000645</td>\n",
       "      <td>8/1/2014</td>\n",
       "      <td>4</td>\n",
       "      <td>3.25</td>\n",
       "      <td>2720</td>\n",
       "      <td>4000</td>\n",
       "      <td>2.0</td>\n",
       "      <td>NO</td>\n",
       "      <td>FAIR</td>\n",
       "      <td>Average</td>\n",
       "      <td>...</td>\n",
       "      <td>98118</td>\n",
       "      <td>47.5554</td>\n",
       "      <td>-122.267</td>\n",
       "      <td>1450</td>\n",
       "      <td>4000</td>\n",
       "      <td>0</td>\n",
       "      <td>0</td>\n",
       "      <td>1</td>\n",
       "      <td>0</td>\n",
       "      <td>0</td>\n",
       "    </tr>\n",
       "  </tbody>\n",
       "</table>\n",
       "<p>16197 rows × 25 columns</p>\n",
       "</div>"
      ],
      "text/plain": [
       "               id        date  bedrooms  bathrooms  sqft_living  sqft_lot  \\\n",
       "6405   5454000010  12/10/2014         3       1.75         2020      9478   \n",
       "937    9265880170   8/26/2014         4       2.50         2470      5954   \n",
       "19076  4151800470   8/20/2014         3       2.00         1010      5973   \n",
       "15201  9272201704   5/12/2014         2       2.50          980       895   \n",
       "13083  7151700190   3/31/2015         2       1.50         2210      5000   \n",
       "...           ...         ...       ...        ...          ...       ...   \n",
       "11964  7459810210   10/2/2014         4       2.25         2050     26000   \n",
       "21575  3835502815   9/25/2014         3       2.50         3110      9930   \n",
       "5390   5693500760    7/7/2014         3       1.00         1890      3330   \n",
       "860    3579000410    9/5/2014         3       2.25         2010      7447   \n",
       "15795  1231000645    8/1/2014         4       3.25         2720      4000   \n",
       "\n",
       "       floors waterfront     view  condition  ... zipcode      lat     long  \\\n",
       "6405      1.0         NO     NONE       Good  ...   98040  47.5383 -122.238   \n",
       "937       2.0        NaN     NONE    Average  ...   98028  47.7685 -122.236   \n",
       "19076     1.0         NO     NONE  Very Good  ...   98033  47.6652 -122.202   \n",
       "15201     2.0         NO     NONE    Average  ...   98116  47.5874 -122.386   \n",
       "13083     1.0         NO  AVERAGE    Average  ...   98122  47.6122 -122.288   \n",
       "...       ...        ...      ...        ...  ...     ...      ...      ...   \n",
       "11964     2.0         NO     NONE       Good  ...   98042  47.3423 -122.063   \n",
       "21575     1.0         NO     FAIR    Average  ...   98039  47.6112 -122.226   \n",
       "5390      1.5         NO     NONE       Good  ...   98103  47.6597 -122.352   \n",
       "860       2.0         NO     NONE    Average  ...   98028  47.7470 -122.248   \n",
       "15795     2.0         NO     FAIR    Average  ...   98118  47.5554 -122.267   \n",
       "\n",
       "       sqft_living15  sqft_lot15  sds_8  sds_9  sds_10  sds_11  sds_12  \n",
       "6405            3050       15594      0      0       0       0       1  \n",
       "937             2470        4800      0      0       0       0       1  \n",
       "19076           1920        6015      0      0       0       0       1  \n",
       "15201            980         899      0      0       1       0       0  \n",
       "13083           2700        5000      0      0       1       0       0  \n",
       "...              ...         ...    ...    ...     ...     ...     ...  \n",
       "11964           2330       31100      0      1       0       0       0  \n",
       "21575           3650       14399      0      0       0       0       1  \n",
       "5390            1530        3330      0      0       1       0       0  \n",
       "860             2230        7846      0      0       0       0       1  \n",
       "15795           1450        4000      0      0       1       0       0  \n",
       "\n",
       "[16197 rows x 25 columns]"
      ]
     },
     "execution_count": 27,
     "metadata": {},
     "output_type": "execute_result"
    }
   ],
   "source": [
    "school_dist_score_dummies = pd.get_dummies(X_train['school_district_score'], prefix='sds', drop_first=True)\n",
    "X_train = X_train.drop('school_district_score', axis=1)\n",
    "X_train = pd.concat([X_train, school_dist_score_dummies], axis=1)\n",
    "X_train"
   ]
  },
  {
   "cell_type": "code",
   "execution_count": 28,
   "metadata": {},
   "outputs": [
    {
     "data": {
      "image/png": "[encoded data removed]",
      "text/plain": [
       "<Figure size 1080x1080 with 2 Axes>"
      ]
     },
     "metadata": {
      "needs_background": "light"
     },
     "output_type": "display_data"
    }
   ],
   "source": [
    "#Re-combine the revised X_train with y_train so we can see the heatmap with 'price':\n",
    "training_data = pd.concat([y_train, X_train], axis=1)\n",
    "training_data\n",
    "\n",
    "heatmap_data = training_data\n",
    "corr = heatmap_data.corr()\n",
    "fig, ax = plt.subplots(figsize=(15,15))\n",
    "sns.heatmap(data=corr, mask=np.triu(corr), ax=ax, annot=True, \n",
    "            cbar_kws={'label':'correlation', 'orientation':'horizontal', 'pad':.2, 'extend':'both'});"
   ]
  },
  {
   "cell_type": "code",
   "execution_count": 29,
   "metadata": {},
   "outputs": [
    {
     "data": {
      "text/html": [
       "<div>\n",
       "<style scoped>\n",
       "    .dataframe tbody tr th:only-of-type {\n",
       "        vertical-align: middle;\n",
       "    }\n",
       "\n",
       "    .dataframe tbody tr th {\n",
       "        vertical-align: top;\n",
       "    }\n",
       "\n",
       "    .dataframe thead th {\n",
       "        text-align: right;\n",
       "    }\n",
       "</style>\n",
       "<table border=\"1\" class=\"dataframe\">\n",
       "  <thead>\n",
       "    <tr style=\"text-align: right;\">\n",
       "      <th></th>\n",
       "      <th>const</th>\n",
       "      <th>sds_8</th>\n",
       "      <th>sds_9</th>\n",
       "      <th>sds_10</th>\n",
       "      <th>sds_11</th>\n",
       "      <th>sds_12</th>\n",
       "    </tr>\n",
       "  </thead>\n",
       "  <tbody>\n",
       "    <tr>\n",
       "      <th>6405</th>\n",
       "      <td>1.0</td>\n",
       "      <td>0</td>\n",
       "      <td>0</td>\n",
       "      <td>0</td>\n",
       "      <td>0</td>\n",
       "      <td>1</td>\n",
       "    </tr>\n",
       "    <tr>\n",
       "      <th>937</th>\n",
       "      <td>1.0</td>\n",
       "      <td>0</td>\n",
       "      <td>0</td>\n",
       "      <td>0</td>\n",
       "      <td>0</td>\n",
       "      <td>1</td>\n",
       "    </tr>\n",
       "    <tr>\n",
       "      <th>19076</th>\n",
       "      <td>1.0</td>\n",
       "      <td>0</td>\n",
       "      <td>0</td>\n",
       "      <td>0</td>\n",
       "      <td>0</td>\n",
       "      <td>1</td>\n",
       "    </tr>\n",
       "    <tr>\n",
       "      <th>15201</th>\n",
       "      <td>1.0</td>\n",
       "      <td>0</td>\n",
       "      <td>0</td>\n",
       "      <td>1</td>\n",
       "      <td>0</td>\n",
       "      <td>0</td>\n",
       "    </tr>\n",
       "    <tr>\n",
       "      <th>13083</th>\n",
       "      <td>1.0</td>\n",
       "      <td>0</td>\n",
       "      <td>0</td>\n",
       "      <td>1</td>\n",
       "      <td>0</td>\n",
       "      <td>0</td>\n",
       "    </tr>\n",
       "  </tbody>\n",
       "</table>\n",
       "</div>"
      ],
      "text/plain": [
       "       const  sds_8  sds_9  sds_10  sds_11  sds_12\n",
       "6405     1.0      0      0       0       0       1\n",
       "937      1.0      0      0       0       0       1\n",
       "19076    1.0      0      0       0       0       1\n",
       "15201    1.0      0      0       1       0       0\n",
       "13083    1.0      0      0       1       0       0"
      ]
     },
     "execution_count": 29,
     "metadata": {},
     "output_type": "execute_result"
    }
   ],
   "source": [
    "#Refitting the model now that we have multiple predictors with our dummy variables:\n",
    "sds_predictors = X_train[['sds_8', 'sds_9','sds_10', 'sds_11', 'sds_12']]\n",
    "import statsmodels.api as sm\n",
    "predictors = sm.add_constant(sds_predictors)\n",
    "predictors.head()"
   ]
  },
  {
   "cell_type": "code",
   "execution_count": 30,
   "metadata": {},
   "outputs": [
    {
     "data": {
      "text/html": [
       "<table class=\"simpletable\">\n",
       "<caption>OLS Regression Results</caption>\n",
       "<tr>\n",
       "  <th>Dep. Variable:</th>          <td>price</td>      <th>  R-squared:         </th>  <td>   0.152</td>  \n",
       "</tr>\n",
       "<tr>\n",
       "  <th>Model:</th>                   <td>OLS</td>       <th>  Adj. R-squared:    </th>  <td>   0.152</td>  \n",
       "</tr>\n",
       "<tr>\n",
       "  <th>Method:</th>             <td>Least Squares</td>  <th>  F-statistic:       </th>  <td>   580.3</td>  \n",
       "</tr>\n",
       "<tr>\n",
       "  <th>Date:</th>             <td>Sun, 05 Feb 2023</td> <th>  Prob (F-statistic):</th>   <td>  0.00</td>   \n",
       "</tr>\n",
       "<tr>\n",
       "  <th>Time:</th>                 <td>10:24:19</td>     <th>  Log-Likelihood:    </th> <td>-2.2879e+05</td>\n",
       "</tr>\n",
       "<tr>\n",
       "  <th>No. Observations:</th>      <td> 16197</td>      <th>  AIC:               </th>  <td>4.576e+05</td> \n",
       "</tr>\n",
       "<tr>\n",
       "  <th>Df Residuals:</th>          <td> 16191</td>      <th>  BIC:               </th>  <td>4.576e+05</td> \n",
       "</tr>\n",
       "<tr>\n",
       "  <th>Df Model:</th>              <td>     5</td>      <th>                     </th>      <td> </td>     \n",
       "</tr>\n",
       "<tr>\n",
       "  <th>Covariance Type:</th>      <td>nonrobust</td>    <th>                     </th>      <td> </td>     \n",
       "</tr>\n",
       "</table>\n",
       "<table class=\"simpletable\">\n",
       "<tr>\n",
       "     <td></td>       <th>coef</th>     <th>std err</th>      <th>t</th>      <th>P>|t|</th>  <th>[0.025</th>    <th>0.975]</th>  \n",
       "</tr>\n",
       "<tr>\n",
       "  <th>const</th>  <td> 3.187e+05</td> <td> 9187.772</td> <td>   34.688</td> <td> 0.000</td> <td> 3.01e+05</td> <td> 3.37e+05</td>\n",
       "</tr>\n",
       "<tr>\n",
       "  <th>sds_8</th>  <td>-2.426e+04</td> <td> 1.23e+04</td> <td>   -1.968</td> <td> 0.049</td> <td>-4.84e+04</td> <td> -100.530</td>\n",
       "</tr>\n",
       "<tr>\n",
       "  <th>sds_9</th>  <td> 6.348e+04</td> <td> 1.18e+04</td> <td>    5.374</td> <td> 0.000</td> <td> 4.03e+04</td> <td> 8.66e+04</td>\n",
       "</tr>\n",
       "<tr>\n",
       "  <th>sds_10</th> <td> 2.771e+05</td> <td> 1.02e+04</td> <td>   27.178</td> <td> 0.000</td> <td> 2.57e+05</td> <td> 2.97e+05</td>\n",
       "</tr>\n",
       "<tr>\n",
       "  <th>sds_11</th> <td> 2.815e+05</td> <td> 1.12e+04</td> <td>   25.235</td> <td> 0.000</td> <td>  2.6e+05</td> <td> 3.03e+05</td>\n",
       "</tr>\n",
       "<tr>\n",
       "  <th>sds_12</th> <td>  3.83e+05</td> <td>  1.1e+04</td> <td>   34.908</td> <td> 0.000</td> <td> 3.61e+05</td> <td> 4.04e+05</td>\n",
       "</tr>\n",
       "</table>\n",
       "<table class=\"simpletable\">\n",
       "<tr>\n",
       "  <th>Omnibus:</th>       <td>14975.031</td> <th>  Durbin-Watson:     </th>  <td>   2.021</td>  \n",
       "</tr>\n",
       "<tr>\n",
       "  <th>Prob(Omnibus):</th>  <td> 0.000</td>   <th>  Jarque-Bera (JB):  </th> <td>1178690.495</td>\n",
       "</tr>\n",
       "<tr>\n",
       "  <th>Skew:</th>           <td> 4.213</td>   <th>  Prob(JB):          </th>  <td>    0.00</td>  \n",
       "</tr>\n",
       "<tr>\n",
       "  <th>Kurtosis:</th>       <td>43.933</td>   <th>  Cond. No.          </th>  <td>    9.93</td>  \n",
       "</tr>\n",
       "</table><br/><br/>Notes:<br/>[1] Standard Errors assume that the covariance matrix of the errors is correctly specified."
      ],
      "text/plain": [
       "<class 'statsmodels.iolib.summary.Summary'>\n",
       "\"\"\"\n",
       "                            OLS Regression Results                            \n",
       "==============================================================================\n",
       "Dep. Variable:                  price   R-squared:                       0.152\n",
       "Model:                            OLS   Adj. R-squared:                  0.152\n",
       "Method:                 Least Squares   F-statistic:                     580.3\n",
       "Date:                Sun, 05 Feb 2023   Prob (F-statistic):               0.00\n",
       "Time:                        10:24:19   Log-Likelihood:            -2.2879e+05\n",
       "No. Observations:               16197   AIC:                         4.576e+05\n",
       "Df Residuals:                   16191   BIC:                         4.576e+05\n",
       "Df Model:                           5                                         \n",
       "Covariance Type:            nonrobust                                         \n",
       "==============================================================================\n",
       "                 coef    std err          t      P>|t|      [0.025      0.975]\n",
       "------------------------------------------------------------------------------\n",
       "const       3.187e+05   9187.772     34.688      0.000    3.01e+05    3.37e+05\n",
       "sds_8      -2.426e+04   1.23e+04     -1.968      0.049   -4.84e+04    -100.530\n",
       "sds_9       6.348e+04   1.18e+04      5.374      0.000    4.03e+04    8.66e+04\n",
       "sds_10      2.771e+05   1.02e+04     27.178      0.000    2.57e+05    2.97e+05\n",
       "sds_11      2.815e+05   1.12e+04     25.235      0.000     2.6e+05    3.03e+05\n",
       "sds_12       3.83e+05    1.1e+04     34.908      0.000    3.61e+05    4.04e+05\n",
       "==============================================================================\n",
       "Omnibus:                    14975.031   Durbin-Watson:                   2.021\n",
       "Prob(Omnibus):                  0.000   Jarque-Bera (JB):          1178690.495\n",
       "Skew:                           4.213   Prob(JB):                         0.00\n",
       "Kurtosis:                      43.933   Cond. No.                         9.93\n",
       "==============================================================================\n",
       "\n",
       "Notes:\n",
       "[1] Standard Errors assume that the covariance matrix of the errors is correctly specified.\n",
       "\"\"\""
      ]
     },
     "execution_count": 30,
     "metadata": {},
     "output_type": "execute_result"
    }
   ],
   "source": [
    "model = sm.OLS(y_train, predictors).fit()\n",
    "model.summary()"
   ]
  },
  {
   "cell_type": "code",
   "execution_count": 31,
   "metadata": {},
   "outputs": [
    {
     "name": "stdout",
     "output_type": "stream",
     "text": [
      "train score: 0.1527755364843322\n",
      "test score: 0.15015524120036328\n"
     ]
    }
   ],
   "source": [
    "predictors = np.array(predictors).reshape(-1,6)\n",
    "y_train_cv = np.array(y_train).reshape(-1,1)\n",
    "\n",
    "splitter = ShuffleSplit(n_splits=3, test_size=0.25, random_state=42)\n",
    "baseline_scores = cross_validate(\n",
    "                estimator=baseline_model,\n",
    "                X=predictors,\n",
    "                y=y_train_cv,\n",
    "                return_train_score=True,\n",
    "                cv=splitter)\n",
    "print('train score:', baseline_scores['train_score'].mean())\n",
    "print('test score:', baseline_scores['test_score'].mean())"
   ]
  },
  {
   "cell_type": "markdown",
   "metadata": {},
   "source": [
    "We only see a meager increase in the R-squared score even though we're getting more refined coefficients when it comes to each step up between school district scores. \n",
    "\n",
    "Also, the standard errors have increased to around ten thousand dollars, but in the big picture of home prices, that isn't too bad. The p-values are all pretty good as well, with the exception of 'sds_8', which is right on the cusp of the standard alpha threshold of 0.05. \n",
    "\n",
    "Also, the condition number fell quite a bit, so multicollinearity probably isn't an issue, but I think that's a bit of a truism based on the nature of the predictors in this model. It's also good to see the train & test cross-validation scores are still close.\n",
    "\n",
    "Looking at my predictors of interest in the school district rankings, while all the correlations are not *particularly* strong, they are almost entirely consistent and they span zero. In other words, the lower-scoring districs negatively correlate with price while the higher-scoring ones incrementally show a rising, positive correlation. \n",
    "\n",
    "What's also noteworthy is that nothing is more negatively correlated with price than the two lowest-scoring school districts. Additionally, after all the square footage/room and latitude predictors, the next-highest correlation would be the highest-ranking school districts.\n",
    "\n",
    "Let's continue carefully adding predictors to our model. Let's see the extent to which the bedroom count and overall square footage influence this model."
   ]
  },
  {
   "cell_type": "markdown",
   "metadata": {},
   "source": [
    "Now let's check whether 'sqft_living' shows a normal distribution:"
   ]
  },
  {
   "cell_type": "code",
   "execution_count": 32,
   "metadata": {},
   "outputs": [
    {
     "name": "stdout",
     "output_type": "stream",
     "text": [
      "skew of X_train's 'sqft_living': 1.4956470762604674\n"
     ]
    }
   ],
   "source": [
    "from scipy.stats import skew\n",
    "skewness = skew(X_train['sqft_living'])\n",
    "print(\"skew of X_train's 'sqft_living':\", skewness)"
   ]
  },
  {
   "cell_type": "code",
   "execution_count": 33,
   "metadata": {},
   "outputs": [
    {
     "data": {
      "image/png": "[encoded data removed]",
      "text/plain": [
       "<Figure size 432x288 with 1 Axes>"
      ]
     },
     "metadata": {
      "needs_background": "light"
     },
     "output_type": "display_data"
    }
   ],
   "source": [
    "fig, ax = plt.subplots()\n",
    "\n",
    "ax.hist(X_train['sqft_living'], bins=25, color='r', alpha=0.6)\n",
    "ax.set_title('histogram of square footage and house counts')\n",
    "ax.set_xlabel('square footage')\n",
    "ax.set_ylabel('number of homes')\n",
    "plt.tight_layout()\n",
    "plt.savefig('histogram of square footage and house counts.jpg');"
   ]
  },
  {
   "cell_type": "markdown",
   "metadata": {},
   "source": [
    "It looks like this column's distribution is skewed, so a logarithmic transformation would be helpful:"
   ]
  },
  {
   "cell_type": "code",
   "execution_count": 34,
   "metadata": {},
   "outputs": [],
   "source": [
    "X_train['sqft_living_log'] = np.log(X_train['sqft_living'])\n",
    "#X_train.rename(columns = {'sqft_living': 'sqft_living_log'}, inplace = True)"
   ]
  },
  {
   "cell_type": "code",
   "execution_count": 35,
   "metadata": {},
   "outputs": [
    {
     "data": {
      "image/png": "[encoded data removed]",
      "text/plain": [
       "<Figure size 432x288 with 1 Axes>"
      ]
     },
     "metadata": {
      "needs_background": "light"
     },
     "output_type": "display_data"
    }
   ],
   "source": [
    "fig, ax = plt.subplots()\n",
    "\n",
    "ax.hist(X_train['sqft_living_log'], bins=25, color='g', alpha=0.6)\n",
    "ax.set_title('histogram of logged square footage and house counts')\n",
    "ax.set_xlabel('square footage logged')\n",
    "ax.set_ylabel('number of homes')\n",
    "plt.tight_layout()\n",
    "plt.savefig('histogram of logged square footage and house counts.jpg');"
   ]
  },
  {
   "cell_type": "code",
   "execution_count": 36,
   "metadata": {},
   "outputs": [
    {
     "name": "stdout",
     "output_type": "stream",
     "text": [
      "skew of X_train's 'sqft_living_log': -0.026733420175554485\n"
     ]
    }
   ],
   "source": [
    "skewness = skew(X_train['sqft_living_log'])\n",
    "print(\"skew of X_train's 'sqft_living_log':\", skewness)"
   ]
  },
  {
   "cell_type": "markdown",
   "metadata": {},
   "source": [
    "Now that our predictors are looking more managable and/or normally distributed, let's recombine them to our predictor list:"
   ]
  },
  {
   "cell_type": "code",
   "execution_count": 37,
   "metadata": {},
   "outputs": [
    {
     "data": {
      "text/html": [
       "<div>\n",
       "<style scoped>\n",
       "    .dataframe tbody tr th:only-of-type {\n",
       "        vertical-align: middle;\n",
       "    }\n",
       "\n",
       "    .dataframe tbody tr th {\n",
       "        vertical-align: top;\n",
       "    }\n",
       "\n",
       "    .dataframe thead th {\n",
       "        text-align: right;\n",
       "    }\n",
       "</style>\n",
       "<table border=\"1\" class=\"dataframe\">\n",
       "  <thead>\n",
       "    <tr style=\"text-align: right;\">\n",
       "      <th></th>\n",
       "      <th>const</th>\n",
       "      <th>sds_8</th>\n",
       "      <th>sds_9</th>\n",
       "      <th>sds_10</th>\n",
       "      <th>sds_11</th>\n",
       "      <th>sds_12</th>\n",
       "      <th>bedrooms</th>\n",
       "      <th>sqft_living_log</th>\n",
       "    </tr>\n",
       "  </thead>\n",
       "  <tbody>\n",
       "    <tr>\n",
       "      <th>6405</th>\n",
       "      <td>1.0</td>\n",
       "      <td>0</td>\n",
       "      <td>0</td>\n",
       "      <td>0</td>\n",
       "      <td>0</td>\n",
       "      <td>1</td>\n",
       "      <td>3</td>\n",
       "      <td>7.610853</td>\n",
       "    </tr>\n",
       "    <tr>\n",
       "      <th>937</th>\n",
       "      <td>1.0</td>\n",
       "      <td>0</td>\n",
       "      <td>0</td>\n",
       "      <td>0</td>\n",
       "      <td>0</td>\n",
       "      <td>1</td>\n",
       "      <td>4</td>\n",
       "      <td>7.811973</td>\n",
       "    </tr>\n",
       "    <tr>\n",
       "      <th>19076</th>\n",
       "      <td>1.0</td>\n",
       "      <td>0</td>\n",
       "      <td>0</td>\n",
       "      <td>0</td>\n",
       "      <td>0</td>\n",
       "      <td>1</td>\n",
       "      <td>3</td>\n",
       "      <td>6.917706</td>\n",
       "    </tr>\n",
       "    <tr>\n",
       "      <th>15201</th>\n",
       "      <td>1.0</td>\n",
       "      <td>0</td>\n",
       "      <td>0</td>\n",
       "      <td>1</td>\n",
       "      <td>0</td>\n",
       "      <td>0</td>\n",
       "      <td>2</td>\n",
       "      <td>6.887553</td>\n",
       "    </tr>\n",
       "    <tr>\n",
       "      <th>13083</th>\n",
       "      <td>1.0</td>\n",
       "      <td>0</td>\n",
       "      <td>0</td>\n",
       "      <td>1</td>\n",
       "      <td>0</td>\n",
       "      <td>0</td>\n",
       "      <td>2</td>\n",
       "      <td>7.700748</td>\n",
       "    </tr>\n",
       "  </tbody>\n",
       "</table>\n",
       "</div>"
      ],
      "text/plain": [
       "       const  sds_8  sds_9  sds_10  sds_11  sds_12  bedrooms  sqft_living_log\n",
       "6405     1.0      0      0       0       0       1         3         7.610853\n",
       "937      1.0      0      0       0       0       1         4         7.811973\n",
       "19076    1.0      0      0       0       0       1         3         6.917706\n",
       "15201    1.0      0      0       1       0       0         2         6.887553\n",
       "13083    1.0      0      0       1       0       0         2         7.700748"
      ]
     },
     "execution_count": 37,
     "metadata": {},
     "output_type": "execute_result"
    }
   ],
   "source": [
    "#predictors = X_train[['sds_8', 'sds_9', 'sds_10', 'sds_11', 'sds_12',\\\n",
    "#                      'bdrm_3', 'bdrm_4', 'bdrm_5', 'bdrm_6', 'bdrm_7',\\\n",
    "#                      'bdrm_8', 'bdrm_9', 'bdrm_10', 'sqft_living_log']]\n",
    "#predictors = X_train[['sds_8', 'sds_9', 'sds_10', 'sds_11', 'sds_12',\\\n",
    "#                      'bdrm_3', 'bdrm_4', 'bdrm_5', 'bdrm_6', 'bdrm_7',\\\n",
    "#                      'bdrm_8', 'bdrm_9', 'bdrm_10', 'sqft_living']]\n",
    "predictors = X_train[['sds_8', 'sds_9', 'sds_10', 'sds_11', 'sds_12', 'bedrooms', 'sqft_living_log']]\n",
    "predictors = sm.add_constant(predictors)\n",
    "predictors.head()"
   ]
  },
  {
   "cell_type": "code",
   "execution_count": 38,
   "metadata": {},
   "outputs": [
    {
     "data": {
      "text/html": [
       "<table class=\"simpletable\">\n",
       "<caption>OLS Regression Results</caption>\n",
       "<tr>\n",
       "  <th>Dep. Variable:</th>          <td>price</td>      <th>  R-squared:         </th>  <td>   0.482</td>  \n",
       "</tr>\n",
       "<tr>\n",
       "  <th>Model:</th>                   <td>OLS</td>       <th>  Adj. R-squared:    </th>  <td>   0.482</td>  \n",
       "</tr>\n",
       "<tr>\n",
       "  <th>Method:</th>             <td>Least Squares</td>  <th>  F-statistic:       </th>  <td>   2155.</td>  \n",
       "</tr>\n",
       "<tr>\n",
       "  <th>Date:</th>             <td>Sun, 05 Feb 2023</td> <th>  Prob (F-statistic):</th>   <td>  0.00</td>   \n",
       "</tr>\n",
       "<tr>\n",
       "  <th>Time:</th>                 <td>10:24:23</td>     <th>  Log-Likelihood:    </th> <td>-2.2479e+05</td>\n",
       "</tr>\n",
       "<tr>\n",
       "  <th>No. Observations:</th>      <td> 16197</td>      <th>  AIC:               </th>  <td>4.496e+05</td> \n",
       "</tr>\n",
       "<tr>\n",
       "  <th>Df Residuals:</th>          <td> 16189</td>      <th>  BIC:               </th>  <td>4.497e+05</td> \n",
       "</tr>\n",
       "<tr>\n",
       "  <th>Df Model:</th>              <td>     7</td>      <th>                     </th>      <td> </td>     \n",
       "</tr>\n",
       "<tr>\n",
       "  <th>Covariance Type:</th>      <td>nonrobust</td>    <th>                     </th>      <td> </td>     \n",
       "</tr>\n",
       "</table>\n",
       "<table class=\"simpletable\">\n",
       "<tr>\n",
       "         <td></td>            <th>coef</th>     <th>std err</th>      <th>t</th>      <th>P>|t|</th>  <th>[0.025</th>    <th>0.975]</th>  \n",
       "</tr>\n",
       "<tr>\n",
       "  <th>const</th>           <td>-3.647e+06</td> <td>  4.2e+04</td> <td>  -86.725</td> <td> 0.000</td> <td>-3.73e+06</td> <td>-3.56e+06</td>\n",
       "</tr>\n",
       "<tr>\n",
       "  <th>sds_8</th>           <td>-1.749e+04</td> <td> 9633.176</td> <td>   -1.815</td> <td> 0.069</td> <td>-3.64e+04</td> <td> 1395.061</td>\n",
       "</tr>\n",
       "<tr>\n",
       "  <th>sds_9</th>           <td> 8.169e+04</td> <td> 9231.684</td> <td>    8.849</td> <td> 0.000</td> <td> 6.36e+04</td> <td> 9.98e+04</td>\n",
       "</tr>\n",
       "<tr>\n",
       "  <th>sds_10</th>          <td> 2.631e+05</td> <td> 7973.889</td> <td>   32.999</td> <td> 0.000</td> <td> 2.47e+05</td> <td> 2.79e+05</td>\n",
       "</tr>\n",
       "<tr>\n",
       "  <th>sds_11</th>          <td> 1.626e+05</td> <td> 8794.470</td> <td>   18.494</td> <td> 0.000</td> <td> 1.45e+05</td> <td>  1.8e+05</td>\n",
       "</tr>\n",
       "<tr>\n",
       "  <th>sds_12</th>          <td> 2.915e+05</td> <td> 8620.634</td> <td>   33.810</td> <td> 0.000</td> <td> 2.75e+05</td> <td> 3.08e+05</td>\n",
       "</tr>\n",
       "<tr>\n",
       "  <th>bedrooms</th>        <td>-3.602e+04</td> <td> 2776.314</td> <td>  -12.976</td> <td> 0.000</td> <td>-4.15e+04</td> <td>-3.06e+04</td>\n",
       "</tr>\n",
       "<tr>\n",
       "  <th>sqft_living_log</th> <td> 5.464e+05</td> <td> 6200.999</td> <td>   88.112</td> <td> 0.000</td> <td> 5.34e+05</td> <td> 5.59e+05</td>\n",
       "</tr>\n",
       "</table>\n",
       "<table class=\"simpletable\">\n",
       "<tr>\n",
       "  <th>Omnibus:</th>       <td>15971.330</td> <th>  Durbin-Watson:     </th>  <td>   2.020</td>  \n",
       "</tr>\n",
       "<tr>\n",
       "  <th>Prob(Omnibus):</th>  <td> 0.000</td>   <th>  Jarque-Bera (JB):  </th> <td>2151606.294</td>\n",
       "</tr>\n",
       "<tr>\n",
       "  <th>Skew:</th>           <td> 4.492</td>   <th>  Prob(JB):          </th>  <td>    0.00</td>  \n",
       "</tr>\n",
       "<tr>\n",
       "  <th>Kurtosis:</th>       <td>58.745</td>   <th>  Cond. No.          </th>  <td>    176.</td>  \n",
       "</tr>\n",
       "</table><br/><br/>Notes:<br/>[1] Standard Errors assume that the covariance matrix of the errors is correctly specified."
      ],
      "text/plain": [
       "<class 'statsmodels.iolib.summary.Summary'>\n",
       "\"\"\"\n",
       "                            OLS Regression Results                            \n",
       "==============================================================================\n",
       "Dep. Variable:                  price   R-squared:                       0.482\n",
       "Model:                            OLS   Adj. R-squared:                  0.482\n",
       "Method:                 Least Squares   F-statistic:                     2155.\n",
       "Date:                Sun, 05 Feb 2023   Prob (F-statistic):               0.00\n",
       "Time:                        10:24:23   Log-Likelihood:            -2.2479e+05\n",
       "No. Observations:               16197   AIC:                         4.496e+05\n",
       "Df Residuals:                   16189   BIC:                         4.497e+05\n",
       "Df Model:                           7                                         \n",
       "Covariance Type:            nonrobust                                         \n",
       "===================================================================================\n",
       "                      coef    std err          t      P>|t|      [0.025      0.975]\n",
       "-----------------------------------------------------------------------------------\n",
       "const           -3.647e+06    4.2e+04    -86.725      0.000   -3.73e+06   -3.56e+06\n",
       "sds_8           -1.749e+04   9633.176     -1.815      0.069   -3.64e+04    1395.061\n",
       "sds_9            8.169e+04   9231.684      8.849      0.000    6.36e+04    9.98e+04\n",
       "sds_10           2.631e+05   7973.889     32.999      0.000    2.47e+05    2.79e+05\n",
       "sds_11           1.626e+05   8794.470     18.494      0.000    1.45e+05     1.8e+05\n",
       "sds_12           2.915e+05   8620.634     33.810      0.000    2.75e+05    3.08e+05\n",
       "bedrooms        -3.602e+04   2776.314    -12.976      0.000   -4.15e+04   -3.06e+04\n",
       "sqft_living_log  5.464e+05   6200.999     88.112      0.000    5.34e+05    5.59e+05\n",
       "==============================================================================\n",
       "Omnibus:                    15971.330   Durbin-Watson:                   2.020\n",
       "Prob(Omnibus):                  0.000   Jarque-Bera (JB):          2151606.294\n",
       "Skew:                           4.492   Prob(JB):                         0.00\n",
       "Kurtosis:                      58.745   Cond. No.                         176.\n",
       "==============================================================================\n",
       "\n",
       "Notes:\n",
       "[1] Standard Errors assume that the covariance matrix of the errors is correctly specified.\n",
       "\"\"\""
      ]
     },
     "execution_count": 38,
     "metadata": {},
     "output_type": "execute_result"
    }
   ],
   "source": [
    "model = sm.OLS(y_train, predictors).fit()\n",
    "model.summary()"
   ]
  },
  {
   "cell_type": "code",
   "execution_count": 39,
   "metadata": {},
   "outputs": [
    {
     "name": "stdout",
     "output_type": "stream",
     "text": [
      "train score: 0.48400059971188386\n",
      "test score: 0.4792475653337674\n"
     ]
    }
   ],
   "source": [
    "#predictors = np.array(predictors).reshape(-1,15)\n",
    "#y_train_cv = np.array(y_train).reshape(-1,1)\n",
    "\n",
    "splitter = ShuffleSplit(n_splits=3, test_size=0.25, random_state=42)\n",
    "baseline_scores = cross_validate(\n",
    "                estimator=baseline_model,\n",
    "                X=predictors,\n",
    "                y=y_train,\n",
    "                return_train_score=True,\n",
    "                cv=splitter)\n",
    "print('train score:', baseline_scores['train_score'].mean())\n",
    "print('test score:', baseline_scores['test_score'].mean())"
   ]
  },
  {
   "cell_type": "markdown",
   "metadata": {},
   "source": [
    "Definitely an improvement in terms of the R-squared score while also maintaining a low condition number. \n",
    "\n",
    "Now we'll engineer a new feature from the non-numerical 'date' variable that indicates whether the house sale took place when families are most likely to move (in June, July, or August): "
   ]
  },
  {
   "cell_type": "code",
   "execution_count": 40,
   "metadata": {},
   "outputs": [
    {
     "data": {
      "text/plain": [
       "dtype('O')"
      ]
     },
     "execution_count": 40,
     "metadata": {},
     "output_type": "execute_result"
    }
   ],
   "source": [
    "X_train['date'].dtype"
   ]
  },
  {
   "cell_type": "code",
   "execution_count": 41,
   "metadata": {},
   "outputs": [],
   "source": [
    "from datetime import datetime\n",
    "X_train['date'] = pd.to_datetime(X_train['date'])\n",
    "X_train['date'] = pd.DatetimeIndex(X_train['date']).month\n",
    "X_train.rename(columns = {'date': 'month_of_sale'}, inplace = True)"
   ]
  },
  {
   "cell_type": "code",
   "execution_count": 42,
   "metadata": {},
   "outputs": [
    {
     "data": {
      "text/plain": [
       "6405     0\n",
       "937      1\n",
       "19076    1\n",
       "15201    0\n",
       "13083    0\n",
       "        ..\n",
       "11964    0\n",
       "21575    0\n",
       "5390     1\n",
       "860      0\n",
       "15795    1\n",
       "Name: summer_purchase, Length: 16197, dtype: int32"
      ]
     },
     "execution_count": 42,
     "metadata": {},
     "output_type": "execute_result"
    }
   ],
   "source": [
    "X_train['summer_purchase'] = np.where((X_train['month_of_sale'] > 5) & (X_train['month_of_sale'] < 9), 1, 0)\n",
    "X_train['summer_purchase']"
   ]
  },
  {
   "cell_type": "code",
   "execution_count": 43,
   "metadata": {},
   "outputs": [
    {
     "data": {
      "text/html": [
       "<div>\n",
       "<style scoped>\n",
       "    .dataframe tbody tr th:only-of-type {\n",
       "        vertical-align: middle;\n",
       "    }\n",
       "\n",
       "    .dataframe tbody tr th {\n",
       "        vertical-align: top;\n",
       "    }\n",
       "\n",
       "    .dataframe thead th {\n",
       "        text-align: right;\n",
       "    }\n",
       "</style>\n",
       "<table border=\"1\" class=\"dataframe\">\n",
       "  <thead>\n",
       "    <tr style=\"text-align: right;\">\n",
       "      <th></th>\n",
       "      <th>const</th>\n",
       "      <th>sds_8</th>\n",
       "      <th>sds_9</th>\n",
       "      <th>sds_10</th>\n",
       "      <th>sds_11</th>\n",
       "      <th>sds_12</th>\n",
       "      <th>bedrooms</th>\n",
       "      <th>sqft_living_log</th>\n",
       "      <th>summer_purchase</th>\n",
       "    </tr>\n",
       "  </thead>\n",
       "  <tbody>\n",
       "    <tr>\n",
       "      <th>6405</th>\n",
       "      <td>1.0</td>\n",
       "      <td>0</td>\n",
       "      <td>0</td>\n",
       "      <td>0</td>\n",
       "      <td>0</td>\n",
       "      <td>1</td>\n",
       "      <td>3</td>\n",
       "      <td>7.610853</td>\n",
       "      <td>0</td>\n",
       "    </tr>\n",
       "    <tr>\n",
       "      <th>937</th>\n",
       "      <td>1.0</td>\n",
       "      <td>0</td>\n",
       "      <td>0</td>\n",
       "      <td>0</td>\n",
       "      <td>0</td>\n",
       "      <td>1</td>\n",
       "      <td>4</td>\n",
       "      <td>7.811973</td>\n",
       "      <td>1</td>\n",
       "    </tr>\n",
       "    <tr>\n",
       "      <th>19076</th>\n",
       "      <td>1.0</td>\n",
       "      <td>0</td>\n",
       "      <td>0</td>\n",
       "      <td>0</td>\n",
       "      <td>0</td>\n",
       "      <td>1</td>\n",
       "      <td>3</td>\n",
       "      <td>6.917706</td>\n",
       "      <td>1</td>\n",
       "    </tr>\n",
       "    <tr>\n",
       "      <th>15201</th>\n",
       "      <td>1.0</td>\n",
       "      <td>0</td>\n",
       "      <td>0</td>\n",
       "      <td>1</td>\n",
       "      <td>0</td>\n",
       "      <td>0</td>\n",
       "      <td>2</td>\n",
       "      <td>6.887553</td>\n",
       "      <td>0</td>\n",
       "    </tr>\n",
       "    <tr>\n",
       "      <th>13083</th>\n",
       "      <td>1.0</td>\n",
       "      <td>0</td>\n",
       "      <td>0</td>\n",
       "      <td>1</td>\n",
       "      <td>0</td>\n",
       "      <td>0</td>\n",
       "      <td>2</td>\n",
       "      <td>7.700748</td>\n",
       "      <td>0</td>\n",
       "    </tr>\n",
       "    <tr>\n",
       "      <th>...</th>\n",
       "      <td>...</td>\n",
       "      <td>...</td>\n",
       "      <td>...</td>\n",
       "      <td>...</td>\n",
       "      <td>...</td>\n",
       "      <td>...</td>\n",
       "      <td>...</td>\n",
       "      <td>...</td>\n",
       "      <td>...</td>\n",
       "    </tr>\n",
       "    <tr>\n",
       "      <th>11964</th>\n",
       "      <td>1.0</td>\n",
       "      <td>0</td>\n",
       "      <td>1</td>\n",
       "      <td>0</td>\n",
       "      <td>0</td>\n",
       "      <td>0</td>\n",
       "      <td>4</td>\n",
       "      <td>7.625595</td>\n",
       "      <td>0</td>\n",
       "    </tr>\n",
       "    <tr>\n",
       "      <th>21575</th>\n",
       "      <td>1.0</td>\n",
       "      <td>0</td>\n",
       "      <td>0</td>\n",
       "      <td>0</td>\n",
       "      <td>0</td>\n",
       "      <td>1</td>\n",
       "      <td>3</td>\n",
       "      <td>8.042378</td>\n",
       "      <td>0</td>\n",
       "    </tr>\n",
       "    <tr>\n",
       "      <th>5390</th>\n",
       "      <td>1.0</td>\n",
       "      <td>0</td>\n",
       "      <td>0</td>\n",
       "      <td>1</td>\n",
       "      <td>0</td>\n",
       "      <td>0</td>\n",
       "      <td>3</td>\n",
       "      <td>7.544332</td>\n",
       "      <td>1</td>\n",
       "    </tr>\n",
       "    <tr>\n",
       "      <th>860</th>\n",
       "      <td>1.0</td>\n",
       "      <td>0</td>\n",
       "      <td>0</td>\n",
       "      <td>0</td>\n",
       "      <td>0</td>\n",
       "      <td>1</td>\n",
       "      <td>3</td>\n",
       "      <td>7.605890</td>\n",
       "      <td>0</td>\n",
       "    </tr>\n",
       "    <tr>\n",
       "      <th>15795</th>\n",
       "      <td>1.0</td>\n",
       "      <td>0</td>\n",
       "      <td>0</td>\n",
       "      <td>1</td>\n",
       "      <td>0</td>\n",
       "      <td>0</td>\n",
       "      <td>4</td>\n",
       "      <td>7.908387</td>\n",
       "      <td>1</td>\n",
       "    </tr>\n",
       "  </tbody>\n",
       "</table>\n",
       "<p>16197 rows × 9 columns</p>\n",
       "</div>"
      ],
      "text/plain": [
       "       const  sds_8  sds_9  sds_10  sds_11  sds_12  bedrooms  sqft_living_log  \\\n",
       "6405     1.0      0      0       0       0       1         3         7.610853   \n",
       "937      1.0      0      0       0       0       1         4         7.811973   \n",
       "19076    1.0      0      0       0       0       1         3         6.917706   \n",
       "15201    1.0      0      0       1       0       0         2         6.887553   \n",
       "13083    1.0      0      0       1       0       0         2         7.700748   \n",
       "...      ...    ...    ...     ...     ...     ...       ...              ...   \n",
       "11964    1.0      0      1       0       0       0         4         7.625595   \n",
       "21575    1.0      0      0       0       0       1         3         8.042378   \n",
       "5390     1.0      0      0       1       0       0         3         7.544332   \n",
       "860      1.0      0      0       0       0       1         3         7.605890   \n",
       "15795    1.0      0      0       1       0       0         4         7.908387   \n",
       "\n",
       "       summer_purchase  \n",
       "6405                 0  \n",
       "937                  1  \n",
       "19076                1  \n",
       "15201                0  \n",
       "13083                0  \n",
       "...                ...  \n",
       "11964                0  \n",
       "21575                0  \n",
       "5390                 1  \n",
       "860                  0  \n",
       "15795                1  \n",
       "\n",
       "[16197 rows x 9 columns]"
      ]
     },
     "execution_count": 43,
     "metadata": {},
     "output_type": "execute_result"
    }
   ],
   "source": [
    "predictors = X_train[['sds_8', 'sds_9', 'sds_10', 'sds_11', 'sds_12',\\\n",
    "                      'bedrooms', 'sqft_living_log', 'summer_purchase']]\n",
    "predictors = sm.add_constant(predictors)\n",
    "#predictors = np.array(final_X_test_predictors).reshape(-1,9)\n",
    "predictors"
   ]
  },
  {
   "cell_type": "code",
   "execution_count": 44,
   "metadata": {},
   "outputs": [
    {
     "data": {
      "text/html": [
       "<table class=\"simpletable\">\n",
       "<caption>OLS Regression Results</caption>\n",
       "<tr>\n",
       "  <th>Dep. Variable:</th>          <td>price</td>      <th>  R-squared:         </th>  <td>   0.483</td>  \n",
       "</tr>\n",
       "<tr>\n",
       "  <th>Model:</th>                   <td>OLS</td>       <th>  Adj. R-squared:    </th>  <td>   0.482</td>  \n",
       "</tr>\n",
       "<tr>\n",
       "  <th>Method:</th>             <td>Least Squares</td>  <th>  F-statistic:       </th>  <td>   1887.</td>  \n",
       "</tr>\n",
       "<tr>\n",
       "  <th>Date:</th>             <td>Sun, 05 Feb 2023</td> <th>  Prob (F-statistic):</th>   <td>  0.00</td>   \n",
       "</tr>\n",
       "<tr>\n",
       "  <th>Time:</th>                 <td>10:24:24</td>     <th>  Log-Likelihood:    </th> <td>-2.2479e+05</td>\n",
       "</tr>\n",
       "<tr>\n",
       "  <th>No. Observations:</th>      <td> 16197</td>      <th>  AIC:               </th>  <td>4.496e+05</td> \n",
       "</tr>\n",
       "<tr>\n",
       "  <th>Df Residuals:</th>          <td> 16188</td>      <th>  BIC:               </th>  <td>4.497e+05</td> \n",
       "</tr>\n",
       "<tr>\n",
       "  <th>Df Model:</th>              <td>     8</td>      <th>                     </th>      <td> </td>     \n",
       "</tr>\n",
       "<tr>\n",
       "  <th>Covariance Type:</th>      <td>nonrobust</td>    <th>                     </th>      <td> </td>     \n",
       "</tr>\n",
       "</table>\n",
       "<table class=\"simpletable\">\n",
       "<tr>\n",
       "         <td></td>            <th>coef</th>     <th>std err</th>      <th>t</th>      <th>P>|t|</th>  <th>[0.025</th>    <th>0.975]</th>  \n",
       "</tr>\n",
       "<tr>\n",
       "  <th>const</th>           <td>-3.646e+06</td> <td>  4.2e+04</td> <td>  -86.719</td> <td> 0.000</td> <td>-3.73e+06</td> <td>-3.56e+06</td>\n",
       "</tr>\n",
       "<tr>\n",
       "  <th>sds_8</th>           <td>-1.757e+04</td> <td> 9632.404</td> <td>   -1.824</td> <td> 0.068</td> <td>-3.65e+04</td> <td> 1310.129</td>\n",
       "</tr>\n",
       "<tr>\n",
       "  <th>sds_9</th>           <td> 8.183e+04</td> <td> 9231.123</td> <td>    8.865</td> <td> 0.000</td> <td> 6.37e+04</td> <td> 9.99e+04</td>\n",
       "</tr>\n",
       "<tr>\n",
       "  <th>sds_10</th>          <td> 2.631e+05</td> <td> 7973.220</td> <td>   32.995</td> <td> 0.000</td> <td> 2.47e+05</td> <td> 2.79e+05</td>\n",
       "</tr>\n",
       "<tr>\n",
       "  <th>sds_11</th>          <td> 1.627e+05</td> <td> 8793.815</td> <td>   18.506</td> <td> 0.000</td> <td> 1.46e+05</td> <td>  1.8e+05</td>\n",
       "</tr>\n",
       "<tr>\n",
       "  <th>sds_12</th>          <td> 2.917e+05</td> <td> 8620.585</td> <td>   33.835</td> <td> 0.000</td> <td> 2.75e+05</td> <td> 3.09e+05</td>\n",
       "</tr>\n",
       "<tr>\n",
       "  <th>bedrooms</th>        <td>-3.611e+04</td> <td> 2776.422</td> <td>  -13.007</td> <td> 0.000</td> <td>-4.16e+04</td> <td>-3.07e+04</td>\n",
       "</tr>\n",
       "<tr>\n",
       "  <th>sqft_living_log</th> <td> 5.467e+05</td> <td> 6202.409</td> <td>   88.141</td> <td> 0.000</td> <td> 5.35e+05</td> <td> 5.59e+05</td>\n",
       "</tr>\n",
       "<tr>\n",
       "  <th>summer_purchase</th> <td>-8780.0594</td> <td> 4442.061</td> <td>   -1.977</td> <td> 0.048</td> <td>-1.75e+04</td> <td>  -73.129</td>\n",
       "</tr>\n",
       "</table>\n",
       "<table class=\"simpletable\">\n",
       "<tr>\n",
       "  <th>Omnibus:</th>       <td>15967.109</td> <th>  Durbin-Watson:     </th>  <td>   2.019</td>  \n",
       "</tr>\n",
       "<tr>\n",
       "  <th>Prob(Omnibus):</th>  <td> 0.000</td>   <th>  Jarque-Bera (JB):  </th> <td>2149513.943</td>\n",
       "</tr>\n",
       "<tr>\n",
       "  <th>Skew:</th>           <td> 4.490</td>   <th>  Prob(JB):          </th>  <td>    0.00</td>  \n",
       "</tr>\n",
       "<tr>\n",
       "  <th>Kurtosis:</th>       <td>58.717</td>   <th>  Cond. No.          </th>  <td>    176.</td>  \n",
       "</tr>\n",
       "</table><br/><br/>Notes:<br/>[1] Standard Errors assume that the covariance matrix of the errors is correctly specified."
      ],
      "text/plain": [
       "<class 'statsmodels.iolib.summary.Summary'>\n",
       "\"\"\"\n",
       "                            OLS Regression Results                            \n",
       "==============================================================================\n",
       "Dep. Variable:                  price   R-squared:                       0.483\n",
       "Model:                            OLS   Adj. R-squared:                  0.482\n",
       "Method:                 Least Squares   F-statistic:                     1887.\n",
       "Date:                Sun, 05 Feb 2023   Prob (F-statistic):               0.00\n",
       "Time:                        10:24:24   Log-Likelihood:            -2.2479e+05\n",
       "No. Observations:               16197   AIC:                         4.496e+05\n",
       "Df Residuals:                   16188   BIC:                         4.497e+05\n",
       "Df Model:                           8                                         \n",
       "Covariance Type:            nonrobust                                         \n",
       "===================================================================================\n",
       "                      coef    std err          t      P>|t|      [0.025      0.975]\n",
       "-----------------------------------------------------------------------------------\n",
       "const           -3.646e+06    4.2e+04    -86.719      0.000   -3.73e+06   -3.56e+06\n",
       "sds_8           -1.757e+04   9632.404     -1.824      0.068   -3.65e+04    1310.129\n",
       "sds_9            8.183e+04   9231.123      8.865      0.000    6.37e+04    9.99e+04\n",
       "sds_10           2.631e+05   7973.220     32.995      0.000    2.47e+05    2.79e+05\n",
       "sds_11           1.627e+05   8793.815     18.506      0.000    1.46e+05     1.8e+05\n",
       "sds_12           2.917e+05   8620.585     33.835      0.000    2.75e+05    3.09e+05\n",
       "bedrooms        -3.611e+04   2776.422    -13.007      0.000   -4.16e+04   -3.07e+04\n",
       "sqft_living_log  5.467e+05   6202.409     88.141      0.000    5.35e+05    5.59e+05\n",
       "summer_purchase -8780.0594   4442.061     -1.977      0.048   -1.75e+04     -73.129\n",
       "==============================================================================\n",
       "Omnibus:                    15967.109   Durbin-Watson:                   2.019\n",
       "Prob(Omnibus):                  0.000   Jarque-Bera (JB):          2149513.943\n",
       "Skew:                           4.490   Prob(JB):                         0.00\n",
       "Kurtosis:                      58.717   Cond. No.                         176.\n",
       "==============================================================================\n",
       "\n",
       "Notes:\n",
       "[1] Standard Errors assume that the covariance matrix of the errors is correctly specified.\n",
       "\"\"\""
      ]
     },
     "execution_count": 44,
     "metadata": {},
     "output_type": "execute_result"
    }
   ],
   "source": [
    "model = sm.OLS(y_train, predictors).fit()\n",
    "model.summary()"
   ]
  },
  {
   "cell_type": "code",
   "execution_count": 45,
   "metadata": {},
   "outputs": [
    {
     "name": "stdout",
     "output_type": "stream",
     "text": [
      "train score: 0.4842380398496306\n",
      "test score: 0.47893617413723905\n"
     ]
    }
   ],
   "source": [
    "splitter = ShuffleSplit(n_splits=3, test_size=0.25, random_state=42)\n",
    "baseline_scores = cross_validate(\n",
    "                estimator=baseline_model,\n",
    "                X=predictors,\n",
    "                y=y_train,\n",
    "                return_train_score=True,\n",
    "                cv=splitter)\n",
    "print('train score:', baseline_scores['train_score'].mean())\n",
    "print('test score:', baseline_scores['test_score'].mean())"
   ]
  },
  {
   "cell_type": "markdown",
   "metadata": {},
   "source": [
    "On one hand, we see that considering whether a home is purchased during the summer shows basically no effect on listing price. On the other hand, this information may prove useful; families with school-age children don't necessarily need to put in a higher offer in order to purchase a home during the summer months.\n",
    "\n",
    "In any case, our model's predictors share an overarching theme of family-friendly considerations, but the R-squared score isn't compelling. "
   ]
  },
  {
   "cell_type": "code",
   "execution_count": 46,
   "metadata": {},
   "outputs": [
    {
     "data": {
      "text/plain": [
       "LinearRegression()"
      ]
     },
     "execution_count": 46,
     "metadata": {},
     "output_type": "execute_result"
    }
   ],
   "source": [
    "final_model = LinearRegression()\n",
    "final_model.fit(y_train, predictors)"
   ]
  },
  {
   "cell_type": "markdown",
   "metadata": {},
   "source": [
    "Alright, we have a final model with an R-squared score only 0.009 smaller than our baseline with a somewhat reasonable condition number. We can now support our arguement to our stakeholders about common considerations families with school-age children consider when buying a home: school districts given an A-, A, or A+ score, alongside the number of bedrooms and overall square footage, are correlated with higher sale prices. Sellers may want to consider raising their listing price if they reside in a school district with a Niche.com score higher than 9. Buyers don't necessarily need to worry about bidding too high during the summer months. \n",
    "\n",
    "Once we evaluate our model's performance against the test data (X_test/y_yest), we'll be able to narrow down more specific price adjustment consideration to our stakeholder."
   ]
  },
  {
   "cell_type": "code",
   "execution_count": 47,
   "metadata": {
    "scrolled": true
   },
   "outputs": [
    {
     "data": {
      "text/html": [
       "<div>\n",
       "<style scoped>\n",
       "    .dataframe tbody tr th:only-of-type {\n",
       "        vertical-align: middle;\n",
       "    }\n",
       "\n",
       "    .dataframe tbody tr th {\n",
       "        vertical-align: top;\n",
       "    }\n",
       "\n",
       "    .dataframe thead th {\n",
       "        text-align: right;\n",
       "    }\n",
       "</style>\n",
       "<table border=\"1\" class=\"dataframe\">\n",
       "  <thead>\n",
       "    <tr style=\"text-align: right;\">\n",
       "      <th></th>\n",
       "      <th>id</th>\n",
       "      <th>date</th>\n",
       "      <th>bedrooms</th>\n",
       "      <th>bathrooms</th>\n",
       "      <th>sqft_living</th>\n",
       "      <th>sqft_lot</th>\n",
       "      <th>floors</th>\n",
       "      <th>waterfront</th>\n",
       "      <th>view</th>\n",
       "      <th>condition</th>\n",
       "      <th>...</th>\n",
       "      <th>zipcode</th>\n",
       "      <th>lat</th>\n",
       "      <th>long</th>\n",
       "      <th>sqft_living15</th>\n",
       "      <th>sqft_lot15</th>\n",
       "      <th>sds_8</th>\n",
       "      <th>sds_9</th>\n",
       "      <th>sds_10</th>\n",
       "      <th>sds_11</th>\n",
       "      <th>sds_12</th>\n",
       "    </tr>\n",
       "  </thead>\n",
       "  <tbody>\n",
       "    <tr>\n",
       "      <th>3686</th>\n",
       "      <td>8024201370</td>\n",
       "      <td>12/8/2014</td>\n",
       "      <td>2</td>\n",
       "      <td>1.00</td>\n",
       "      <td>880</td>\n",
       "      <td>5111</td>\n",
       "      <td>1.0</td>\n",
       "      <td>NO</td>\n",
       "      <td>NONE</td>\n",
       "      <td>Average</td>\n",
       "      <td>...</td>\n",
       "      <td>98115</td>\n",
       "      <td>47.6997</td>\n",
       "      <td>-122.314</td>\n",
       "      <td>1370</td>\n",
       "      <td>5111</td>\n",
       "      <td>0</td>\n",
       "      <td>0</td>\n",
       "      <td>1</td>\n",
       "      <td>0</td>\n",
       "      <td>0</td>\n",
       "    </tr>\n",
       "    <tr>\n",
       "      <th>10247</th>\n",
       "      <td>6073300040</td>\n",
       "      <td>1/6/2015</td>\n",
       "      <td>4</td>\n",
       "      <td>2.25</td>\n",
       "      <td>2020</td>\n",
       "      <td>12500</td>\n",
       "      <td>2.0</td>\n",
       "      <td>NO</td>\n",
       "      <td>NONE</td>\n",
       "      <td>Fair</td>\n",
       "      <td>...</td>\n",
       "      <td>98056</td>\n",
       "      <td>47.5403</td>\n",
       "      <td>-122.175</td>\n",
       "      <td>1800</td>\n",
       "      <td>13175</td>\n",
       "      <td>0</td>\n",
       "      <td>0</td>\n",
       "      <td>0</td>\n",
       "      <td>1</td>\n",
       "      <td>0</td>\n",
       "    </tr>\n",
       "    <tr>\n",
       "      <th>4037</th>\n",
       "      <td>431500155</td>\n",
       "      <td>10/24/2014</td>\n",
       "      <td>5</td>\n",
       "      <td>1.75</td>\n",
       "      <td>2020</td>\n",
       "      <td>6565</td>\n",
       "      <td>1.0</td>\n",
       "      <td>NO</td>\n",
       "      <td>NONE</td>\n",
       "      <td>Average</td>\n",
       "      <td>...</td>\n",
       "      <td>98115</td>\n",
       "      <td>47.6821</td>\n",
       "      <td>-122.283</td>\n",
       "      <td>2020</td>\n",
       "      <td>6552</td>\n",
       "      <td>0</td>\n",
       "      <td>0</td>\n",
       "      <td>1</td>\n",
       "      <td>0</td>\n",
       "      <td>0</td>\n",
       "    </tr>\n",
       "    <tr>\n",
       "      <th>3437</th>\n",
       "      <td>7237450110</td>\n",
       "      <td>7/1/2014</td>\n",
       "      <td>4</td>\n",
       "      <td>2.50</td>\n",
       "      <td>2530</td>\n",
       "      <td>5048</td>\n",
       "      <td>2.0</td>\n",
       "      <td>NO</td>\n",
       "      <td>NONE</td>\n",
       "      <td>Average</td>\n",
       "      <td>...</td>\n",
       "      <td>98038</td>\n",
       "      <td>47.3559</td>\n",
       "      <td>-122.063</td>\n",
       "      <td>2530</td>\n",
       "      <td>4359</td>\n",
       "      <td>0</td>\n",
       "      <td>0</td>\n",
       "      <td>1</td>\n",
       "      <td>0</td>\n",
       "      <td>0</td>\n",
       "    </tr>\n",
       "    <tr>\n",
       "      <th>19291</th>\n",
       "      <td>3982700250</td>\n",
       "      <td>4/23/2015</td>\n",
       "      <td>4</td>\n",
       "      <td>2.50</td>\n",
       "      <td>3030</td>\n",
       "      <td>7800</td>\n",
       "      <td>2.0</td>\n",
       "      <td>NO</td>\n",
       "      <td>NONE</td>\n",
       "      <td>Average</td>\n",
       "      <td>...</td>\n",
       "      <td>98033</td>\n",
       "      <td>47.6890</td>\n",
       "      <td>-122.196</td>\n",
       "      <td>2840</td>\n",
       "      <td>7435</td>\n",
       "      <td>0</td>\n",
       "      <td>0</td>\n",
       "      <td>0</td>\n",
       "      <td>0</td>\n",
       "      <td>1</td>\n",
       "    </tr>\n",
       "    <tr>\n",
       "      <th>...</th>\n",
       "      <td>...</td>\n",
       "      <td>...</td>\n",
       "      <td>...</td>\n",
       "      <td>...</td>\n",
       "      <td>...</td>\n",
       "      <td>...</td>\n",
       "      <td>...</td>\n",
       "      <td>...</td>\n",
       "      <td>...</td>\n",
       "      <td>...</td>\n",
       "      <td>...</td>\n",
       "      <td>...</td>\n",
       "      <td>...</td>\n",
       "      <td>...</td>\n",
       "      <td>...</td>\n",
       "      <td>...</td>\n",
       "      <td>...</td>\n",
       "      <td>...</td>\n",
       "      <td>...</td>\n",
       "      <td>...</td>\n",
       "      <td>...</td>\n",
       "    </tr>\n",
       "    <tr>\n",
       "      <th>18276</th>\n",
       "      <td>1672000170</td>\n",
       "      <td>9/8/2014</td>\n",
       "      <td>3</td>\n",
       "      <td>1.75</td>\n",
       "      <td>1890</td>\n",
       "      <td>11141</td>\n",
       "      <td>1.0</td>\n",
       "      <td>NO</td>\n",
       "      <td>NONE</td>\n",
       "      <td>Good</td>\n",
       "      <td>...</td>\n",
       "      <td>98006</td>\n",
       "      <td>47.5697</td>\n",
       "      <td>-122.163</td>\n",
       "      <td>2720</td>\n",
       "      <td>11144</td>\n",
       "      <td>0</td>\n",
       "      <td>0</td>\n",
       "      <td>0</td>\n",
       "      <td>1</td>\n",
       "      <td>0</td>\n",
       "    </tr>\n",
       "    <tr>\n",
       "      <th>15003</th>\n",
       "      <td>148000680</td>\n",
       "      <td>10/27/2014</td>\n",
       "      <td>3</td>\n",
       "      <td>1.75</td>\n",
       "      <td>1660</td>\n",
       "      <td>4800</td>\n",
       "      <td>1.0</td>\n",
       "      <td>NO</td>\n",
       "      <td>NONE</td>\n",
       "      <td>Average</td>\n",
       "      <td>...</td>\n",
       "      <td>98116</td>\n",
       "      <td>47.5734</td>\n",
       "      <td>-122.412</td>\n",
       "      <td>1510</td>\n",
       "      <td>4800</td>\n",
       "      <td>0</td>\n",
       "      <td>0</td>\n",
       "      <td>1</td>\n",
       "      <td>0</td>\n",
       "      <td>0</td>\n",
       "    </tr>\n",
       "    <tr>\n",
       "      <th>13478</th>\n",
       "      <td>7133300380</td>\n",
       "      <td>2/9/2015</td>\n",
       "      <td>4</td>\n",
       "      <td>2.50</td>\n",
       "      <td>2500</td>\n",
       "      <td>4000</td>\n",
       "      <td>2.0</td>\n",
       "      <td>NO</td>\n",
       "      <td>NONE</td>\n",
       "      <td>Average</td>\n",
       "      <td>...</td>\n",
       "      <td>98144</td>\n",
       "      <td>47.5902</td>\n",
       "      <td>-122.311</td>\n",
       "      <td>1480</td>\n",
       "      <td>4300</td>\n",
       "      <td>0</td>\n",
       "      <td>0</td>\n",
       "      <td>1</td>\n",
       "      <td>0</td>\n",
       "      <td>0</td>\n",
       "    </tr>\n",
       "    <tr>\n",
       "      <th>18399</th>\n",
       "      <td>9346920260</td>\n",
       "      <td>6/4/2014</td>\n",
       "      <td>4</td>\n",
       "      <td>2.25</td>\n",
       "      <td>2500</td>\n",
       "      <td>8500</td>\n",
       "      <td>1.0</td>\n",
       "      <td>NaN</td>\n",
       "      <td>NONE</td>\n",
       "      <td>Good</td>\n",
       "      <td>...</td>\n",
       "      <td>98006</td>\n",
       "      <td>47.5615</td>\n",
       "      <td>-122.131</td>\n",
       "      <td>2290</td>\n",
       "      <td>8927</td>\n",
       "      <td>0</td>\n",
       "      <td>0</td>\n",
       "      <td>0</td>\n",
       "      <td>1</td>\n",
       "      <td>0</td>\n",
       "    </tr>\n",
       "    <tr>\n",
       "      <th>2358</th>\n",
       "      <td>7893804340</td>\n",
       "      <td>7/24/2014</td>\n",
       "      <td>4</td>\n",
       "      <td>2.50</td>\n",
       "      <td>2680</td>\n",
       "      <td>8062</td>\n",
       "      <td>1.0</td>\n",
       "      <td>NO</td>\n",
       "      <td>GOOD</td>\n",
       "      <td>Good</td>\n",
       "      <td>...</td>\n",
       "      <td>98198</td>\n",
       "      <td>47.4132</td>\n",
       "      <td>-122.328</td>\n",
       "      <td>1920</td>\n",
       "      <td>8600</td>\n",
       "      <td>0</td>\n",
       "      <td>0</td>\n",
       "      <td>0</td>\n",
       "      <td>0</td>\n",
       "      <td>0</td>\n",
       "    </tr>\n",
       "  </tbody>\n",
       "</table>\n",
       "<p>5400 rows × 25 columns</p>\n",
       "</div>"
      ],
      "text/plain": [
       "               id        date  bedrooms  bathrooms  sqft_living  sqft_lot  \\\n",
       "3686   8024201370   12/8/2014         2       1.00          880      5111   \n",
       "10247  6073300040    1/6/2015         4       2.25         2020     12500   \n",
       "4037    431500155  10/24/2014         5       1.75         2020      6565   \n",
       "3437   7237450110    7/1/2014         4       2.50         2530      5048   \n",
       "19291  3982700250   4/23/2015         4       2.50         3030      7800   \n",
       "...           ...         ...       ...        ...          ...       ...   \n",
       "18276  1672000170    9/8/2014         3       1.75         1890     11141   \n",
       "15003   148000680  10/27/2014         3       1.75         1660      4800   \n",
       "13478  7133300380    2/9/2015         4       2.50         2500      4000   \n",
       "18399  9346920260    6/4/2014         4       2.25         2500      8500   \n",
       "2358   7893804340   7/24/2014         4       2.50         2680      8062   \n",
       "\n",
       "       floors waterfront  view condition  ... zipcode      lat     long  \\\n",
       "3686      1.0         NO  NONE   Average  ...   98115  47.6997 -122.314   \n",
       "10247     2.0         NO  NONE      Fair  ...   98056  47.5403 -122.175   \n",
       "4037      1.0         NO  NONE   Average  ...   98115  47.6821 -122.283   \n",
       "3437      2.0         NO  NONE   Average  ...   98038  47.3559 -122.063   \n",
       "19291     2.0         NO  NONE   Average  ...   98033  47.6890 -122.196   \n",
       "...       ...        ...   ...       ...  ...     ...      ...      ...   \n",
       "18276     1.0         NO  NONE      Good  ...   98006  47.5697 -122.163   \n",
       "15003     1.0         NO  NONE   Average  ...   98116  47.5734 -122.412   \n",
       "13478     2.0         NO  NONE   Average  ...   98144  47.5902 -122.311   \n",
       "18399     1.0        NaN  NONE      Good  ...   98006  47.5615 -122.131   \n",
       "2358      1.0         NO  GOOD      Good  ...   98198  47.4132 -122.328   \n",
       "\n",
       "       sqft_living15  sqft_lot15  sds_8  sds_9  sds_10  sds_11  sds_12  \n",
       "3686            1370        5111      0      0       1       0       0  \n",
       "10247           1800       13175      0      0       0       1       0  \n",
       "4037            2020        6552      0      0       1       0       0  \n",
       "3437            2530        4359      0      0       1       0       0  \n",
       "19291           2840        7435      0      0       0       0       1  \n",
       "...              ...         ...    ...    ...     ...     ...     ...  \n",
       "18276           2720       11144      0      0       0       1       0  \n",
       "15003           1510        4800      0      0       1       0       0  \n",
       "13478           1480        4300      0      0       1       0       0  \n",
       "18399           2290        8927      0      0       0       1       0  \n",
       "2358            1920        8600      0      0       0       0       0  \n",
       "\n",
       "[5400 rows x 25 columns]"
      ]
     },
     "execution_count": 47,
     "metadata": {},
     "output_type": "execute_result"
    }
   ],
   "source": [
    "school_dist_score_dummies_X_test = pd.get_dummies(X_test['school_district_score'], prefix='sds', drop_first=True)\n",
    "X_test = X_test.drop('school_district_score', axis=1)\n",
    "X_test = pd.concat([X_test, school_dist_score_dummies_X_test], axis=1)\n",
    "X_test"
   ]
  },
  {
   "cell_type": "code",
   "execution_count": 48,
   "metadata": {},
   "outputs": [
    {
     "data": {
      "image/png": "[encoded data removed]",
      "text/plain": [
       "<Figure size 432x288 with 1 Axes>"
      ]
     },
     "metadata": {
      "needs_background": "light"
     },
     "output_type": "display_data"
    }
   ],
   "source": [
    "X_test['sqft_living_log'] = np.log(X_test['sqft_living'])\n",
    "#X_test.rename(columns = {'sqft_living': 'sqft_living_log'}, inplace = True)\n",
    "X_test['sqft_living_log'].hist(bins='auto');"
   ]
  },
  {
   "cell_type": "markdown",
   "metadata": {},
   "source": [
    "Now I'll check to see whether there's a correlation between listing price and the summer season, when parents ar emor elikely to purchase a home:"
   ]
  },
  {
   "cell_type": "code",
   "execution_count": 49,
   "metadata": {},
   "outputs": [],
   "source": [
    "X_test['date'] = pd.to_datetime(X_test['date'])\n",
    "X_test['date'] = pd.DatetimeIndex(X_test['date']).month\n",
    "X_test.rename(columns = {'date': 'month_of_sale'}, inplace = True)"
   ]
  },
  {
   "cell_type": "code",
   "execution_count": 50,
   "metadata": {},
   "outputs": [
    {
     "data": {
      "text/plain": [
       "3686     0\n",
       "10247    0\n",
       "4037     0\n",
       "3437     1\n",
       "19291    0\n",
       "        ..\n",
       "18276    0\n",
       "15003    0\n",
       "13478    0\n",
       "18399    1\n",
       "2358     1\n",
       "Name: summer_purchase, Length: 5400, dtype: int32"
      ]
     },
     "execution_count": 50,
     "metadata": {},
     "output_type": "execute_result"
    }
   ],
   "source": [
    "X_test['summer_purchase'] = np.where((X_test['month_of_sale'] > 5) & (X_test['month_of_sale'] < 9), 1, 0)\n",
    "X_test['summer_purchase']"
   ]
  },
  {
   "cell_type": "code",
   "execution_count": 51,
   "metadata": {},
   "outputs": [
    {
     "data": {
      "text/plain": [
       "array([[1.        , 0.        , 0.        , ..., 2.        , 6.77992191,\n",
       "        0.        ],\n",
       "       [1.        , 0.        , 0.        , ..., 4.        , 7.61085279,\n",
       "        0.        ],\n",
       "       [1.        , 0.        , 0.        , ..., 5.        , 7.61085279,\n",
       "        0.        ],\n",
       "       ...,\n",
       "       [1.        , 0.        , 0.        , ..., 4.        , 7.82404601,\n",
       "        0.        ],\n",
       "       [1.        , 0.        , 0.        , ..., 4.        , 7.82404601,\n",
       "        1.        ],\n",
       "       [1.        , 0.        , 0.        , ..., 4.        , 7.89357207,\n",
       "        1.        ]])"
      ]
     },
     "execution_count": 51,
     "metadata": {},
     "output_type": "execute_result"
    }
   ],
   "source": [
    "final_X_test_predictors = X_test[['sds_8', 'sds_9', 'sds_10', 'sds_11', 'sds_12',\\\n",
    "                                  'bedrooms', 'sqft_living_log', 'summer_purchase']]\n",
    "final_X_test_predictors = sm.add_constant(final_X_test_predictors)\n",
    "final_X_test_predictors = np.array(final_X_test_predictors).reshape(-1,9)\n",
    "final_X_test_predictors"
   ]
  },
  {
   "cell_type": "code",
   "execution_count": 52,
   "metadata": {},
   "outputs": [
    {
     "data": {
      "text/plain": [
       "(5400, 9)"
      ]
     },
     "execution_count": 52,
     "metadata": {},
     "output_type": "execute_result"
    }
   ],
   "source": [
    "final_X_test_predictors.shape"
   ]
  },
  {
   "cell_type": "code",
   "execution_count": 53,
   "metadata": {},
   "outputs": [
    {
     "data": {
      "text/plain": [
       "(5400, 1)"
      ]
     },
     "execution_count": 53,
     "metadata": {},
     "output_type": "execute_result"
    }
   ],
   "source": [
    "#y_test = np.array(y_test).reshape(-1,1)\n",
    "y_test.shape"
   ]
  },
  {
   "cell_type": "code",
   "execution_count": 54,
   "metadata": {},
   "outputs": [
    {
     "data": {
      "text/plain": [
       "LinearRegression()"
      ]
     },
     "execution_count": 54,
     "metadata": {},
     "output_type": "execute_result"
    }
   ],
   "source": [
    "final_model.fit(final_X_test_predictors, y_test)"
   ]
  },
  {
   "cell_type": "code",
   "execution_count": 55,
   "metadata": {},
   "outputs": [
    {
     "data": {
      "text/plain": [
       "0.4647234209757929"
      ]
     },
     "execution_count": 55,
     "metadata": {},
     "output_type": "execute_result"
    }
   ],
   "source": [
    "final_model.score(final_X_test_predictors, y_test)"
   ]
  },
  {
   "cell_type": "code",
   "execution_count": 56,
   "metadata": {},
   "outputs": [
    {
     "data": {
      "text/plain": [
       "array([[235783.96488584],\n",
       "       [531375.46466871],\n",
       "       [569499.56446258],\n",
       "       ...,\n",
       "       [749730.29127112],\n",
       "       [656885.74524259],\n",
       "       [532251.7073725 ]])"
      ]
     },
     "execution_count": 56,
     "metadata": {},
     "output_type": "execute_result"
    }
   ],
   "source": [
    "y_hat = final_model.predict(final_X_test_predictors)\n",
    "y_hat"
   ]
  },
  {
   "cell_type": "code",
   "execution_count": 57,
   "metadata": {},
   "outputs": [
    {
     "name": "stdout",
     "output_type": "stream",
     "text": [
      "train score: 0.46378786445788694\n",
      "test score: 0.466518791547609\n"
     ]
    }
   ],
   "source": [
    "splitter = ShuffleSplit(n_splits=3, test_size=0.25, random_state=42)\n",
    "baseline_scores = cross_validate(\n",
    "                estimator=final_model,\n",
    "                X=final_X_test_predictors,\n",
    "#               y=final_y_test,\n",
    "                y=y_test,\n",
    "                return_train_score=True,\n",
    "                cv=splitter)\n",
    "print('train score:', baseline_scores['train_score'].mean())\n",
    "print('test score:', baseline_scores['test_score'].mean())"
   ]
  },
  {
   "cell_type": "markdown",
   "metadata": {},
   "source": [
    "Good news, it looks like our model performs closely between the training and the test data. Let's verify some more information on our model's performance:"
   ]
  },
  {
   "cell_type": "code",
   "execution_count": 58,
   "metadata": {},
   "outputs": [],
   "source": [
    "y_hat = final_model.predict(final_X_test_predictors)"
   ]
  },
  {
   "cell_type": "code",
   "execution_count": 59,
   "metadata": {},
   "outputs": [
    {
     "data": {
      "image/png": "[encoded data removed]",
      "text/plain": [
       "<Figure size 432x288 with 1 Axes>"
      ]
     },
     "metadata": {
      "needs_background": "light"
     },
     "output_type": "display_data"
    }
   ],
   "source": [
    "fig, ax = plt.subplots()\n",
    "\n",
    "perfect_line = np.arange(y_test['price'].min(), y_test['price'].max())\n",
    "ax.plot(perfect_line, linestyle=\"--\", color=\"blue\", label=\"perfect fit\")\n",
    "ax.scatter(y_test, y_test, color=\"orange\", alpha=0.5)\n",
    "ax.set_xlabel(\"Actual Price\")\n",
    "ax.set_ylabel(\"Predicted Price\")\n",
    "ax.set_title(\"linearity assumption check\")\n",
    "ax.legend();"
   ]
  },
  {
   "cell_type": "code",
   "execution_count": 60,
   "metadata": {},
   "outputs": [],
   "source": [
    "#training data predictors\n",
    "lm_train_predictions = final_model.predict(predictors)\n",
    "#test data predictors\n",
    "lm_test_predictions = final_model.predict(final_X_test_predictors)"
   ]
  },
  {
   "cell_type": "code",
   "execution_count": 61,
   "metadata": {},
   "outputs": [
    {
     "data": {
      "image/png": "[encoded data removed]",
      "text/plain": [
       "<Figure size 576x432 with 1 Axes>"
      ]
     },
     "metadata": {
      "needs_background": "light"
     },
     "output_type": "display_data"
    }
   ],
   "source": [
    "plt.figure(figsize=(8,6))\n",
    "plt.scatter(y_train, lm_train_predictions, alpha=0.2, label=\"model\")\n",
    "plt.plot(y_train, y_train, color='r', label=\"actual data\")\n",
    "plt.title(\"model vs. data for training set\")\n",
    "plt.legend();"
   ]
  },
  {
   "cell_type": "code",
   "execution_count": 62,
   "metadata": {},
   "outputs": [
    {
     "data": {
      "image/png": "[encoded data removed]",
      "text/plain": [
       "<Figure size 576x432 with 1 Axes>"
      ]
     },
     "metadata": {
      "needs_background": "light"
     },
     "output_type": "display_data"
    }
   ],
   "source": [
    "plt.figure(figsize=(8,6))\n",
    "plt.scatter(y_test, lm_test_predictions, color='g', alpha=0.2, label=\"model\")\n",
    "plt.plot(y_train, y_train, color='r', label=\"actual data\")\n",
    "plt.title(\"model vs. data for test set\")\n",
    "plt.legend();"
   ]
  },
  {
   "cell_type": "code",
   "execution_count": 63,
   "metadata": {},
   "outputs": [
    {
     "data": {
      "image/png": "[encoded data removed]",
      "text/plain": [
       "<Figure size 432x288 with 1 Axes>"
      ]
     },
     "metadata": {
      "needs_background": "light"
     },
     "output_type": "display_data"
    }
   ],
   "source": [
    "import scipy.stats as stats\n",
    "#residuals = (final_y_test_unlogged - lm_test_predictions_unlogged)\n",
    "residuals = (y_test - lm_test_predictions)\n",
    "sm.graphics.qqplot(residuals, dist=stats.norm, line='45', fit=True)\n",
    "plt.show();"
   ]
  },
  {
   "cell_type": "code",
   "execution_count": 64,
   "metadata": {},
   "outputs": [
    {
     "data": {
      "text/plain": [
       "const              431.140904\n",
       "sds_8                2.026845\n",
       "sds_9                2.225134\n",
       "sds_10               3.500057\n",
       "sds_11               2.633790\n",
       "sds_12               2.754872\n",
       "bedrooms             1.629374\n",
       "sqft_living_log      1.676344\n",
       "summer_purchase      1.001566\n",
       "Name: Variance Inflation Factor, dtype: float64"
      ]
     },
     "execution_count": 64,
     "metadata": {},
     "output_type": "execute_result"
    }
   ],
   "source": [
    "from statsmodels.stats.outliers_influence import variance_inflation_factor\n",
    "vif = [variance_inflation_factor(predictors.values, i) for i in range(predictors.shape[1])]\n",
    "pd.Series(vif, index=predictors.columns, name=\"Variance Inflation Factor\")"
   ]
  },
  {
   "cell_type": "markdown",
   "metadata": {},
   "source": [
    "Well, those don't look good. Based on what I found online, I think this looks like the target variable isn't normally distributed. Let's apply a logarithmic transformation:"
   ]
  },
  {
   "cell_type": "code",
   "execution_count": 65,
   "metadata": {},
   "outputs": [
    {
     "name": "stdout",
     "output_type": "stream",
     "text": [
      "skew of y_train, aka 'price': [3.82104252]\n"
     ]
    }
   ],
   "source": [
    "skewness = skew(y_train)\n",
    "print(\"skew of y_train, aka 'price':\", skewness)"
   ]
  },
  {
   "cell_type": "code",
   "execution_count": 66,
   "metadata": {},
   "outputs": [
    {
     "data": {
      "image/png": "[encoded data removed]",
      "text/plain": [
       "<Figure size 432x288 with 1 Axes>"
      ]
     },
     "metadata": {
      "needs_background": "light"
     },
     "output_type": "display_data"
    }
   ],
   "source": [
    "y_train['price'].hist(bins=25);"
   ]
  },
  {
   "cell_type": "code",
   "execution_count": 67,
   "metadata": {},
   "outputs": [
    {
     "data": {
      "image/png": "[encoded data removed]",
      "text/plain": [
       "<Figure size 432x288 with 1 Axes>"
      ]
     },
     "metadata": {
      "needs_background": "light"
     },
     "output_type": "display_data"
    }
   ],
   "source": [
    "y_train['price_log'] = np.log(y_train['price'])\n",
    "y_train['price_log'].hist(bins=25);"
   ]
  },
  {
   "cell_type": "code",
   "execution_count": 68,
   "metadata": {},
   "outputs": [
    {
     "data": {
      "text/html": [
       "<table class=\"simpletable\">\n",
       "<caption>OLS Regression Results</caption>\n",
       "<tr>\n",
       "  <th>Dep. Variable:</th>        <td>price_log</td>    <th>  R-squared:         </th> <td>   0.658</td>\n",
       "</tr>\n",
       "<tr>\n",
       "  <th>Model:</th>                   <td>OLS</td>       <th>  Adj. R-squared:    </th> <td>   0.658</td>\n",
       "</tr>\n",
       "<tr>\n",
       "  <th>Method:</th>             <td>Least Squares</td>  <th>  F-statistic:       </th> <td>   3889.</td>\n",
       "</tr>\n",
       "<tr>\n",
       "  <th>Date:</th>             <td>Sun, 05 Feb 2023</td> <th>  Prob (F-statistic):</th>  <td>  0.00</td> \n",
       "</tr>\n",
       "<tr>\n",
       "  <th>Time:</th>                 <td>10:24:48</td>     <th>  Log-Likelihood:    </th> <td> -3866.0</td>\n",
       "</tr>\n",
       "<tr>\n",
       "  <th>No. Observations:</th>      <td> 16197</td>      <th>  AIC:               </th> <td>   7750.</td>\n",
       "</tr>\n",
       "<tr>\n",
       "  <th>Df Residuals:</th>          <td> 16188</td>      <th>  BIC:               </th> <td>   7819.</td>\n",
       "</tr>\n",
       "<tr>\n",
       "  <th>Df Model:</th>              <td>     8</td>      <th>                     </th>     <td> </td>   \n",
       "</tr>\n",
       "<tr>\n",
       "  <th>Covariance Type:</th>      <td>nonrobust</td>    <th>                     </th>     <td> </td>   \n",
       "</tr>\n",
       "</table>\n",
       "<table class=\"simpletable\">\n",
       "<tr>\n",
       "         <td></td>            <th>coef</th>     <th>std err</th>      <th>t</th>      <th>P>|t|</th>  <th>[0.025</th>    <th>0.975]</th>  \n",
       "</tr>\n",
       "<tr>\n",
       "  <th>const</th>           <td>    6.4026</td> <td>    0.050</td> <td>  127.708</td> <td> 0.000</td> <td>    6.304</td> <td>    6.501</td>\n",
       "</tr>\n",
       "<tr>\n",
       "  <th>sds_8</th>           <td>   -0.0377</td> <td>    0.011</td> <td>   -3.283</td> <td> 0.001</td> <td>   -0.060</td> <td>   -0.015</td>\n",
       "</tr>\n",
       "<tr>\n",
       "  <th>sds_9</th>           <td>    0.1985</td> <td>    0.011</td> <td>   18.030</td> <td> 0.000</td> <td>    0.177</td> <td>    0.220</td>\n",
       "</tr>\n",
       "<tr>\n",
       "  <th>sds_10</th>          <td>    0.5745</td> <td>    0.010</td> <td>   60.429</td> <td> 0.000</td> <td>    0.556</td> <td>    0.593</td>\n",
       "</tr>\n",
       "<tr>\n",
       "  <th>sds_11</th>          <td>    0.4278</td> <td>    0.010</td> <td>   40.797</td> <td> 0.000</td> <td>    0.407</td> <td>    0.448</td>\n",
       "</tr>\n",
       "<tr>\n",
       "  <th>sds_12</th>          <td>    0.5945</td> <td>    0.010</td> <td>   57.837</td> <td> 0.000</td> <td>    0.574</td> <td>    0.615</td>\n",
       "</tr>\n",
       "<tr>\n",
       "  <th>bedrooms</th>        <td>   -0.0517</td> <td>    0.003</td> <td>  -15.618</td> <td> 0.000</td> <td>   -0.058</td> <td>   -0.045</td>\n",
       "</tr>\n",
       "<tr>\n",
       "  <th>sqft_living_log</th> <td>    0.8501</td> <td>    0.007</td> <td>  114.942</td> <td> 0.000</td> <td>    0.836</td> <td>    0.865</td>\n",
       "</tr>\n",
       "<tr>\n",
       "  <th>summer_purchase</th> <td>   -0.0067</td> <td>    0.005</td> <td>   -1.261</td> <td> 0.207</td> <td>   -0.017</td> <td>    0.004</td>\n",
       "</tr>\n",
       "</table>\n",
       "<table class=\"simpletable\">\n",
       "<tr>\n",
       "  <th>Omnibus:</th>       <td>286.959</td> <th>  Durbin-Watson:     </th> <td>   2.028</td>\n",
       "</tr>\n",
       "<tr>\n",
       "  <th>Prob(Omnibus):</th> <td> 0.000</td>  <th>  Jarque-Bera (JB):  </th> <td> 440.252</td>\n",
       "</tr>\n",
       "<tr>\n",
       "  <th>Skew:</th>          <td> 0.188</td>  <th>  Prob(JB):          </th> <td>2.52e-96</td>\n",
       "</tr>\n",
       "<tr>\n",
       "  <th>Kurtosis:</th>      <td> 3.715</td>  <th>  Cond. No.          </th> <td>    176.</td>\n",
       "</tr>\n",
       "</table><br/><br/>Notes:<br/>[1] Standard Errors assume that the covariance matrix of the errors is correctly specified."
      ],
      "text/plain": [
       "<class 'statsmodels.iolib.summary.Summary'>\n",
       "\"\"\"\n",
       "                            OLS Regression Results                            \n",
       "==============================================================================\n",
       "Dep. Variable:              price_log   R-squared:                       0.658\n",
       "Model:                            OLS   Adj. R-squared:                  0.658\n",
       "Method:                 Least Squares   F-statistic:                     3889.\n",
       "Date:                Sun, 05 Feb 2023   Prob (F-statistic):               0.00\n",
       "Time:                        10:24:48   Log-Likelihood:                -3866.0\n",
       "No. Observations:               16197   AIC:                             7750.\n",
       "Df Residuals:                   16188   BIC:                             7819.\n",
       "Df Model:                           8                                         \n",
       "Covariance Type:            nonrobust                                         \n",
       "===================================================================================\n",
       "                      coef    std err          t      P>|t|      [0.025      0.975]\n",
       "-----------------------------------------------------------------------------------\n",
       "const               6.4026      0.050    127.708      0.000       6.304       6.501\n",
       "sds_8              -0.0377      0.011     -3.283      0.001      -0.060      -0.015\n",
       "sds_9               0.1985      0.011     18.030      0.000       0.177       0.220\n",
       "sds_10              0.5745      0.010     60.429      0.000       0.556       0.593\n",
       "sds_11              0.4278      0.010     40.797      0.000       0.407       0.448\n",
       "sds_12              0.5945      0.010     57.837      0.000       0.574       0.615\n",
       "bedrooms           -0.0517      0.003    -15.618      0.000      -0.058      -0.045\n",
       "sqft_living_log     0.8501      0.007    114.942      0.000       0.836       0.865\n",
       "summer_purchase    -0.0067      0.005     -1.261      0.207      -0.017       0.004\n",
       "==============================================================================\n",
       "Omnibus:                      286.959   Durbin-Watson:                   2.028\n",
       "Prob(Omnibus):                  0.000   Jarque-Bera (JB):              440.252\n",
       "Skew:                           0.188   Prob(JB):                     2.52e-96\n",
       "Kurtosis:                       3.715   Cond. No.                         176.\n",
       "==============================================================================\n",
       "\n",
       "Notes:\n",
       "[1] Standard Errors assume that the covariance matrix of the errors is correctly specified.\n",
       "\"\"\""
      ]
     },
     "execution_count": 68,
     "metadata": {},
     "output_type": "execute_result"
    }
   ],
   "source": [
    "model = sm.OLS(y_train['price_log'], predictors).fit()\n",
    "model.summary()"
   ]
  },
  {
   "cell_type": "code",
   "execution_count": 69,
   "metadata": {},
   "outputs": [
    {
     "name": "stdout",
     "output_type": "stream",
     "text": [
      "train score: 0.6562643687307659\n",
      "test score: 0.6617333515575389\n"
     ]
    }
   ],
   "source": [
    "splitter = ShuffleSplit(n_splits=3, test_size=0.25, random_state=42)\n",
    "baseline_scores = cross_validate(\n",
    "                estimator=baseline_model,\n",
    "                X=predictors,\n",
    "                y=y_train['price_log'],\n",
    "                return_train_score=True,\n",
    "                cv=splitter)\n",
    "print('train score:', baseline_scores['train_score'].mean())\n",
    "print('test score:', baseline_scores['test_score'].mean())"
   ]
  },
  {
   "cell_type": "markdown",
   "metadata": {},
   "source": [
    "This looks like a better overall model now and a good place to consider it the final model. Let's apply the same transformations to X_test and see how it looks:"
   ]
  },
  {
   "cell_type": "code",
   "execution_count": 70,
   "metadata": {},
   "outputs": [],
   "source": [
    "y_test['price_log'] = np.log(y_test['price'])"
   ]
  },
  {
   "cell_type": "code",
   "execution_count": 71,
   "metadata": {},
   "outputs": [
    {
     "data": {
      "text/plain": [
       "LinearRegression()"
      ]
     },
     "execution_count": 71,
     "metadata": {},
     "output_type": "execute_result"
    }
   ],
   "source": [
    "final_model.fit(final_X_test_predictors, y_test['price_log'])"
   ]
  },
  {
   "cell_type": "code",
   "execution_count": 72,
   "metadata": {},
   "outputs": [
    {
     "data": {
      "text/plain": [
       "0.6661315268186173"
      ]
     },
     "execution_count": 72,
     "metadata": {},
     "output_type": "execute_result"
    }
   ],
   "source": [
    "final_model.score(final_X_test_predictors, y_test['price_log'])"
   ]
  },
  {
   "cell_type": "code",
   "execution_count": 73,
   "metadata": {},
   "outputs": [
    {
     "data": {
      "text/html": [
       "<table class=\"simpletable\">\n",
       "<caption>OLS Regression Results</caption>\n",
       "<tr>\n",
       "  <th>Dep. Variable:</th>        <td>price_log</td>    <th>  R-squared:         </th> <td>   0.666</td>\n",
       "</tr>\n",
       "<tr>\n",
       "  <th>Model:</th>                   <td>OLS</td>       <th>  Adj. R-squared:    </th> <td>   0.666</td>\n",
       "</tr>\n",
       "<tr>\n",
       "  <th>Method:</th>             <td>Least Squares</td>  <th>  F-statistic:       </th> <td>   1345.</td>\n",
       "</tr>\n",
       "<tr>\n",
       "  <th>Date:</th>             <td>Sun, 05 Feb 2023</td> <th>  Prob (F-statistic):</th>  <td>  0.00</td> \n",
       "</tr>\n",
       "<tr>\n",
       "  <th>Time:</th>                 <td>10:24:49</td>     <th>  Log-Likelihood:    </th> <td> -1279.9</td>\n",
       "</tr>\n",
       "<tr>\n",
       "  <th>No. Observations:</th>      <td>  5400</td>      <th>  AIC:               </th> <td>   2578.</td>\n",
       "</tr>\n",
       "<tr>\n",
       "  <th>Df Residuals:</th>          <td>  5391</td>      <th>  BIC:               </th> <td>   2637.</td>\n",
       "</tr>\n",
       "<tr>\n",
       "  <th>Df Model:</th>              <td>     8</td>      <th>                     </th>     <td> </td>   \n",
       "</tr>\n",
       "<tr>\n",
       "  <th>Covariance Type:</th>      <td>nonrobust</td>    <th>                     </th>     <td> </td>   \n",
       "</tr>\n",
       "</table>\n",
       "<table class=\"simpletable\">\n",
       "<tr>\n",
       "    <td></td>       <th>coef</th>     <th>std err</th>      <th>t</th>      <th>P>|t|</th>  <th>[0.025</th>    <th>0.975]</th>  \n",
       "</tr>\n",
       "<tr>\n",
       "  <th>const</th> <td>    6.3302</td> <td>    0.087</td> <td>   72.832</td> <td> 0.000</td> <td>    6.160</td> <td>    6.501</td>\n",
       "</tr>\n",
       "<tr>\n",
       "  <th>x1</th>    <td>   -0.0483</td> <td>    0.019</td> <td>   -2.480</td> <td> 0.013</td> <td>   -0.087</td> <td>   -0.010</td>\n",
       "</tr>\n",
       "<tr>\n",
       "  <th>x2</th>    <td>    0.1809</td> <td>    0.019</td> <td>    9.583</td> <td> 0.000</td> <td>    0.144</td> <td>    0.218</td>\n",
       "</tr>\n",
       "<tr>\n",
       "  <th>x3</th>    <td>    0.5582</td> <td>    0.016</td> <td>   34.505</td> <td> 0.000</td> <td>    0.526</td> <td>    0.590</td>\n",
       "</tr>\n",
       "<tr>\n",
       "  <th>x4</th>    <td>    0.4196</td> <td>    0.018</td> <td>   23.539</td> <td> 0.000</td> <td>    0.385</td> <td>    0.455</td>\n",
       "</tr>\n",
       "<tr>\n",
       "  <th>x5</th>    <td>    0.6047</td> <td>    0.018</td> <td>   34.496</td> <td> 0.000</td> <td>    0.570</td> <td>    0.639</td>\n",
       "</tr>\n",
       "<tr>\n",
       "  <th>x6</th>    <td>   -0.0668</td> <td>    0.006</td> <td>  -11.200</td> <td> 0.000</td> <td>   -0.078</td> <td>   -0.055</td>\n",
       "</tr>\n",
       "<tr>\n",
       "  <th>x7</th>    <td>    0.8692</td> <td>    0.013</td> <td>   67.357</td> <td> 0.000</td> <td>    0.844</td> <td>    0.895</td>\n",
       "</tr>\n",
       "<tr>\n",
       "  <th>x8</th>    <td>   -0.0109</td> <td>    0.009</td> <td>   -1.181</td> <td> 0.238</td> <td>   -0.029</td> <td>    0.007</td>\n",
       "</tr>\n",
       "</table>\n",
       "<table class=\"simpletable\">\n",
       "<tr>\n",
       "  <th>Omnibus:</th>       <td>140.655</td> <th>  Durbin-Watson:     </th> <td>   2.006</td>\n",
       "</tr>\n",
       "<tr>\n",
       "  <th>Prob(Omnibus):</th> <td> 0.000</td>  <th>  Jarque-Bera (JB):  </th> <td> 242.955</td>\n",
       "</tr>\n",
       "<tr>\n",
       "  <th>Skew:</th>          <td> 0.222</td>  <th>  Prob(JB):          </th> <td>1.75e-53</td>\n",
       "</tr>\n",
       "<tr>\n",
       "  <th>Kurtosis:</th>      <td> 3.939</td>  <th>  Cond. No.          </th> <td>    176.</td>\n",
       "</tr>\n",
       "</table><br/><br/>Notes:<br/>[1] Standard Errors assume that the covariance matrix of the errors is correctly specified."
      ],
      "text/plain": [
       "<class 'statsmodels.iolib.summary.Summary'>\n",
       "\"\"\"\n",
       "                            OLS Regression Results                            \n",
       "==============================================================================\n",
       "Dep. Variable:              price_log   R-squared:                       0.666\n",
       "Model:                            OLS   Adj. R-squared:                  0.666\n",
       "Method:                 Least Squares   F-statistic:                     1345.\n",
       "Date:                Sun, 05 Feb 2023   Prob (F-statistic):               0.00\n",
       "Time:                        10:24:49   Log-Likelihood:                -1279.9\n",
       "No. Observations:                5400   AIC:                             2578.\n",
       "Df Residuals:                    5391   BIC:                             2637.\n",
       "Df Model:                           8                                         \n",
       "Covariance Type:            nonrobust                                         \n",
       "==============================================================================\n",
       "                 coef    std err          t      P>|t|      [0.025      0.975]\n",
       "------------------------------------------------------------------------------\n",
       "const          6.3302      0.087     72.832      0.000       6.160       6.501\n",
       "x1            -0.0483      0.019     -2.480      0.013      -0.087      -0.010\n",
       "x2             0.1809      0.019      9.583      0.000       0.144       0.218\n",
       "x3             0.5582      0.016     34.505      0.000       0.526       0.590\n",
       "x4             0.4196      0.018     23.539      0.000       0.385       0.455\n",
       "x5             0.6047      0.018     34.496      0.000       0.570       0.639\n",
       "x6            -0.0668      0.006    -11.200      0.000      -0.078      -0.055\n",
       "x7             0.8692      0.013     67.357      0.000       0.844       0.895\n",
       "x8            -0.0109      0.009     -1.181      0.238      -0.029       0.007\n",
       "==============================================================================\n",
       "Omnibus:                      140.655   Durbin-Watson:                   2.006\n",
       "Prob(Omnibus):                  0.000   Jarque-Bera (JB):              242.955\n",
       "Skew:                           0.222   Prob(JB):                     1.75e-53\n",
       "Kurtosis:                       3.939   Cond. No.                         176.\n",
       "==============================================================================\n",
       "\n",
       "Notes:\n",
       "[1] Standard Errors assume that the covariance matrix of the errors is correctly specified.\n",
       "\"\"\""
      ]
     },
     "execution_count": 73,
     "metadata": {},
     "output_type": "execute_result"
    }
   ],
   "source": [
    "final_model_OLS = sm.OLS(y_test['price_log'], final_X_test_predictors).fit()\n",
    "final_model_OLS.summary()"
   ]
  },
  {
   "cell_type": "code",
   "execution_count": 74,
   "metadata": {},
   "outputs": [
    {
     "data": {
      "text/plain": [
       "array([12.64805644, 13.09819483, 13.16998758, ..., 13.42207709,\n",
       "       13.27256705, 12.91341989])"
      ]
     },
     "execution_count": 74,
     "metadata": {},
     "output_type": "execute_result"
    }
   ],
   "source": [
    "y_hat = final_model.predict(final_X_test_predictors)\n",
    "y_hat"
   ]
  },
  {
   "cell_type": "code",
   "execution_count": 76,
   "metadata": {},
   "outputs": [
    {
     "data": {
      "text/plain": [
       "0.3066921234957257"
      ]
     },
     "execution_count": 76,
     "metadata": {},
     "output_type": "execute_result"
    }
   ],
   "source": [
    "from sklearn.metrics import mean_squared_error\n",
    "mean_squared_error(y_test['price_log'], final_model.predict(final_X_test_predictors), squared=False)"
   ]
  },
  {
   "cell_type": "markdown",
   "metadata": {},
   "source": [
    "Great! Now let's check for the regression assumptions like linearity and normality:"
   ]
  },
  {
   "cell_type": "code",
   "execution_count": 77,
   "metadata": {},
   "outputs": [
    {
     "data": {
      "image/png": "[encoded data removed]",
      "text/plain": [
       "<Figure size 432x288 with 1 Axes>"
      ]
     },
     "metadata": {
      "needs_background": "light"
     },
     "output_type": "display_data"
    }
   ],
   "source": [
    "y_test_logged = y_test['price_log']\n",
    "fig, ax = plt.subplots()\n",
    "\n",
    "perfect_line = np.arange(y_test_logged.min(), y_test_logged.max())\n",
    "ax.plot(perfect_line, linestyle=\"--\", color=\"blue\", label=\"perfect fit\")\n",
    "ax.scatter(y_test_logged, y_test_logged, color=\"orange\", alpha=0.5)\n",
    "ax.set_xlabel(\"Actual Price (logarithmically transformed)\")\n",
    "ax.set_ylabel(\"Predicted Price (logarithmically transformed)\")\n",
    "ax.set_title(\"Linearity assumption check\")\n",
    "ax.legend();"
   ]
  },
  {
   "cell_type": "code",
   "execution_count": 78,
   "metadata": {},
   "outputs": [
    {
     "data": {
      "text/plain": [
       "(11.289781913656018, 15.769955609469426)"
      ]
     },
     "execution_count": 78,
     "metadata": {},
     "output_type": "execute_result"
    }
   ],
   "source": [
    "y_test_logged.min(), y_test_logged.max()"
   ]
  },
  {
   "cell_type": "markdown",
   "metadata": {},
   "source": [
    "I think the reason these two lines have the same slope but different intercepts probably deals with having logarithmically transformed our target variable. However, if the purpose of this graph is to show whether the data is meeting the linear assumption, I would say this is satisfactory. \n",
    "\n",
    "Now let's check for normailty and homoscedasticity:"
   ]
  },
  {
   "cell_type": "code",
   "execution_count": 79,
   "metadata": {},
   "outputs": [],
   "source": [
    "#training data predictors\n",
    "lm_train_predictions = final_model.predict(predictors)\n",
    "#test data predictors\n",
    "lm_test_predictions = final_model.predict(final_X_test_predictors)"
   ]
  },
  {
   "cell_type": "code",
   "execution_count": 80,
   "metadata": {},
   "outputs": [
    {
     "data": {
      "image/png": "[encoded data removed]",
      "text/plain": [
       "<Figure size 576x432 with 1 Axes>"
      ]
     },
     "metadata": {
      "needs_background": "light"
     },
     "output_type": "display_data"
    }
   ],
   "source": [
    "y_train_logged = y_train['price_log']\n",
    "\n",
    "plt.figure(figsize=(8,6))\n",
    "plt.scatter(y_train_logged, lm_train_predictions, alpha=0.2, label=\"model\")\n",
    "plt.plot(y_train_logged, y_train_logged, color='r', label=\"actual data\")\n",
    "plt.title(\"model vs. data for training set\")\n",
    "plt.legend();"
   ]
  },
  {
   "cell_type": "code",
   "execution_count": 81,
   "metadata": {},
   "outputs": [
    {
     "data": {
      "image/png": "[encoded data removed]",
      "text/plain": [
       "<Figure size 576x432 with 1 Axes>"
      ]
     },
     "metadata": {
      "needs_background": "light"
     },
     "output_type": "display_data"
    }
   ],
   "source": [
    "plt.figure(figsize=(8,6))\n",
    "plt.scatter(y_test_logged, lm_test_predictions, color='g', alpha=0.2, label=\"model\")\n",
    "plt.plot(y_test_logged, y_test_logged, color='r', label=\"actual data\")\n",
    "plt.title(\"model vs. data for test set\")\n",
    "plt.legend();"
   ]
  },
  {
   "cell_type": "code",
   "execution_count": 82,
   "metadata": {},
   "outputs": [
    {
     "data": {
      "image/png": "[encoded data removed]",
      "text/plain": [
       "<Figure size 432x288 with 1 Axes>"
      ]
     },
     "metadata": {
      "needs_background": "light"
     },
     "output_type": "display_data"
    }
   ],
   "source": [
    "residuals = (y_test_logged - lm_test_predictions)\n",
    "sm.graphics.qqplot(residuals, dist=stats.norm, line='45', fit=True)\n",
    "plt.show();"
   ]
  },
  {
   "cell_type": "code",
   "execution_count": 83,
   "metadata": {},
   "outputs": [
    {
     "data": {
      "image/png": "[encoded data removed]",
      "text/plain": [
       "<Figure size 432x288 with 1 Axes>"
      ]
     },
     "metadata": {
      "needs_background": "light"
     },
     "output_type": "display_data"
    }
   ],
   "source": [
    "fig, ax = plt.subplots()\n",
    "\n",
    "ax.scatter(lm_test_predictions, residuals, color='m', alpha=0.2)\n",
    "ax.plot(lm_test_predictions, [0 for i in range(len(X_test))], color='r')\n",
    "ax.set_xlabel(\"Predicted Value\")\n",
    "ax.set_ylabel(\"Actual - Predicted Value\");"
   ]
  },
  {
   "cell_type": "markdown",
   "metadata": {},
   "source": [
    "It looks like having logarithmically transformed our target variable improved our model's performance in regard to the R-squared score, RSME, and abiding by the assumptions of linear regression. Let's see if I can \"un-log\" the logged variables (price & square footage) in order to obtain more meaningful coefficients:"
   ]
  },
  {
   "cell_type": "code",
   "execution_count": 84,
   "metadata": {},
   "outputs": [
    {
     "data": {
      "text/plain": [
       "array([ 0.        , -0.04832207,  0.18093672,  0.55815081,  0.41958072,\n",
       "        0.60471489, -0.06677734,  0.8692217 , -0.01093996])"
      ]
     },
     "execution_count": 84,
     "metadata": {},
     "output_type": "execute_result"
    }
   ],
   "source": [
    "#First we isolate the coefficients from the final_model:\n",
    "final_model_coef = final_model.coef_ #index=final_X_test_predictors.columns, name=\"Coefficients\")\n",
    "final_model_coef"
   ]
  },
  {
   "cell_type": "code",
   "execution_count": 85,
   "metadata": {},
   "outputs": [],
   "source": [
    "final_model_coef_df = pd.DataFrame(final_model_coef)"
   ]
  },
  {
   "cell_type": "code",
   "execution_count": 86,
   "metadata": {},
   "outputs": [
    {
     "data": {
      "text/html": [
       "<div>\n",
       "<style scoped>\n",
       "    .dataframe tbody tr th:only-of-type {\n",
       "        vertical-align: middle;\n",
       "    }\n",
       "\n",
       "    .dataframe tbody tr th {\n",
       "        vertical-align: top;\n",
       "    }\n",
       "\n",
       "    .dataframe thead th {\n",
       "        text-align: right;\n",
       "    }\n",
       "</style>\n",
       "<table border=\"1\" class=\"dataframe\">\n",
       "  <thead>\n",
       "    <tr style=\"text-align: right;\">\n",
       "      <th></th>\n",
       "      <th>0</th>\n",
       "    </tr>\n",
       "  </thead>\n",
       "  <tbody>\n",
       "    <tr>\n",
       "      <th>0</th>\n",
       "      <td>0.000000</td>\n",
       "    </tr>\n",
       "    <tr>\n",
       "      <th>1</th>\n",
       "      <td>-0.048322</td>\n",
       "    </tr>\n",
       "    <tr>\n",
       "      <th>2</th>\n",
       "      <td>0.180937</td>\n",
       "    </tr>\n",
       "    <tr>\n",
       "      <th>3</th>\n",
       "      <td>0.558151</td>\n",
       "    </tr>\n",
       "    <tr>\n",
       "      <th>4</th>\n",
       "      <td>0.419581</td>\n",
       "    </tr>\n",
       "    <tr>\n",
       "      <th>5</th>\n",
       "      <td>0.604715</td>\n",
       "    </tr>\n",
       "    <tr>\n",
       "      <th>6</th>\n",
       "      <td>-0.066777</td>\n",
       "    </tr>\n",
       "    <tr>\n",
       "      <th>7</th>\n",
       "      <td>0.869222</td>\n",
       "    </tr>\n",
       "    <tr>\n",
       "      <th>8</th>\n",
       "      <td>-0.010940</td>\n",
       "    </tr>\n",
       "  </tbody>\n",
       "</table>\n",
       "</div>"
      ],
      "text/plain": [
       "          0\n",
       "0  0.000000\n",
       "1 -0.048322\n",
       "2  0.180937\n",
       "3  0.558151\n",
       "4  0.419581\n",
       "5  0.604715\n",
       "6 -0.066777\n",
       "7  0.869222\n",
       "8 -0.010940"
      ]
     },
     "execution_count": 86,
     "metadata": {},
     "output_type": "execute_result"
    }
   ],
   "source": [
    "#Now we pass an operation to \"unlog\" them, turning them into percentage changes instead except for \n",
    "# 'sqft_living_log' because it's already logged, so it already shows the percentage change:\n",
    "final_model_unlogged_showing_percentages_instead = final_model_coef_df.apply(lambda \\\n",
    "                                                    x: (np.exp(x)-1)*100 \\\n",
    "                                                    if x.index is x < 7 | x.index >= 8 else x)   \n",
    "final_model_unlogged_showing_percentages_instead"
   ]
  },
  {
   "cell_type": "code",
   "execution_count": 87,
   "metadata": {},
   "outputs": [
    {
     "data": {
      "text/html": [
       "<div>\n",
       "<style scoped>\n",
       "    .dataframe tbody tr th:only-of-type {\n",
       "        vertical-align: middle;\n",
       "    }\n",
       "\n",
       "    .dataframe tbody tr th {\n",
       "        vertical-align: top;\n",
       "    }\n",
       "\n",
       "    .dataframe thead th {\n",
       "        text-align: right;\n",
       "    }\n",
       "</style>\n",
       "<table border=\"1\" class=\"dataframe\">\n",
       "  <thead>\n",
       "    <tr style=\"text-align: right;\">\n",
       "      <th></th>\n",
       "      <th>0</th>\n",
       "    </tr>\n",
       "  </thead>\n",
       "  <tbody>\n",
       "    <tr>\n",
       "      <th>constant</th>\n",
       "      <td>0.000000</td>\n",
       "    </tr>\n",
       "    <tr>\n",
       "      <th>sds_8</th>\n",
       "      <td>-0.048322</td>\n",
       "    </tr>\n",
       "    <tr>\n",
       "      <th>sds_9</th>\n",
       "      <td>0.180937</td>\n",
       "    </tr>\n",
       "    <tr>\n",
       "      <th>sds_10</th>\n",
       "      <td>0.558151</td>\n",
       "    </tr>\n",
       "    <tr>\n",
       "      <th>sds_11</th>\n",
       "      <td>0.419581</td>\n",
       "    </tr>\n",
       "    <tr>\n",
       "      <th>sds_12</th>\n",
       "      <td>0.604715</td>\n",
       "    </tr>\n",
       "    <tr>\n",
       "      <th>bedrooms</th>\n",
       "      <td>-0.066777</td>\n",
       "    </tr>\n",
       "    <tr>\n",
       "      <th>sqft_living_log</th>\n",
       "      <td>0.869222</td>\n",
       "    </tr>\n",
       "    <tr>\n",
       "      <th>summer_purchase</th>\n",
       "      <td>-0.010940</td>\n",
       "    </tr>\n",
       "  </tbody>\n",
       "</table>\n",
       "</div>"
      ],
      "text/plain": [
       "                        0\n",
       "constant         0.000000\n",
       "sds_8           -0.048322\n",
       "sds_9            0.180937\n",
       "sds_10           0.558151\n",
       "sds_11           0.419581\n",
       "sds_12           0.604715\n",
       "bedrooms        -0.066777\n",
       "sqft_living_log  0.869222\n",
       "summer_purchase -0.010940"
      ]
     },
     "execution_count": 87,
     "metadata": {},
     "output_type": "execute_result"
    }
   ],
   "source": [
    "index = ['constant', 'sds_8', 'sds_9', 'sds_10', 'sds_11', 'sds_12',\\\n",
    "        'bedrooms', 'sqft_living_log', 'summer_purchase']\n",
    "\n",
    "final_model_unlogged_showing_percentages_instead.index =  list(index)\n",
    "final_model_unlogged_showing_percentages_instead"
   ]
  },
  {
   "cell_type": "code",
   "execution_count": 88,
   "metadata": {},
   "outputs": [
    {
     "data": {
      "text/html": [
       "<table class=\"simpletable\">\n",
       "<tr>\n",
       "         <td></td>            <th>coef</th>     <th>std err</th>      <th>t</th>      <th>P>|t|</th>  <th>[0.025</th>    <th>0.975]</th>  \n",
       "</tr>\n",
       "<tr>\n",
       "  <th>const</th>           <td>    6.4026</td> <td>    0.050</td> <td>  127.708</td> <td> 0.000</td> <td>    6.304</td> <td>    6.501</td>\n",
       "</tr>\n",
       "<tr>\n",
       "  <th>sds_8</th>           <td>   -0.0377</td> <td>    0.011</td> <td>   -3.283</td> <td> 0.001</td> <td>   -0.060</td> <td>   -0.015</td>\n",
       "</tr>\n",
       "<tr>\n",
       "  <th>sds_9</th>           <td>    0.1985</td> <td>    0.011</td> <td>   18.030</td> <td> 0.000</td> <td>    0.177</td> <td>    0.220</td>\n",
       "</tr>\n",
       "<tr>\n",
       "  <th>sds_10</th>          <td>    0.5745</td> <td>    0.010</td> <td>   60.429</td> <td> 0.000</td> <td>    0.556</td> <td>    0.593</td>\n",
       "</tr>\n",
       "<tr>\n",
       "  <th>sds_11</th>          <td>    0.4278</td> <td>    0.010</td> <td>   40.797</td> <td> 0.000</td> <td>    0.407</td> <td>    0.448</td>\n",
       "</tr>\n",
       "<tr>\n",
       "  <th>sds_12</th>          <td>    0.5945</td> <td>    0.010</td> <td>   57.837</td> <td> 0.000</td> <td>    0.574</td> <td>    0.615</td>\n",
       "</tr>\n",
       "<tr>\n",
       "  <th>bedrooms</th>        <td>   -0.0517</td> <td>    0.003</td> <td>  -15.618</td> <td> 0.000</td> <td>   -0.058</td> <td>   -0.045</td>\n",
       "</tr>\n",
       "<tr>\n",
       "  <th>sqft_living_log</th> <td>    0.8501</td> <td>    0.007</td> <td>  114.942</td> <td> 0.000</td> <td>    0.836</td> <td>    0.865</td>\n",
       "</tr>\n",
       "<tr>\n",
       "  <th>summer_purchase</th> <td>   -0.0067</td> <td>    0.005</td> <td>   -1.261</td> <td> 0.207</td> <td>   -0.017</td> <td>    0.004</td>\n",
       "</tr>\n",
       "</table>"
      ],
      "text/plain": [
       "<class 'statsmodels.iolib.table.SimpleTable'>"
      ]
     },
     "execution_count": 88,
     "metadata": {},
     "output_type": "execute_result"
    }
   ],
   "source": [
    "LRresult = (model.summary().tables[1])\n",
    "LRresult"
   ]
  },
  {
   "cell_type": "code",
   "execution_count": 89,
   "metadata": {},
   "outputs": [
    {
     "data": {
      "text/html": [
       "<div>\n",
       "<style scoped>\n",
       "    .dataframe tbody tr th:only-of-type {\n",
       "        vertical-align: middle;\n",
       "    }\n",
       "\n",
       "    .dataframe tbody tr th {\n",
       "        vertical-align: top;\n",
       "    }\n",
       "\n",
       "    .dataframe thead th {\n",
       "        text-align: right;\n",
       "    }\n",
       "</style>\n",
       "<table border=\"1\" class=\"dataframe\">\n",
       "  <thead>\n",
       "    <tr style=\"text-align: right;\">\n",
       "      <th></th>\n",
       "      <th>variable_name</th>\n",
       "      <th>coef</th>\n",
       "      <th>standard error</th>\n",
       "      <th>t-value</th>\n",
       "      <th>P&gt;|t|</th>\n",
       "      <th>[0.025</th>\n",
       "      <th>0.975]</th>\n",
       "    </tr>\n",
       "  </thead>\n",
       "  <tbody>\n",
       "    <tr>\n",
       "      <th></th>\n",
       "      <td></td>\n",
       "      <td>coef</td>\n",
       "      <td>std err</td>\n",
       "      <td>t</td>\n",
       "      <td>P&gt;|t|</td>\n",
       "      <td>[0.025</td>\n",
       "      <td>0.975]</td>\n",
       "    </tr>\n",
       "    <tr>\n",
       "      <th>constant</th>\n",
       "      <td>const</td>\n",
       "      <td>6.4026</td>\n",
       "      <td>0.050</td>\n",
       "      <td>127.708</td>\n",
       "      <td>0.000</td>\n",
       "      <td>6.304</td>\n",
       "      <td>6.501</td>\n",
       "    </tr>\n",
       "    <tr>\n",
       "      <th>sds_8</th>\n",
       "      <td>sds_8</td>\n",
       "      <td>-0.0377</td>\n",
       "      <td>0.011</td>\n",
       "      <td>-3.283</td>\n",
       "      <td>0.001</td>\n",
       "      <td>-0.060</td>\n",
       "      <td>-0.015</td>\n",
       "    </tr>\n",
       "    <tr>\n",
       "      <th>sds_9</th>\n",
       "      <td>sds_9</td>\n",
       "      <td>0.1985</td>\n",
       "      <td>0.011</td>\n",
       "      <td>18.030</td>\n",
       "      <td>0.000</td>\n",
       "      <td>0.177</td>\n",
       "      <td>0.220</td>\n",
       "    </tr>\n",
       "    <tr>\n",
       "      <th>sds_10</th>\n",
       "      <td>sds_10</td>\n",
       "      <td>0.5745</td>\n",
       "      <td>0.010</td>\n",
       "      <td>60.429</td>\n",
       "      <td>0.000</td>\n",
       "      <td>0.556</td>\n",
       "      <td>0.593</td>\n",
       "    </tr>\n",
       "    <tr>\n",
       "      <th>sds_11</th>\n",
       "      <td>sds_11</td>\n",
       "      <td>0.4278</td>\n",
       "      <td>0.010</td>\n",
       "      <td>40.797</td>\n",
       "      <td>0.000</td>\n",
       "      <td>0.407</td>\n",
       "      <td>0.448</td>\n",
       "    </tr>\n",
       "    <tr>\n",
       "      <th>sds_12</th>\n",
       "      <td>sds_12</td>\n",
       "      <td>0.5945</td>\n",
       "      <td>0.010</td>\n",
       "      <td>57.837</td>\n",
       "      <td>0.000</td>\n",
       "      <td>0.574</td>\n",
       "      <td>0.615</td>\n",
       "    </tr>\n",
       "    <tr>\n",
       "      <th>bedrooms</th>\n",
       "      <td>bedrooms</td>\n",
       "      <td>-0.0517</td>\n",
       "      <td>0.003</td>\n",
       "      <td>-15.618</td>\n",
       "      <td>0.000</td>\n",
       "      <td>-0.058</td>\n",
       "      <td>-0.045</td>\n",
       "    </tr>\n",
       "    <tr>\n",
       "      <th>sqft_living_log</th>\n",
       "      <td>sqft_living_log</td>\n",
       "      <td>0.8501</td>\n",
       "      <td>0.007</td>\n",
       "      <td>114.942</td>\n",
       "      <td>0.000</td>\n",
       "      <td>0.836</td>\n",
       "      <td>0.865</td>\n",
       "    </tr>\n",
       "    <tr>\n",
       "      <th>summer_purchase</th>\n",
       "      <td>summer_purchase</td>\n",
       "      <td>-0.0067</td>\n",
       "      <td>0.005</td>\n",
       "      <td>-1.261</td>\n",
       "      <td>0.207</td>\n",
       "      <td>-0.017</td>\n",
       "      <td>0.004</td>\n",
       "    </tr>\n",
       "  </tbody>\n",
       "</table>\n",
       "</div>"
      ],
      "text/plain": [
       "                   variable_name        coef standard error    t-value  \\\n",
       "                                        coef        std err          t   \n",
       "constant                   const      6.4026          0.050    127.708   \n",
       "sds_8                      sds_8     -0.0377          0.011     -3.283   \n",
       "sds_9                      sds_9      0.1985          0.011     18.030   \n",
       "sds_10                    sds_10      0.5745          0.010     60.429   \n",
       "sds_11                    sds_11      0.4278          0.010     40.797   \n",
       "sds_12                    sds_12      0.5945          0.010     57.837   \n",
       "bedrooms                bedrooms     -0.0517          0.003    -15.618   \n",
       "sqft_living_log  sqft_living_log      0.8501          0.007    114.942   \n",
       "summer_purchase  summer_purchase     -0.0067          0.005     -1.261   \n",
       "\n",
       "                  P>|t|     [0.025     0.975]  \n",
       "                  P>|t|     [0.025     0.975]  \n",
       "constant          0.000      6.304      6.501  \n",
       "sds_8             0.001     -0.060     -0.015  \n",
       "sds_9             0.000      0.177      0.220  \n",
       "sds_10            0.000      0.556      0.593  \n",
       "sds_11            0.000      0.407      0.448  \n",
       "sds_12            0.000      0.574      0.615  \n",
       "bedrooms          0.000     -0.058     -0.045  \n",
       "sqft_living_log   0.000      0.836      0.865  \n",
       "summer_purchase   0.207     -0.017      0.004  "
      ]
     },
     "execution_count": 89,
     "metadata": {},
     "output_type": "execute_result"
    }
   ],
   "source": [
    "index = ['', 'constant', 'sds_8', 'sds_9', 'sds_10', 'sds_11', 'sds_12',\\\n",
    "        'bedrooms', 'sqft_living_log', 'summer_purchase']\n",
    "ols_summary = pd.DataFrame(LRresult, \n",
    "                           index=index, \n",
    "                           columns = ['variable_name', 'coef', 'standard error', \\\n",
    "                                      't-value', 'P>|t|', '[0.025', '0.975]'])\n",
    "ols_summary"
   ]
  },
  {
   "cell_type": "code",
   "execution_count": 90,
   "metadata": {},
   "outputs": [
    {
     "data": {
      "text/html": [
       "<div>\n",
       "<style scoped>\n",
       "    .dataframe tbody tr th:only-of-type {\n",
       "        vertical-align: middle;\n",
       "    }\n",
       "\n",
       "    .dataframe tbody tr th {\n",
       "        vertical-align: top;\n",
       "    }\n",
       "\n",
       "    .dataframe thead th {\n",
       "        text-align: right;\n",
       "    }\n",
       "</style>\n",
       "<table border=\"1\" class=\"dataframe\">\n",
       "  <thead>\n",
       "    <tr style=\"text-align: right;\">\n",
       "      <th></th>\n",
       "      <th>coefficient as %</th>\n",
       "      <th>standard error</th>\n",
       "      <th>t-value</th>\n",
       "      <th>P&gt;|t|</th>\n",
       "      <th>[0.025</th>\n",
       "      <th>0.975]</th>\n",
       "    </tr>\n",
       "  </thead>\n",
       "  <tbody>\n",
       "    <tr>\n",
       "      <th>constant</th>\n",
       "      <td>0.000000</td>\n",
       "      <td>0.050</td>\n",
       "      <td>127.708</td>\n",
       "      <td>0.000</td>\n",
       "      <td>6.304</td>\n",
       "      <td>6.501</td>\n",
       "    </tr>\n",
       "    <tr>\n",
       "      <th>sds_8</th>\n",
       "      <td>-0.048322</td>\n",
       "      <td>0.011</td>\n",
       "      <td>-3.283</td>\n",
       "      <td>0.001</td>\n",
       "      <td>-0.060</td>\n",
       "      <td>-0.015</td>\n",
       "    </tr>\n",
       "    <tr>\n",
       "      <th>sds_9</th>\n",
       "      <td>0.180937</td>\n",
       "      <td>0.011</td>\n",
       "      <td>18.030</td>\n",
       "      <td>0.000</td>\n",
       "      <td>0.177</td>\n",
       "      <td>0.220</td>\n",
       "    </tr>\n",
       "    <tr>\n",
       "      <th>sds_10</th>\n",
       "      <td>0.558151</td>\n",
       "      <td>0.010</td>\n",
       "      <td>60.429</td>\n",
       "      <td>0.000</td>\n",
       "      <td>0.556</td>\n",
       "      <td>0.593</td>\n",
       "    </tr>\n",
       "    <tr>\n",
       "      <th>sds_11</th>\n",
       "      <td>0.419581</td>\n",
       "      <td>0.010</td>\n",
       "      <td>40.797</td>\n",
       "      <td>0.000</td>\n",
       "      <td>0.407</td>\n",
       "      <td>0.448</td>\n",
       "    </tr>\n",
       "    <tr>\n",
       "      <th>sds_12</th>\n",
       "      <td>0.604715</td>\n",
       "      <td>0.010</td>\n",
       "      <td>57.837</td>\n",
       "      <td>0.000</td>\n",
       "      <td>0.574</td>\n",
       "      <td>0.615</td>\n",
       "    </tr>\n",
       "    <tr>\n",
       "      <th>bedrooms</th>\n",
       "      <td>-0.066777</td>\n",
       "      <td>0.003</td>\n",
       "      <td>-15.618</td>\n",
       "      <td>0.000</td>\n",
       "      <td>-0.058</td>\n",
       "      <td>-0.045</td>\n",
       "    </tr>\n",
       "    <tr>\n",
       "      <th>sqft_living_log</th>\n",
       "      <td>0.869222</td>\n",
       "      <td>0.007</td>\n",
       "      <td>114.942</td>\n",
       "      <td>0.000</td>\n",
       "      <td>0.836</td>\n",
       "      <td>0.865</td>\n",
       "    </tr>\n",
       "    <tr>\n",
       "      <th>summer_purchase</th>\n",
       "      <td>-0.010940</td>\n",
       "      <td>0.005</td>\n",
       "      <td>-1.261</td>\n",
       "      <td>0.207</td>\n",
       "      <td>-0.017</td>\n",
       "      <td>0.004</td>\n",
       "    </tr>\n",
       "  </tbody>\n",
       "</table>\n",
       "</div>"
      ],
      "text/plain": [
       "                 coefficient as % standard error    t-value   P>|t|  \\\n",
       "constant                 0.000000          0.050    127.708   0.000   \n",
       "sds_8                   -0.048322          0.011     -3.283   0.001   \n",
       "sds_9                    0.180937          0.011     18.030   0.000   \n",
       "sds_10                   0.558151          0.010     60.429   0.000   \n",
       "sds_11                   0.419581          0.010     40.797   0.000   \n",
       "sds_12                   0.604715          0.010     57.837   0.000   \n",
       "bedrooms                -0.066777          0.003    -15.618   0.000   \n",
       "sqft_living_log          0.869222          0.007    114.942   0.000   \n",
       "summer_purchase         -0.010940          0.005     -1.261   0.207   \n",
       "\n",
       "                    [0.025     0.975]  \n",
       "constant             6.304      6.501  \n",
       "sds_8               -0.060     -0.015  \n",
       "sds_9                0.177      0.220  \n",
       "sds_10               0.556      0.593  \n",
       "sds_11               0.407      0.448  \n",
       "sds_12               0.574      0.615  \n",
       "bedrooms            -0.058     -0.045  \n",
       "sqft_living_log      0.836      0.865  \n",
       "summer_purchase     -0.017      0.004  "
      ]
     },
     "execution_count": 90,
     "metadata": {},
     "output_type": "execute_result"
    }
   ],
   "source": [
    "final_model_results = pd.concat([final_model_unlogged_showing_percentages_instead, ols_summary], axis=1)\n",
    "final_model_results = final_model_results.drop(['variable_name', 'coef'], axis=1)\n",
    "final_model_results = final_model_results.drop(final_model_results.tail(1).index)\n",
    "final_model_results = final_model_results.rename(columns={0: 'coefficient as %'})\n",
    "final_model_results"
   ]
  },
  {
   "cell_type": "markdown",
   "metadata": {},
   "source": [
    "In summary, this final model takes into account factors that atter to families with school age children, such as school districts, number of bedrooms, square footage, and the time of year families tend to move. The school district scores were seperated out, giving each district \"grade\" its own category using one-hot encoding. In order to avoid issues of multicollinearity, the first category ('sds_7') was dropped and considered the reference category. Subsequently, sds_8 through sds_12 show price percentage change from that reference sds_7. \n",
    "\n",
    "We see that, moving up from a district grade of 7, sds_8 has a negligible effect on price, while sds_9 through sds_12 show larger impacts on listing price. Interestingly, sds_10 shows a higher price increase than 11, but this may be due to the fact that there are more homes in school districts with a 10 grade score. \n",
    "\n",
    "It turns out that, despite what I often saw when searching for family home-buying priorities, the number of bedrooms didn't have too signficiant an impact on price. What's more is that price tended to *decrease* with more bedrooms. This may be due to the fact that King County spans urban, suburban, and rural areas and smaller homes in Seattle may sell for much more than larger homes further from the city. \n",
    "\n",
    "As we learned from our correlation heatmap earlier, no other single predictor increases listing price as much as square footage. While our stakeholder is almost certainly already well aware of this, the model can help inform them that each percentage increase in square footage correlates with a 0.86% increase in listing price, giving them more specific pricing recommendations to seller and buyers considering bids.\n",
    "\n",
    "Finally, while most families with school-age children move during the summer months when school isn't in session, they wouldn't have to worry about factoring that in to their bids; summer shows almost no correlation to listing price. \n",
    "\n",
    "Each of these correlations show a p-value less than the standard 0.05 alpha level. The model also has a reasonable condition number that shows multicollinearity and distributions of variables are not too big a concern. While the R-sqaured value of 0.666 isn't remarkably high, the tradeoff is more specific insight into a subgroup of buyers.\n",
    "\n",
    "In terms of our stakeholder, they could use this information to help advise seller clients on what to factor in when deciding on a listing price. While not every buyer is weighing options with kids in mind, those residing in higher-scoring school districts may want to consider raising their listing price accordingly. Buyers with kids can be informed on how much more to expect per school district score when it comes to placing a successful bid on a home. Ultimately, our stakeholder would be equipped on specific percentages from familial predictors to advise clients on both the selling and buying side of real estate."
   ]
  }
 ],
 "metadata": {
  "kernelspec": {
   "display_name": "Python 3",
   "language": "python",
   "name": "python3"
  },
  "language_info": {
   "codemirror_mode": {
    "name": "ipython",
    "version": 3
   },
   "file_extension": ".py",
   "mimetype": "text/x-python",
   "name": "python",
   "nbconvert_exporter": "python",
   "pygments_lexer": "ipython3",
   "version": "3.8.5"
  }
 },
 "nbformat": 4,
 "nbformat_minor": 2
}
